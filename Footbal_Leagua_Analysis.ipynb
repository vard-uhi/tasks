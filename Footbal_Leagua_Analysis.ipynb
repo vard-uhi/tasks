{
  "nbformat": 4,
  "nbformat_minor": 0,
  "metadata": {
    "colab": {
      "name": "Footbal Leagua Analysis.ipynb",
      "provenance": [],
      "collapsed_sections": [],
      "authorship_tag": "ABX9TyMRcwBGwuVUX1seXR3S7aF1",
      "include_colab_link": true
    },
    "kernelspec": {
      "name": "python3",
      "display_name": "Python 3"
    }
  },
  "cells": [
    {
      "cell_type": "markdown",
      "metadata": {
        "id": "view-in-github",
        "colab_type": "text"
      },
      "source": [
        "<a href=\"https://colab.research.google.com/github/vard-uhi/tasks/blob/main/Footbal_Leagua_Analysis.ipynb\" target=\"_parent\"><img src=\"https://colab.research.google.com/assets/colab-badge.svg\" alt=\"Open In Colab\"/></a>"
      ]
    },
    {
      "cell_type": "markdown",
      "metadata": {
        "id": "lusps0tcumtE"
      },
      "source": [
        "**Task 2**\n",
        "\n",
        "*Data: Historical Data of the different Footbal Leaguas*\n",
        "\n",
        "*Task: Choose a LEAGUE you prefer and solve the following problems*\n",
        "\n",
        "*   Calculate average number of goals for home and away teams per\n",
        "SEASON for that league and sort them descending order,Which clubs are\n",
        "more consistent ?\n",
        "*   Construct a plot to show how this number is changing over time.\n",
        "Hint:\n",
        "SEASON on x-axis. Show average Home goals and Away goals on the\n",
        "same plot. Be sure that your plot has appropriate axis names and titles.\n",
        "*   Find following clubs for each season: the best attack (top 5), the best defense (top5)\n",
        "\n"
      ]
    },
    {
      "cell_type": "code",
      "metadata": {
        "id": "GdYBYhgQtdru"
      },
      "source": [
        "#import libraries\n",
        "%matplotlib inline\n",
        "import matplotlib.pyplot as plt\n",
        "import seaborn as sns\n",
        "import pandas as pd\n",
        "import numpy as np"
      ],
      "execution_count": 1,
      "outputs": []
    },
    {
      "cell_type": "code",
      "metadata": {
        "id": "BAJNrTj7usdC",
        "outputId": "10ddaf47-870a-45a6-ee93-66237c9191f6",
        "colab": {
          "resources": {
            "http://localhost:8080/nbextensions/google.colab/files.js": {
              "data": "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",
              "ok": true,
              "headers": [
                [
                  "content-type",
                  "application/javascript"
                ]
              ],
              "status": 200,
              "status_text": ""
            }
          },
          "base_uri": "https://localhost:8080/",
          "height": 72
        }
      },
      "source": [
        "#load the data\n",
        "from google.colab import files\n",
        "data_to_load = files.upload()"
      ],
      "execution_count": 2,
      "outputs": [
        {
          "output_type": "display_data",
          "data": {
            "text/html": [
              "\n",
              "     <input type=\"file\" id=\"files-9b242a6d-2350-4c04-b060-d57e4d0e57f6\" name=\"files[]\" multiple disabled\n",
              "        style=\"border:none\" />\n",
              "     <output id=\"result-9b242a6d-2350-4c04-b060-d57e4d0e57f6\">\n",
              "      Upload widget is only available when the cell has been executed in the\n",
              "      current browser session. Please rerun this cell to enable.\n",
              "      </output>\n",
              "      <script src=\"/nbextensions/google.colab/files.js\"></script> "
            ],
            "text/plain": [
              "<IPython.core.display.HTML object>"
            ]
          },
          "metadata": {
            "tags": []
          }
        },
        {
          "output_type": "stream",
          "text": [
            "Saving data.csv to data.csv\n"
          ],
          "name": "stdout"
        }
      ]
    },
    {
      "cell_type": "code",
      "metadata": {
        "id": "EkUis89Au08h"
      },
      "source": [
        "import io\n",
        "# .read_csv() assigns the information from the initial *.csv file to this variable\n",
        "raw_data = pd.read_csv(io.BytesIO(data_to_load['data.csv']))"
      ],
      "execution_count": 3,
      "outputs": []
    },
    {
      "cell_type": "markdown",
      "metadata": {
        "id": "fudKvdV3veRb"
      },
      "source": [
        "**Checking the content of the dataset**"
      ]
    },
    {
      "cell_type": "code",
      "metadata": {
        "id": "kmFq9FwdvbcQ"
      },
      "source": [
        "#copying data\n",
        "df = raw_data.copy()"
      ],
      "execution_count": 4,
      "outputs": []
    },
    {
      "cell_type": "code",
      "metadata": {
        "id": "X2gFWJuyvlHj",
        "outputId": "5deecf0c-72a2-4734-f0f9-9b858e46fb94",
        "colab": {
          "base_uri": "https://localhost:8080/",
          "height": 204
        }
      },
      "source": [
        "df.head()"
      ],
      "execution_count": 5,
      "outputs": [
        {
          "output_type": "execute_result",
          "data": {
            "text/html": [
              "<div>\n",
              "<style scoped>\n",
              "    .dataframe tbody tr th:only-of-type {\n",
              "        vertical-align: middle;\n",
              "    }\n",
              "\n",
              "    .dataframe tbody tr th {\n",
              "        vertical-align: top;\n",
              "    }\n",
              "\n",
              "    .dataframe thead th {\n",
              "        text-align: right;\n",
              "    }\n",
              "</style>\n",
              "<table border=\"1\" class=\"dataframe\">\n",
              "  <thead>\n",
              "    <tr style=\"text-align: right;\">\n",
              "      <th></th>\n",
              "      <th>SEASON</th>\n",
              "      <th>COUNTRY</th>\n",
              "      <th>LEAGUE</th>\n",
              "      <th>DATE</th>\n",
              "      <th>HOMETEAM</th>\n",
              "      <th>AWAYTEAM</th>\n",
              "      <th>FTSC</th>\n",
              "      <th>FTR</th>\n",
              "      <th>FTHG</th>\n",
              "      <th>FTAG</th>\n",
              "      <th>FTTG</th>\n",
              "      <th>H</th>\n",
              "      <th>D</th>\n",
              "      <th>A</th>\n",
              "    </tr>\n",
              "  </thead>\n",
              "  <tbody>\n",
              "    <tr>\n",
              "      <th>0</th>\n",
              "      <td>1994.0</td>\n",
              "      <td>England</td>\n",
              "      <td>Premier League</td>\n",
              "      <td>1993-08-14</td>\n",
              "      <td>Arsenal</td>\n",
              "      <td>Coventry</td>\n",
              "      <td>0-3</td>\n",
              "      <td>A</td>\n",
              "      <td>0.0</td>\n",
              "      <td>3.0</td>\n",
              "      <td>3.0</td>\n",
              "      <td>NaN</td>\n",
              "      <td>NaN</td>\n",
              "      <td>NaN</td>\n",
              "    </tr>\n",
              "    <tr>\n",
              "      <th>1</th>\n",
              "      <td>1994.0</td>\n",
              "      <td>England</td>\n",
              "      <td>Premier League</td>\n",
              "      <td>1993-08-14</td>\n",
              "      <td>Aston Villa</td>\n",
              "      <td>QPR</td>\n",
              "      <td>4-1</td>\n",
              "      <td>H</td>\n",
              "      <td>4.0</td>\n",
              "      <td>1.0</td>\n",
              "      <td>5.0</td>\n",
              "      <td>NaN</td>\n",
              "      <td>NaN</td>\n",
              "      <td>NaN</td>\n",
              "    </tr>\n",
              "    <tr>\n",
              "      <th>2</th>\n",
              "      <td>1994.0</td>\n",
              "      <td>England</td>\n",
              "      <td>Premier League</td>\n",
              "      <td>1993-08-14</td>\n",
              "      <td>Chelsea</td>\n",
              "      <td>Blackburn</td>\n",
              "      <td>1-2</td>\n",
              "      <td>A</td>\n",
              "      <td>1.0</td>\n",
              "      <td>2.0</td>\n",
              "      <td>3.0</td>\n",
              "      <td>NaN</td>\n",
              "      <td>NaN</td>\n",
              "      <td>NaN</td>\n",
              "    </tr>\n",
              "    <tr>\n",
              "      <th>3</th>\n",
              "      <td>1994.0</td>\n",
              "      <td>England</td>\n",
              "      <td>Premier League</td>\n",
              "      <td>1993-08-14</td>\n",
              "      <td>Liverpool</td>\n",
              "      <td>Sheffield Weds</td>\n",
              "      <td>2-0</td>\n",
              "      <td>H</td>\n",
              "      <td>2.0</td>\n",
              "      <td>0.0</td>\n",
              "      <td>2.0</td>\n",
              "      <td>NaN</td>\n",
              "      <td>NaN</td>\n",
              "      <td>NaN</td>\n",
              "    </tr>\n",
              "    <tr>\n",
              "      <th>4</th>\n",
              "      <td>1994.0</td>\n",
              "      <td>England</td>\n",
              "      <td>Premier League</td>\n",
              "      <td>1993-08-14</td>\n",
              "      <td>Man City</td>\n",
              "      <td>Leeds</td>\n",
              "      <td>1-1</td>\n",
              "      <td>D</td>\n",
              "      <td>1.0</td>\n",
              "      <td>1.0</td>\n",
              "      <td>2.0</td>\n",
              "      <td>NaN</td>\n",
              "      <td>NaN</td>\n",
              "      <td>NaN</td>\n",
              "    </tr>\n",
              "  </tbody>\n",
              "</table>\n",
              "</div>"
            ],
            "text/plain": [
              "   SEASON  COUNTRY          LEAGUE        DATE  ... FTTG   H   D   A\n",
              "0  1994.0  England  Premier League  1993-08-14  ...  3.0 NaN NaN NaN\n",
              "1  1994.0  England  Premier League  1993-08-14  ...  5.0 NaN NaN NaN\n",
              "2  1994.0  England  Premier League  1993-08-14  ...  3.0 NaN NaN NaN\n",
              "3  1994.0  England  Premier League  1993-08-14  ...  2.0 NaN NaN NaN\n",
              "4  1994.0  England  Premier League  1993-08-14  ...  2.0 NaN NaN NaN\n",
              "\n",
              "[5 rows x 14 columns]"
            ]
          },
          "metadata": {
            "tags": []
          },
          "execution_count": 5
        }
      ]
    },
    {
      "cell_type": "code",
      "metadata": {
        "id": "uKBTXZ-ovnbn",
        "outputId": "25bbab66-da42-4770-d12d-2de342f63a97",
        "colab": {
          "base_uri": "https://localhost:8080/"
        }
      },
      "source": [
        "#checking unique value to choose one for the analysis\n",
        "df['LEAGUE'].unique()"
      ],
      "execution_count": 6,
      "outputs": [
        {
          "output_type": "execute_result",
          "data": {
            "text/plain": [
              "array(['Premier League', 'Bundesliga 1', 'La Liga Primera Division',\n",
              "       'Serie A', 'Le Championnat', 'Eredivisie', 'Liga I',\n",
              "       'Futbol Ligi 1', 'Ethniki Katigoria', 'Jupiler League'],\n",
              "      dtype=object)"
            ]
          },
          "metadata": {
            "tags": []
          },
          "execution_count": 6
        }
      ]
    },
    {
      "cell_type": "markdown",
      "metadata": {
        "id": "orFnhVAHvsb3"
      },
      "source": [
        "I will choose 'La Liga Primera Division' as an object for furthur analysis."
      ]
    },
    {
      "cell_type": "markdown",
      "metadata": {
        "id": "Qx2FRRjEvvSZ"
      },
      "source": [
        "# **Exploratory Data Analysis of the \"La Liga Primera Division\"**"
      ]
    },
    {
      "cell_type": "code",
      "metadata": {
        "id": "IE_C2xMwvp-L",
        "outputId": "9aa31355-ff36-4338-e85e-afe7e469f929",
        "colab": {
          "base_uri": "https://localhost:8080/"
        }
      },
      "source": [
        "#general summary\n",
        "df.info()"
      ],
      "execution_count": 7,
      "outputs": [
        {
          "output_type": "stream",
          "text": [
            "<class 'pandas.core.frame.DataFrame'>\n",
            "RangeIndex: 87816 entries, 0 to 87815\n",
            "Data columns (total 14 columns):\n",
            " #   Column    Non-Null Count  Dtype  \n",
            "---  ------    --------------  -----  \n",
            " 0   SEASON    87816 non-null  float64\n",
            " 1   COUNTRY   87816 non-null  object \n",
            " 2   LEAGUE    87816 non-null  object \n",
            " 3   DATE      87816 non-null  object \n",
            " 4   HOMETEAM  87816 non-null  object \n",
            " 5   AWAYTEAM  87816 non-null  object \n",
            " 6   FTSC      87816 non-null  object \n",
            " 7   FTR       87814 non-null  object \n",
            " 8   FTHG      87814 non-null  float64\n",
            " 9   FTAG      87814 non-null  float64\n",
            " 10  FTTG      87814 non-null  float64\n",
            " 11  H         57660 non-null  float64\n",
            " 12  D         57660 non-null  float64\n",
            " 13  A         57660 non-null  float64\n",
            "dtypes: float64(7), object(7)\n",
            "memory usage: 9.4+ MB\n"
          ],
          "name": "stdout"
        }
      ]
    },
    {
      "cell_type": "code",
      "metadata": {
        "id": "OwqZCmOd4_sm"
      },
      "source": [
        "#changing datatype of the \"Season\" from float to integer\n",
        "df.SEASON = df.SEASON.astype(int)"
      ],
      "execution_count": 8,
      "outputs": []
    },
    {
      "cell_type": "code",
      "metadata": {
        "id": "OB8JCXf553Yv",
        "outputId": "a2d79ec3-bfdb-4371-ea6d-7d6e7f117cdf",
        "colab": {
          "base_uri": "https://localhost:8080/"
        }
      },
      "source": [
        "type(df['SEASON'][0])"
      ],
      "execution_count": 9,
      "outputs": [
        {
          "output_type": "execute_result",
          "data": {
            "text/plain": [
              "numpy.int64"
            ]
          },
          "metadata": {
            "tags": []
          },
          "execution_count": 9
        }
      ]
    },
    {
      "cell_type": "code",
      "metadata": {
        "id": "pT-q7K5Xv4Lg"
      },
      "source": [
        "#creating new dataframe with chosen category from \"League\"\n",
        "df_new = df[df.LEAGUE == 'La Liga Primera Division']"
      ],
      "execution_count": 10,
      "outputs": []
    },
    {
      "cell_type": "code",
      "metadata": {
        "id": "oA_-1I3Cv71F",
        "outputId": "e366d2af-73ce-402c-fa42-cadba7b5bb38",
        "colab": {
          "base_uri": "https://localhost:8080/",
          "height": 204
        }
      },
      "source": [
        "#to see dataset's first few rows\n",
        "df_new.head()"
      ],
      "execution_count": 11,
      "outputs": [
        {
          "output_type": "execute_result",
          "data": {
            "text/html": [
              "<div>\n",
              "<style scoped>\n",
              "    .dataframe tbody tr th:only-of-type {\n",
              "        vertical-align: middle;\n",
              "    }\n",
              "\n",
              "    .dataframe tbody tr th {\n",
              "        vertical-align: top;\n",
              "    }\n",
              "\n",
              "    .dataframe thead th {\n",
              "        text-align: right;\n",
              "    }\n",
              "</style>\n",
              "<table border=\"1\" class=\"dataframe\">\n",
              "  <thead>\n",
              "    <tr style=\"text-align: right;\">\n",
              "      <th></th>\n",
              "      <th>SEASON</th>\n",
              "      <th>COUNTRY</th>\n",
              "      <th>LEAGUE</th>\n",
              "      <th>DATE</th>\n",
              "      <th>HOMETEAM</th>\n",
              "      <th>AWAYTEAM</th>\n",
              "      <th>FTSC</th>\n",
              "      <th>FTR</th>\n",
              "      <th>FTHG</th>\n",
              "      <th>FTAG</th>\n",
              "      <th>FTTG</th>\n",
              "      <th>H</th>\n",
              "      <th>D</th>\n",
              "      <th>A</th>\n",
              "    </tr>\n",
              "  </thead>\n",
              "  <tbody>\n",
              "    <tr>\n",
              "      <th>768</th>\n",
              "      <td>1994</td>\n",
              "      <td>Spain</td>\n",
              "      <td>La Liga Primera Division</td>\n",
              "      <td>1993-09-05</td>\n",
              "      <td>Ath Bilbao</td>\n",
              "      <td>Albacete</td>\n",
              "      <td>4-1</td>\n",
              "      <td>H</td>\n",
              "      <td>4.0</td>\n",
              "      <td>1.0</td>\n",
              "      <td>5.0</td>\n",
              "      <td>NaN</td>\n",
              "      <td>NaN</td>\n",
              "      <td>NaN</td>\n",
              "    </tr>\n",
              "    <tr>\n",
              "      <th>769</th>\n",
              "      <td>1994</td>\n",
              "      <td>Spain</td>\n",
              "      <td>La Liga Primera Division</td>\n",
              "      <td>1993-09-05</td>\n",
              "      <td>Ath Madrid</td>\n",
              "      <td>Logrones</td>\n",
              "      <td>1-0</td>\n",
              "      <td>H</td>\n",
              "      <td>1.0</td>\n",
              "      <td>0.0</td>\n",
              "      <td>1.0</td>\n",
              "      <td>NaN</td>\n",
              "      <td>NaN</td>\n",
              "      <td>NaN</td>\n",
              "    </tr>\n",
              "    <tr>\n",
              "      <th>770</th>\n",
              "      <td>1994</td>\n",
              "      <td>Spain</td>\n",
              "      <td>La Liga Primera Division</td>\n",
              "      <td>1993-09-05</td>\n",
              "      <td>Barcelona</td>\n",
              "      <td>Sociedad</td>\n",
              "      <td>3-0</td>\n",
              "      <td>H</td>\n",
              "      <td>3.0</td>\n",
              "      <td>0.0</td>\n",
              "      <td>3.0</td>\n",
              "      <td>NaN</td>\n",
              "      <td>NaN</td>\n",
              "      <td>NaN</td>\n",
              "    </tr>\n",
              "    <tr>\n",
              "      <th>771</th>\n",
              "      <td>1994</td>\n",
              "      <td>Spain</td>\n",
              "      <td>La Liga Primera Division</td>\n",
              "      <td>1993-09-05</td>\n",
              "      <td>La Coruna</td>\n",
              "      <td>Celta</td>\n",
              "      <td>0-0</td>\n",
              "      <td>D</td>\n",
              "      <td>0.0</td>\n",
              "      <td>0.0</td>\n",
              "      <td>0.0</td>\n",
              "      <td>NaN</td>\n",
              "      <td>NaN</td>\n",
              "      <td>NaN</td>\n",
              "    </tr>\n",
              "    <tr>\n",
              "      <th>772</th>\n",
              "      <td>1994</td>\n",
              "      <td>Spain</td>\n",
              "      <td>La Liga Primera Division</td>\n",
              "      <td>1993-09-05</td>\n",
              "      <td>Osasuna</td>\n",
              "      <td>Real Madrid</td>\n",
              "      <td>1-4</td>\n",
              "      <td>A</td>\n",
              "      <td>1.0</td>\n",
              "      <td>4.0</td>\n",
              "      <td>5.0</td>\n",
              "      <td>NaN</td>\n",
              "      <td>NaN</td>\n",
              "      <td>NaN</td>\n",
              "    </tr>\n",
              "  </tbody>\n",
              "</table>\n",
              "</div>"
            ],
            "text/plain": [
              "     SEASON COUNTRY                    LEAGUE        DATE  ... FTTG   H   D   A\n",
              "768    1994   Spain  La Liga Primera Division  1993-09-05  ...  5.0 NaN NaN NaN\n",
              "769    1994   Spain  La Liga Primera Division  1993-09-05  ...  1.0 NaN NaN NaN\n",
              "770    1994   Spain  La Liga Primera Division  1993-09-05  ...  3.0 NaN NaN NaN\n",
              "771    1994   Spain  La Liga Primera Division  1993-09-05  ...  0.0 NaN NaN NaN\n",
              "772    1994   Spain  La Liga Primera Division  1993-09-05  ...  5.0 NaN NaN NaN\n",
              "\n",
              "[5 rows x 14 columns]"
            ]
          },
          "metadata": {
            "tags": []
          },
          "execution_count": 11
        }
      ]
    },
    {
      "cell_type": "markdown",
      "metadata": {
        "id": "6j9OTG0jBpDD"
      },
      "source": [
        "As we are not going to use \"H\", \"D\" and \"A\" features in our analysis, I will drop them and will aso get rid of the missing values."
      ]
    },
    {
      "cell_type": "code",
      "metadata": {
        "id": "ZeCfwn4ceDW1"
      },
      "source": [
        "df_new.drop(['H','D','A'], axis=1, inplace=True)"
      ],
      "execution_count": null,
      "outputs": []
    },
    {
      "cell_type": "code",
      "metadata": {
        "id": "LcJp6ALtv-pw",
        "outputId": "3af9f01e-9f14-4184-d1fd-8bfc8e2413c0",
        "colab": {
          "base_uri": "https://localhost:8080/"
        }
      },
      "source": [
        "df_new.info()"
      ],
      "execution_count": 14,
      "outputs": [
        {
          "output_type": "stream",
          "text": [
            "<class 'pandas.core.frame.DataFrame'>\n",
            "Int64Index: 10044 entries, 768 to 85657\n",
            "Data columns (total 11 columns):\n",
            " #   Column    Non-Null Count  Dtype  \n",
            "---  ------    --------------  -----  \n",
            " 0   SEASON    10044 non-null  int64  \n",
            " 1   COUNTRY   10044 non-null  object \n",
            " 2   LEAGUE    10044 non-null  object \n",
            " 3   DATE      10044 non-null  object \n",
            " 4   HOMETEAM  10044 non-null  object \n",
            " 5   AWAYTEAM  10044 non-null  object \n",
            " 6   FTSC      10044 non-null  object \n",
            " 7   FTR       10044 non-null  object \n",
            " 8   FTHG      10044 non-null  float64\n",
            " 9   FTAG      10044 non-null  float64\n",
            " 10  FTTG      10044 non-null  float64\n",
            "dtypes: float64(3), int64(1), object(7)\n",
            "memory usage: 941.6+ KB\n"
          ],
          "name": "stdout"
        }
      ]
    },
    {
      "cell_type": "code",
      "metadata": {
        "id": "_Rtsf2DZwBRp"
      },
      "source": [
        "#reset index\n",
        "df_new = df_new.reset_index(drop=True)"
      ],
      "execution_count": 15,
      "outputs": []
    },
    {
      "cell_type": "code",
      "metadata": {
        "id": "JXona6N3wENe",
        "outputId": "7d53eaf9-58b4-4dd8-f1d5-0cee234b5abb",
        "colab": {
          "base_uri": "https://localhost:8080/",
          "height": 204
        }
      },
      "source": [
        "#first few rows\n",
        "df_new.head()"
      ],
      "execution_count": 16,
      "outputs": [
        {
          "output_type": "execute_result",
          "data": {
            "text/html": [
              "<div>\n",
              "<style scoped>\n",
              "    .dataframe tbody tr th:only-of-type {\n",
              "        vertical-align: middle;\n",
              "    }\n",
              "\n",
              "    .dataframe tbody tr th {\n",
              "        vertical-align: top;\n",
              "    }\n",
              "\n",
              "    .dataframe thead th {\n",
              "        text-align: right;\n",
              "    }\n",
              "</style>\n",
              "<table border=\"1\" class=\"dataframe\">\n",
              "  <thead>\n",
              "    <tr style=\"text-align: right;\">\n",
              "      <th></th>\n",
              "      <th>SEASON</th>\n",
              "      <th>COUNTRY</th>\n",
              "      <th>LEAGUE</th>\n",
              "      <th>DATE</th>\n",
              "      <th>HOMETEAM</th>\n",
              "      <th>AWAYTEAM</th>\n",
              "      <th>FTSC</th>\n",
              "      <th>FTR</th>\n",
              "      <th>FTHG</th>\n",
              "      <th>FTAG</th>\n",
              "      <th>FTTG</th>\n",
              "    </tr>\n",
              "  </thead>\n",
              "  <tbody>\n",
              "    <tr>\n",
              "      <th>0</th>\n",
              "      <td>1994</td>\n",
              "      <td>Spain</td>\n",
              "      <td>La Liga Primera Division</td>\n",
              "      <td>1993-09-05</td>\n",
              "      <td>Ath Bilbao</td>\n",
              "      <td>Albacete</td>\n",
              "      <td>4-1</td>\n",
              "      <td>H</td>\n",
              "      <td>4.0</td>\n",
              "      <td>1.0</td>\n",
              "      <td>5.0</td>\n",
              "    </tr>\n",
              "    <tr>\n",
              "      <th>1</th>\n",
              "      <td>1994</td>\n",
              "      <td>Spain</td>\n",
              "      <td>La Liga Primera Division</td>\n",
              "      <td>1993-09-05</td>\n",
              "      <td>Ath Madrid</td>\n",
              "      <td>Logrones</td>\n",
              "      <td>1-0</td>\n",
              "      <td>H</td>\n",
              "      <td>1.0</td>\n",
              "      <td>0.0</td>\n",
              "      <td>1.0</td>\n",
              "    </tr>\n",
              "    <tr>\n",
              "      <th>2</th>\n",
              "      <td>1994</td>\n",
              "      <td>Spain</td>\n",
              "      <td>La Liga Primera Division</td>\n",
              "      <td>1993-09-05</td>\n",
              "      <td>Barcelona</td>\n",
              "      <td>Sociedad</td>\n",
              "      <td>3-0</td>\n",
              "      <td>H</td>\n",
              "      <td>3.0</td>\n",
              "      <td>0.0</td>\n",
              "      <td>3.0</td>\n",
              "    </tr>\n",
              "    <tr>\n",
              "      <th>3</th>\n",
              "      <td>1994</td>\n",
              "      <td>Spain</td>\n",
              "      <td>La Liga Primera Division</td>\n",
              "      <td>1993-09-05</td>\n",
              "      <td>La Coruna</td>\n",
              "      <td>Celta</td>\n",
              "      <td>0-0</td>\n",
              "      <td>D</td>\n",
              "      <td>0.0</td>\n",
              "      <td>0.0</td>\n",
              "      <td>0.0</td>\n",
              "    </tr>\n",
              "    <tr>\n",
              "      <th>4</th>\n",
              "      <td>1994</td>\n",
              "      <td>Spain</td>\n",
              "      <td>La Liga Primera Division</td>\n",
              "      <td>1993-09-05</td>\n",
              "      <td>Osasuna</td>\n",
              "      <td>Real Madrid</td>\n",
              "      <td>1-4</td>\n",
              "      <td>A</td>\n",
              "      <td>1.0</td>\n",
              "      <td>4.0</td>\n",
              "      <td>5.0</td>\n",
              "    </tr>\n",
              "  </tbody>\n",
              "</table>\n",
              "</div>"
            ],
            "text/plain": [
              "   SEASON COUNTRY                    LEAGUE        DATE  ... FTR FTHG FTAG FTTG\n",
              "0    1994   Spain  La Liga Primera Division  1993-09-05  ...   H  4.0  1.0  5.0\n",
              "1    1994   Spain  La Liga Primera Division  1993-09-05  ...   H  1.0  0.0  1.0\n",
              "2    1994   Spain  La Liga Primera Division  1993-09-05  ...   H  3.0  0.0  3.0\n",
              "3    1994   Spain  La Liga Primera Division  1993-09-05  ...   D  0.0  0.0  0.0\n",
              "4    1994   Spain  La Liga Primera Division  1993-09-05  ...   A  1.0  4.0  5.0\n",
              "\n",
              "[5 rows x 11 columns]"
            ]
          },
          "metadata": {
            "tags": []
          },
          "execution_count": 16
        }
      ]
    },
    {
      "cell_type": "code",
      "metadata": {
        "id": "3OKN4w60wHK4",
        "outputId": "ee890141-33be-4c72-9a59-483ca732bedb",
        "colab": {
          "base_uri": "https://localhost:8080/"
        }
      },
      "source": [
        "#looking at unique values in \"Season\" to have an understanding of the timeframe of the data\n",
        "df_new['SEASON'].unique()"
      ],
      "execution_count": null,
      "outputs": [
        {
          "output_type": "execute_result",
          "data": {
            "text/plain": [
              "array([1994, 1995, 1996, 1997, 1998, 1999, 2000, 2001, 2002, 2003, 2004,\n",
              "       2005, 2006, 2007, 2008, 2009, 2010, 2011, 2012, 2013, 2014, 2015,\n",
              "       2016, 2017, 2018, 2019])"
            ]
          },
          "metadata": {
            "tags": []
          },
          "execution_count": 16
        }
      ]
    },
    {
      "cell_type": "markdown",
      "metadata": {
        "id": "BiGVS6BOwOvq"
      },
      "source": [
        "# **Calculate average number of goals for home and away teams per SEASON for that league and sort them descending order. Which clubs are more consistent?**"
      ]
    },
    {
      "cell_type": "markdown",
      "metadata": {
        "id": "IojKDKbNwXfC"
      },
      "source": [
        "Abbreviations:\n",
        "\n",
        "* FTSC = Full Time Score\n",
        "* FTR = Full Time Result  \n",
        "* FTHG = Full Time Home Team Goals\t\n",
        "* FTAG = Full Time Away Team Goals\n",
        "* FTTG = Full Time Total Goal\n",
        "* H = Home Win\n",
        "* D = Draw \n",
        "* A = Away Win"
      ]
    },
    {
      "cell_type": "code",
      "metadata": {
        "id": "fVbN2NGcwLxA",
        "outputId": "0f720d55-0b96-4e1d-b54e-d6afb2f8cace",
        "colab": {
          "base_uri": "https://localhost:8080/",
          "height": 204
        }
      },
      "source": [
        "new_df_season.head()"
      ],
      "execution_count": null,
      "outputs": [
        {
          "output_type": "execute_result",
          "data": {
            "text/html": [
              "<div>\n",
              "<style scoped>\n",
              "    .dataframe tbody tr th:only-of-type {\n",
              "        vertical-align: middle;\n",
              "    }\n",
              "\n",
              "    .dataframe tbody tr th {\n",
              "        vertical-align: top;\n",
              "    }\n",
              "\n",
              "    .dataframe thead th {\n",
              "        text-align: right;\n",
              "    }\n",
              "</style>\n",
              "<table border=\"1\" class=\"dataframe\">\n",
              "  <thead>\n",
              "    <tr style=\"text-align: right;\">\n",
              "      <th></th>\n",
              "      <th>SEASON</th>\n",
              "      <th>COUNTRY</th>\n",
              "      <th>LEAGUE</th>\n",
              "      <th>DATE</th>\n",
              "      <th>HOMETEAM</th>\n",
              "      <th>AWAYTEAM</th>\n",
              "      <th>FTSC</th>\n",
              "      <th>FTR</th>\n",
              "      <th>FTHG</th>\n",
              "      <th>FTAG</th>\n",
              "      <th>FTTG</th>\n",
              "    </tr>\n",
              "  </thead>\n",
              "  <tbody>\n",
              "    <tr>\n",
              "      <th>81826</th>\n",
              "      <td>2018</td>\n",
              "      <td>Spain</td>\n",
              "      <td>La Liga Primera Division</td>\n",
              "      <td>2017-08-18</td>\n",
              "      <td>Leganes</td>\n",
              "      <td>Alaves</td>\n",
              "      <td>1-0</td>\n",
              "      <td>H</td>\n",
              "      <td>1.0</td>\n",
              "      <td>0.0</td>\n",
              "      <td>1.0</td>\n",
              "    </tr>\n",
              "    <tr>\n",
              "      <th>81827</th>\n",
              "      <td>2018</td>\n",
              "      <td>Spain</td>\n",
              "      <td>La Liga Primera Division</td>\n",
              "      <td>2017-08-18</td>\n",
              "      <td>Valencia</td>\n",
              "      <td>Las Palmas</td>\n",
              "      <td>1-0</td>\n",
              "      <td>H</td>\n",
              "      <td>1.0</td>\n",
              "      <td>0.0</td>\n",
              "      <td>1.0</td>\n",
              "    </tr>\n",
              "    <tr>\n",
              "      <th>81828</th>\n",
              "      <td>2018</td>\n",
              "      <td>Spain</td>\n",
              "      <td>La Liga Primera Division</td>\n",
              "      <td>2017-08-19</td>\n",
              "      <td>Celta</td>\n",
              "      <td>Sociedad</td>\n",
              "      <td>2-3</td>\n",
              "      <td>A</td>\n",
              "      <td>2.0</td>\n",
              "      <td>3.0</td>\n",
              "      <td>5.0</td>\n",
              "    </tr>\n",
              "    <tr>\n",
              "      <th>81829</th>\n",
              "      <td>2018</td>\n",
              "      <td>Spain</td>\n",
              "      <td>La Liga Primera Division</td>\n",
              "      <td>2017-08-19</td>\n",
              "      <td>Girona</td>\n",
              "      <td>Ath Madrid</td>\n",
              "      <td>2-2</td>\n",
              "      <td>D</td>\n",
              "      <td>2.0</td>\n",
              "      <td>2.0</td>\n",
              "      <td>4.0</td>\n",
              "    </tr>\n",
              "    <tr>\n",
              "      <th>81830</th>\n",
              "      <td>2018</td>\n",
              "      <td>Spain</td>\n",
              "      <td>La Liga Primera Division</td>\n",
              "      <td>2017-08-19</td>\n",
              "      <td>Sevilla</td>\n",
              "      <td>Espanol</td>\n",
              "      <td>1-1</td>\n",
              "      <td>D</td>\n",
              "      <td>1.0</td>\n",
              "      <td>1.0</td>\n",
              "      <td>2.0</td>\n",
              "    </tr>\n",
              "  </tbody>\n",
              "</table>\n",
              "</div>"
            ],
            "text/plain": [
              "       SEASON COUNTRY                    LEAGUE  ... FTHG FTAG FTTG\n",
              "81826    2018   Spain  La Liga Primera Division  ...  1.0  0.0  1.0\n",
              "81827    2018   Spain  La Liga Primera Division  ...  1.0  0.0  1.0\n",
              "81828    2018   Spain  La Liga Primera Division  ...  2.0  3.0  5.0\n",
              "81829    2018   Spain  La Liga Primera Division  ...  2.0  2.0  4.0\n",
              "81830    2018   Spain  La Liga Primera Division  ...  1.0  1.0  2.0\n",
              "\n",
              "[5 rows x 11 columns]"
            ]
          },
          "metadata": {
            "tags": []
          },
          "execution_count": 19
        }
      ]
    },
    {
      "cell_type": "code",
      "metadata": {
        "id": "6eUvhyuYxBW2"
      },
      "source": [
        "#average number of goals for Hometeam per SEASON\n",
        "hometeam_ave_goals = pd.DataFrame(df_new.groupby(['SEASON', 'HOMETEAM'])['FTHG'].mean()).reset_index()"
      ],
      "execution_count": 83,
      "outputs": []
    },
    {
      "cell_type": "code",
      "metadata": {
        "id": "ZjBocGgAxP7V",
        "outputId": "98eabbd7-6a7c-4f10-f1c8-6b09cf84c47e",
        "colab": {
          "base_uri": "https://localhost:8080/",
          "height": 204
        }
      },
      "source": [
        "hometeam_ave_goals.head()"
      ],
      "execution_count": 84,
      "outputs": [
        {
          "output_type": "execute_result",
          "data": {
            "text/html": [
              "<div>\n",
              "<style scoped>\n",
              "    .dataframe tbody tr th:only-of-type {\n",
              "        vertical-align: middle;\n",
              "    }\n",
              "\n",
              "    .dataframe tbody tr th {\n",
              "        vertical-align: top;\n",
              "    }\n",
              "\n",
              "    .dataframe thead th {\n",
              "        text-align: right;\n",
              "    }\n",
              "</style>\n",
              "<table border=\"1\" class=\"dataframe\">\n",
              "  <thead>\n",
              "    <tr style=\"text-align: right;\">\n",
              "      <th></th>\n",
              "      <th>SEASON</th>\n",
              "      <th>HOMETEAM</th>\n",
              "      <th>FTHG</th>\n",
              "    </tr>\n",
              "  </thead>\n",
              "  <tbody>\n",
              "    <tr>\n",
              "      <th>0</th>\n",
              "      <td>1994</td>\n",
              "      <td>Albacete</td>\n",
              "      <td>1.736842</td>\n",
              "    </tr>\n",
              "    <tr>\n",
              "      <th>1</th>\n",
              "      <td>1994</td>\n",
              "      <td>Ath Bilbao</td>\n",
              "      <td>2.052632</td>\n",
              "    </tr>\n",
              "    <tr>\n",
              "      <th>2</th>\n",
              "      <td>1994</td>\n",
              "      <td>Ath Madrid</td>\n",
              "      <td>1.684211</td>\n",
              "    </tr>\n",
              "    <tr>\n",
              "      <th>3</th>\n",
              "      <td>1994</td>\n",
              "      <td>Barcelona</td>\n",
              "      <td>2.947368</td>\n",
              "    </tr>\n",
              "    <tr>\n",
              "      <th>4</th>\n",
              "      <td>1994</td>\n",
              "      <td>Celta</td>\n",
              "      <td>1.315789</td>\n",
              "    </tr>\n",
              "  </tbody>\n",
              "</table>\n",
              "</div>"
            ],
            "text/plain": [
              "   SEASON    HOMETEAM      FTHG\n",
              "0    1994    Albacete  1.736842\n",
              "1    1994  Ath Bilbao  2.052632\n",
              "2    1994  Ath Madrid  1.684211\n",
              "3    1994   Barcelona  2.947368\n",
              "4    1994       Celta  1.315789"
            ]
          },
          "metadata": {
            "tags": []
          },
          "execution_count": 84
        }
      ]
    },
    {
      "cell_type": "code",
      "metadata": {
        "id": "3oFzXtSfxlew"
      },
      "source": [
        "#we want to make all available values visible, hence no limit on maximum value, that is why we use None keyword\n",
        "#pd.options.display.max_columns = None\n",
        "#pd.options.display.max_rows = None"
      ],
      "execution_count": null,
      "outputs": []
    },
    {
      "cell_type": "code",
      "metadata": {
        "id": "BhCwOMRzxhcy"
      },
      "source": [
        "#Hometeam average goals per Season ordered by descending, top 1\n",
        "hometeam_ave_ordered = hometeam_ave_goals.groupby(['SEASON'], sort=False).apply(lambda x: x.sort_values(['FTHG','HOMETEAM'], ascending=False)[:1]) \\\n",
        "    .reset_index(drop=True)"
      ],
      "execution_count": 85,
      "outputs": []
    },
    {
      "cell_type": "code",
      "metadata": {
        "id": "7SJ0Wsl8yD-R",
        "outputId": "2ba007cf-92ae-49a3-f7ca-0edf20fb7264",
        "colab": {
          "base_uri": "https://localhost:8080/",
          "height": 359
        }
      },
      "source": [
        "hometeam_ave_ordered.head(10)"
      ],
      "execution_count": 86,
      "outputs": [
        {
          "output_type": "execute_result",
          "data": {
            "text/html": [
              "<div>\n",
              "<style scoped>\n",
              "    .dataframe tbody tr th:only-of-type {\n",
              "        vertical-align: middle;\n",
              "    }\n",
              "\n",
              "    .dataframe tbody tr th {\n",
              "        vertical-align: top;\n",
              "    }\n",
              "\n",
              "    .dataframe thead th {\n",
              "        text-align: right;\n",
              "    }\n",
              "</style>\n",
              "<table border=\"1\" class=\"dataframe\">\n",
              "  <thead>\n",
              "    <tr style=\"text-align: right;\">\n",
              "      <th></th>\n",
              "      <th>SEASON</th>\n",
              "      <th>HOMETEAM</th>\n",
              "      <th>FTHG</th>\n",
              "    </tr>\n",
              "  </thead>\n",
              "  <tbody>\n",
              "    <tr>\n",
              "      <th>0</th>\n",
              "      <td>1994</td>\n",
              "      <td>Barcelona</td>\n",
              "      <td>2.947368</td>\n",
              "    </tr>\n",
              "    <tr>\n",
              "      <th>1</th>\n",
              "      <td>1995</td>\n",
              "      <td>Real Madrid</td>\n",
              "      <td>2.368421</td>\n",
              "    </tr>\n",
              "    <tr>\n",
              "      <th>2</th>\n",
              "      <td>1996</td>\n",
              "      <td>Valencia</td>\n",
              "      <td>2.047619</td>\n",
              "    </tr>\n",
              "    <tr>\n",
              "      <th>3</th>\n",
              "      <td>1997</td>\n",
              "      <td>Barcelona</td>\n",
              "      <td>3.000000</td>\n",
              "    </tr>\n",
              "    <tr>\n",
              "      <th>4</th>\n",
              "      <td>1998</td>\n",
              "      <td>Ath Madrid</td>\n",
              "      <td>2.473684</td>\n",
              "    </tr>\n",
              "    <tr>\n",
              "      <th>5</th>\n",
              "      <td>1999</td>\n",
              "      <td>Barcelona</td>\n",
              "      <td>2.736842</td>\n",
              "    </tr>\n",
              "    <tr>\n",
              "      <th>6</th>\n",
              "      <td>2000</td>\n",
              "      <td>La Coruna</td>\n",
              "      <td>2.473684</td>\n",
              "    </tr>\n",
              "    <tr>\n",
              "      <th>7</th>\n",
              "      <td>2001</td>\n",
              "      <td>Real Madrid</td>\n",
              "      <td>2.789474</td>\n",
              "    </tr>\n",
              "    <tr>\n",
              "      <th>8</th>\n",
              "      <td>2002</td>\n",
              "      <td>Real Madrid</td>\n",
              "      <td>2.526316</td>\n",
              "    </tr>\n",
              "    <tr>\n",
              "      <th>9</th>\n",
              "      <td>2003</td>\n",
              "      <td>Real Madrid</td>\n",
              "      <td>2.736842</td>\n",
              "    </tr>\n",
              "  </tbody>\n",
              "</table>\n",
              "</div>"
            ],
            "text/plain": [
              "   SEASON     HOMETEAM      FTHG\n",
              "0    1994    Barcelona  2.947368\n",
              "1    1995  Real Madrid  2.368421\n",
              "2    1996     Valencia  2.047619\n",
              "3    1997    Barcelona  3.000000\n",
              "4    1998   Ath Madrid  2.473684\n",
              "5    1999    Barcelona  2.736842\n",
              "6    2000    La Coruna  2.473684\n",
              "7    2001  Real Madrid  2.789474\n",
              "8    2002  Real Madrid  2.526316\n",
              "9    2003  Real Madrid  2.736842"
            ]
          },
          "metadata": {
            "tags": []
          },
          "execution_count": 86
        }
      ]
    },
    {
      "cell_type": "code",
      "metadata": {
        "id": "3TigFwdP7WqT"
      },
      "source": [
        "#average number of goals for Awayteam per SEASON\n",
        "awayteam_ave_goals = pd.DataFrame(df_new.groupby(['SEASON', 'AWAYTEAM'])['FTAG'].mean()).reset_index()"
      ],
      "execution_count": 87,
      "outputs": []
    },
    {
      "cell_type": "code",
      "metadata": {
        "id": "-cOWxnPM7uxS",
        "outputId": "a648088f-b0d2-4d93-d353-ed6d765e69c4",
        "colab": {
          "base_uri": "https://localhost:8080/",
          "height": 204
        }
      },
      "source": [
        "awayteam_ave_goals.head()"
      ],
      "execution_count": 88,
      "outputs": [
        {
          "output_type": "execute_result",
          "data": {
            "text/html": [
              "<div>\n",
              "<style scoped>\n",
              "    .dataframe tbody tr th:only-of-type {\n",
              "        vertical-align: middle;\n",
              "    }\n",
              "\n",
              "    .dataframe tbody tr th {\n",
              "        vertical-align: top;\n",
              "    }\n",
              "\n",
              "    .dataframe thead th {\n",
              "        text-align: right;\n",
              "    }\n",
              "</style>\n",
              "<table border=\"1\" class=\"dataframe\">\n",
              "  <thead>\n",
              "    <tr style=\"text-align: right;\">\n",
              "      <th></th>\n",
              "      <th>SEASON</th>\n",
              "      <th>AWAYTEAM</th>\n",
              "      <th>FTAG</th>\n",
              "    </tr>\n",
              "  </thead>\n",
              "  <tbody>\n",
              "    <tr>\n",
              "      <th>0</th>\n",
              "      <td>1994</td>\n",
              "      <td>Albacete</td>\n",
              "      <td>0.842105</td>\n",
              "    </tr>\n",
              "    <tr>\n",
              "      <th>1</th>\n",
              "      <td>1994</td>\n",
              "      <td>Ath Bilbao</td>\n",
              "      <td>1.157895</td>\n",
              "    </tr>\n",
              "    <tr>\n",
              "      <th>2</th>\n",
              "      <td>1994</td>\n",
              "      <td>Ath Madrid</td>\n",
              "      <td>1.157895</td>\n",
              "    </tr>\n",
              "    <tr>\n",
              "      <th>3</th>\n",
              "      <td>1994</td>\n",
              "      <td>Barcelona</td>\n",
              "      <td>1.842105</td>\n",
              "    </tr>\n",
              "    <tr>\n",
              "      <th>4</th>\n",
              "      <td>1994</td>\n",
              "      <td>Celta</td>\n",
              "      <td>0.842105</td>\n",
              "    </tr>\n",
              "  </tbody>\n",
              "</table>\n",
              "</div>"
            ],
            "text/plain": [
              "   SEASON    AWAYTEAM      FTAG\n",
              "0    1994    Albacete  0.842105\n",
              "1    1994  Ath Bilbao  1.157895\n",
              "2    1994  Ath Madrid  1.157895\n",
              "3    1994   Barcelona  1.842105\n",
              "4    1994       Celta  0.842105"
            ]
          },
          "metadata": {
            "tags": []
          },
          "execution_count": 88
        }
      ]
    },
    {
      "cell_type": "code",
      "metadata": {
        "id": "mQudlzXY751E"
      },
      "source": [
        "#Awayteam average goals per Season ordered by descending, top 1\n",
        "awayteam_ave_ordered = awayteam_ave_goals.groupby(['SEASON'], sort=False).apply(lambda x: x.sort_values(['FTAG','AWAYTEAM'], ascending=False)[:1]) \\\n",
        "    .reset_index(drop=True)"
      ],
      "execution_count": 89,
      "outputs": []
    },
    {
      "cell_type": "code",
      "metadata": {
        "id": "LcML2xOK8N1T",
        "outputId": "0e21f7d0-ed51-40b0-cbcd-0dc9d6eedb23",
        "colab": {
          "base_uri": "https://localhost:8080/",
          "height": 359
        }
      },
      "source": [
        "awayteam_ave_ordered.head(10)"
      ],
      "execution_count": 90,
      "outputs": [
        {
          "output_type": "execute_result",
          "data": {
            "text/html": [
              "<div>\n",
              "<style scoped>\n",
              "    .dataframe tbody tr th:only-of-type {\n",
              "        vertical-align: middle;\n",
              "    }\n",
              "\n",
              "    .dataframe tbody tr th {\n",
              "        vertical-align: top;\n",
              "    }\n",
              "\n",
              "    .dataframe thead th {\n",
              "        text-align: right;\n",
              "    }\n",
              "</style>\n",
              "<table border=\"1\" class=\"dataframe\">\n",
              "  <thead>\n",
              "    <tr style=\"text-align: right;\">\n",
              "      <th></th>\n",
              "      <th>SEASON</th>\n",
              "      <th>AWAYTEAM</th>\n",
              "      <th>FTAG</th>\n",
              "    </tr>\n",
              "  </thead>\n",
              "  <tbody>\n",
              "    <tr>\n",
              "      <th>0</th>\n",
              "      <td>1994</td>\n",
              "      <td>Barcelona</td>\n",
              "      <td>1.842105</td>\n",
              "    </tr>\n",
              "    <tr>\n",
              "      <th>1</th>\n",
              "      <td>1995</td>\n",
              "      <td>Real Madrid</td>\n",
              "      <td>1.631579</td>\n",
              "    </tr>\n",
              "    <tr>\n",
              "      <th>2</th>\n",
              "      <td>1996</td>\n",
              "      <td>Ath Madrid</td>\n",
              "      <td>1.666667</td>\n",
              "    </tr>\n",
              "    <tr>\n",
              "      <th>3</th>\n",
              "      <td>1997</td>\n",
              "      <td>Barcelona</td>\n",
              "      <td>1.857143</td>\n",
              "    </tr>\n",
              "    <tr>\n",
              "      <th>4</th>\n",
              "      <td>1998</td>\n",
              "      <td>Barcelona</td>\n",
              "      <td>1.894737</td>\n",
              "    </tr>\n",
              "    <tr>\n",
              "      <th>5</th>\n",
              "      <td>1999</td>\n",
              "      <td>Barcelona</td>\n",
              "      <td>1.842105</td>\n",
              "    </tr>\n",
              "    <tr>\n",
              "      <th>6</th>\n",
              "      <td>2000</td>\n",
              "      <td>Malaga</td>\n",
              "      <td>1.578947</td>\n",
              "    </tr>\n",
              "    <tr>\n",
              "      <th>7</th>\n",
              "      <td>2001</td>\n",
              "      <td>La Coruna</td>\n",
              "      <td>1.526316</td>\n",
              "    </tr>\n",
              "    <tr>\n",
              "      <th>8</th>\n",
              "      <td>2002</td>\n",
              "      <td>Ath Bilbao</td>\n",
              "      <td>1.631579</td>\n",
              "    </tr>\n",
              "    <tr>\n",
              "      <th>9</th>\n",
              "      <td>2003</td>\n",
              "      <td>Real Madrid</td>\n",
              "      <td>1.789474</td>\n",
              "    </tr>\n",
              "  </tbody>\n",
              "</table>\n",
              "</div>"
            ],
            "text/plain": [
              "   SEASON     AWAYTEAM      FTAG\n",
              "0    1994    Barcelona  1.842105\n",
              "1    1995  Real Madrid  1.631579\n",
              "2    1996   Ath Madrid  1.666667\n",
              "3    1997    Barcelona  1.857143\n",
              "4    1998    Barcelona  1.894737\n",
              "5    1999    Barcelona  1.842105\n",
              "6    2000       Malaga  1.578947\n",
              "7    2001    La Coruna  1.526316\n",
              "8    2002   Ath Bilbao  1.631579\n",
              "9    2003  Real Madrid  1.789474"
            ]
          },
          "metadata": {
            "tags": []
          },
          "execution_count": 90
        }
      ]
    },
    {
      "cell_type": "markdown",
      "metadata": {
        "id": "niSWfnWb8vfG"
      },
      "source": [
        "####Construct a plot to show how this number is changing over time. Hint: SEASON on x-axis. Show average Home goals and Away goals on the same plot. Be sure that your plot has appropriate axis names and titles."
      ]
    },
    {
      "cell_type": "code",
      "metadata": {
        "id": "0eQv6W3j8eHd",
        "outputId": "3ecb0f38-93db-47eb-c2c4-cf2c463dd610",
        "colab": {
          "base_uri": "https://localhost:8080/",
          "height": 528
        }
      },
      "source": [
        "plt.figure(figsize=(15,8))\n",
        "ax = sns.lineplot(x=\"SEASON\", y=\"FTHG\", label=\"hometeam\", data=hometeam_ave_goals) \n",
        "sns.lineplot(x=\"SEASON\", y=\"FTAG\", label=\"awayteam\", data=awayteam_ave_goals, ax=ax) \n",
        "plt.xlabel('Season')\n",
        "plt.ylabel('Average Goals')\n",
        "plt.title('Average Number of Goals for Hometeam and Awayteam per Season')\n",
        "plt.legend(bbox_to_anchor=(1.05, 1), loc='upper left', borderaxespad=0.)\n",
        "plt.xticks(rotation=45)\n",
        "plt.show()"
      ],
      "execution_count": 92,
      "outputs": [
        {
          "output_type": "display_data",
          "data": {
            "image/png": "[encoded data removed]",
            "text/plain": [
              "<Figure size 1080x576 with 1 Axes>"
            ]
          },
          "metadata": {
            "tags": [],
            "needs_background": "light"
          }
        }
      ]
    },
    {
      "cell_type": "markdown",
      "metadata": {
        "id": "i9iyw_Yn8rm-"
      },
      "source": [
        "####Find following clubs for each season: the best attack (top 5), the best defense (top5)"
      ]
    },
    {
      "cell_type": "code",
      "metadata": {
        "id": "zNEs9NV6QwkN",
        "outputId": "25f8f34c-d335-4565-a1b2-b9695279dc3c",
        "colab": {
          "base_uri": "https://localhost:8080/",
          "height": 204
        }
      },
      "source": [
        "df_new.head()"
      ],
      "execution_count": 17,
      "outputs": [
        {
          "output_type": "execute_result",
          "data": {
            "text/html": [
              "<div>\n",
              "<style scoped>\n",
              "    .dataframe tbody tr th:only-of-type {\n",
              "        vertical-align: middle;\n",
              "    }\n",
              "\n",
              "    .dataframe tbody tr th {\n",
              "        vertical-align: top;\n",
              "    }\n",
              "\n",
              "    .dataframe thead th {\n",
              "        text-align: right;\n",
              "    }\n",
              "</style>\n",
              "<table border=\"1\" class=\"dataframe\">\n",
              "  <thead>\n",
              "    <tr style=\"text-align: right;\">\n",
              "      <th></th>\n",
              "      <th>SEASON</th>\n",
              "      <th>COUNTRY</th>\n",
              "      <th>LEAGUE</th>\n",
              "      <th>DATE</th>\n",
              "      <th>HOMETEAM</th>\n",
              "      <th>AWAYTEAM</th>\n",
              "      <th>FTSC</th>\n",
              "      <th>FTR</th>\n",
              "      <th>FTHG</th>\n",
              "      <th>FTAG</th>\n",
              "      <th>FTTG</th>\n",
              "    </tr>\n",
              "  </thead>\n",
              "  <tbody>\n",
              "    <tr>\n",
              "      <th>0</th>\n",
              "      <td>1994</td>\n",
              "      <td>Spain</td>\n",
              "      <td>La Liga Primera Division</td>\n",
              "      <td>1993-09-05</td>\n",
              "      <td>Ath Bilbao</td>\n",
              "      <td>Albacete</td>\n",
              "      <td>4-1</td>\n",
              "      <td>H</td>\n",
              "      <td>4.0</td>\n",
              "      <td>1.0</td>\n",
              "      <td>5.0</td>\n",
              "    </tr>\n",
              "    <tr>\n",
              "      <th>1</th>\n",
              "      <td>1994</td>\n",
              "      <td>Spain</td>\n",
              "      <td>La Liga Primera Division</td>\n",
              "      <td>1993-09-05</td>\n",
              "      <td>Ath Madrid</td>\n",
              "      <td>Logrones</td>\n",
              "      <td>1-0</td>\n",
              "      <td>H</td>\n",
              "      <td>1.0</td>\n",
              "      <td>0.0</td>\n",
              "      <td>1.0</td>\n",
              "    </tr>\n",
              "    <tr>\n",
              "      <th>2</th>\n",
              "      <td>1994</td>\n",
              "      <td>Spain</td>\n",
              "      <td>La Liga Primera Division</td>\n",
              "      <td>1993-09-05</td>\n",
              "      <td>Barcelona</td>\n",
              "      <td>Sociedad</td>\n",
              "      <td>3-0</td>\n",
              "      <td>H</td>\n",
              "      <td>3.0</td>\n",
              "      <td>0.0</td>\n",
              "      <td>3.0</td>\n",
              "    </tr>\n",
              "    <tr>\n",
              "      <th>3</th>\n",
              "      <td>1994</td>\n",
              "      <td>Spain</td>\n",
              "      <td>La Liga Primera Division</td>\n",
              "      <td>1993-09-05</td>\n",
              "      <td>La Coruna</td>\n",
              "      <td>Celta</td>\n",
              "      <td>0-0</td>\n",
              "      <td>D</td>\n",
              "      <td>0.0</td>\n",
              "      <td>0.0</td>\n",
              "      <td>0.0</td>\n",
              "    </tr>\n",
              "    <tr>\n",
              "      <th>4</th>\n",
              "      <td>1994</td>\n",
              "      <td>Spain</td>\n",
              "      <td>La Liga Primera Division</td>\n",
              "      <td>1993-09-05</td>\n",
              "      <td>Osasuna</td>\n",
              "      <td>Real Madrid</td>\n",
              "      <td>1-4</td>\n",
              "      <td>A</td>\n",
              "      <td>1.0</td>\n",
              "      <td>4.0</td>\n",
              "      <td>5.0</td>\n",
              "    </tr>\n",
              "  </tbody>\n",
              "</table>\n",
              "</div>"
            ],
            "text/plain": [
              "   SEASON COUNTRY                    LEAGUE        DATE  ... FTR FTHG FTAG FTTG\n",
              "0    1994   Spain  La Liga Primera Division  1993-09-05  ...   H  4.0  1.0  5.0\n",
              "1    1994   Spain  La Liga Primera Division  1993-09-05  ...   H  1.0  0.0  1.0\n",
              "2    1994   Spain  La Liga Primera Division  1993-09-05  ...   H  3.0  0.0  3.0\n",
              "3    1994   Spain  La Liga Primera Division  1993-09-05  ...   D  0.0  0.0  0.0\n",
              "4    1994   Spain  La Liga Primera Division  1993-09-05  ...   A  1.0  4.0  5.0\n",
              "\n",
              "[5 rows x 11 columns]"
            ]
          },
          "metadata": {
            "tags": []
          },
          "execution_count": 17
        }
      ]
    },
    {
      "cell_type": "code",
      "metadata": {
        "id": "wamKMscOestS"
      },
      "source": [
        "#creating sub variable\n",
        "df_new['sub'] = df_new['FTHG'] - df_new['FTAG']"
      ],
      "execution_count": 18,
      "outputs": []
    },
    {
      "cell_type": "code",
      "metadata": {
        "id": "l86O4zWMfJ5A"
      },
      "source": [
        "df_new['sub'] = df_new['sub'].abs()"
      ],
      "execution_count": 19,
      "outputs": []
    },
    {
      "cell_type": "code",
      "metadata": {
        "id": "SqkzSm-ae1Er",
        "outputId": "b92f8a2b-6ee5-4d0a-bce3-ef234ad82b81",
        "colab": {
          "base_uri": "https://localhost:8080/",
          "height": 204
        }
      },
      "source": [
        "df_new.head()"
      ],
      "execution_count": 20,
      "outputs": [
        {
          "output_type": "execute_result",
          "data": {
            "text/html": [
              "<div>\n",
              "<style scoped>\n",
              "    .dataframe tbody tr th:only-of-type {\n",
              "        vertical-align: middle;\n",
              "    }\n",
              "\n",
              "    .dataframe tbody tr th {\n",
              "        vertical-align: top;\n",
              "    }\n",
              "\n",
              "    .dataframe thead th {\n",
              "        text-align: right;\n",
              "    }\n",
              "</style>\n",
              "<table border=\"1\" class=\"dataframe\">\n",
              "  <thead>\n",
              "    <tr style=\"text-align: right;\">\n",
              "      <th></th>\n",
              "      <th>SEASON</th>\n",
              "      <th>COUNTRY</th>\n",
              "      <th>LEAGUE</th>\n",
              "      <th>DATE</th>\n",
              "      <th>HOMETEAM</th>\n",
              "      <th>AWAYTEAM</th>\n",
              "      <th>FTSC</th>\n",
              "      <th>FTR</th>\n",
              "      <th>FTHG</th>\n",
              "      <th>FTAG</th>\n",
              "      <th>FTTG</th>\n",
              "      <th>sub</th>\n",
              "    </tr>\n",
              "  </thead>\n",
              "  <tbody>\n",
              "    <tr>\n",
              "      <th>0</th>\n",
              "      <td>1994</td>\n",
              "      <td>Spain</td>\n",
              "      <td>La Liga Primera Division</td>\n",
              "      <td>1993-09-05</td>\n",
              "      <td>Ath Bilbao</td>\n",
              "      <td>Albacete</td>\n",
              "      <td>4-1</td>\n",
              "      <td>H</td>\n",
              "      <td>4.0</td>\n",
              "      <td>1.0</td>\n",
              "      <td>5.0</td>\n",
              "      <td>3.0</td>\n",
              "    </tr>\n",
              "    <tr>\n",
              "      <th>1</th>\n",
              "      <td>1994</td>\n",
              "      <td>Spain</td>\n",
              "      <td>La Liga Primera Division</td>\n",
              "      <td>1993-09-05</td>\n",
              "      <td>Ath Madrid</td>\n",
              "      <td>Logrones</td>\n",
              "      <td>1-0</td>\n",
              "      <td>H</td>\n",
              "      <td>1.0</td>\n",
              "      <td>0.0</td>\n",
              "      <td>1.0</td>\n",
              "      <td>1.0</td>\n",
              "    </tr>\n",
              "    <tr>\n",
              "      <th>2</th>\n",
              "      <td>1994</td>\n",
              "      <td>Spain</td>\n",
              "      <td>La Liga Primera Division</td>\n",
              "      <td>1993-09-05</td>\n",
              "      <td>Barcelona</td>\n",
              "      <td>Sociedad</td>\n",
              "      <td>3-0</td>\n",
              "      <td>H</td>\n",
              "      <td>3.0</td>\n",
              "      <td>0.0</td>\n",
              "      <td>3.0</td>\n",
              "      <td>3.0</td>\n",
              "    </tr>\n",
              "    <tr>\n",
              "      <th>3</th>\n",
              "      <td>1994</td>\n",
              "      <td>Spain</td>\n",
              "      <td>La Liga Primera Division</td>\n",
              "      <td>1993-09-05</td>\n",
              "      <td>La Coruna</td>\n",
              "      <td>Celta</td>\n",
              "      <td>0-0</td>\n",
              "      <td>D</td>\n",
              "      <td>0.0</td>\n",
              "      <td>0.0</td>\n",
              "      <td>0.0</td>\n",
              "      <td>0.0</td>\n",
              "    </tr>\n",
              "    <tr>\n",
              "      <th>4</th>\n",
              "      <td>1994</td>\n",
              "      <td>Spain</td>\n",
              "      <td>La Liga Primera Division</td>\n",
              "      <td>1993-09-05</td>\n",
              "      <td>Osasuna</td>\n",
              "      <td>Real Madrid</td>\n",
              "      <td>1-4</td>\n",
              "      <td>A</td>\n",
              "      <td>1.0</td>\n",
              "      <td>4.0</td>\n",
              "      <td>5.0</td>\n",
              "      <td>3.0</td>\n",
              "    </tr>\n",
              "  </tbody>\n",
              "</table>\n",
              "</div>"
            ],
            "text/plain": [
              "   SEASON COUNTRY                    LEAGUE        DATE  ... FTHG FTAG FTTG  sub\n",
              "0    1994   Spain  La Liga Primera Division  1993-09-05  ...  4.0  1.0  5.0  3.0\n",
              "1    1994   Spain  La Liga Primera Division  1993-09-05  ...  1.0  0.0  1.0  1.0\n",
              "2    1994   Spain  La Liga Primera Division  1993-09-05  ...  3.0  0.0  3.0  3.0\n",
              "3    1994   Spain  La Liga Primera Division  1993-09-05  ...  0.0  0.0  0.0  0.0\n",
              "4    1994   Spain  La Liga Primera Division  1993-09-05  ...  1.0  4.0  5.0  3.0\n",
              "\n",
              "[5 rows x 12 columns]"
            ]
          },
          "metadata": {
            "tags": []
          },
          "execution_count": 20
        }
      ]
    },
    {
      "cell_type": "code",
      "metadata": {
        "id": "1NVym_OyRqN3"
      },
      "source": [
        "home_attack = (df_new.groupby(['SEASON', 'HOMETEAM'])['sub'].sum())"
      ],
      "execution_count": 30,
      "outputs": []
    },
    {
      "cell_type": "code",
      "metadata": {
        "id": "jOxcaNTwSHxp",
        "outputId": "f2df3225-be2b-4d4f-e5a6-75d4989d1bab",
        "colab": {
          "base_uri": "https://localhost:8080/"
        }
      },
      "source": [
        "#at home goals per season\n",
        "home_attack.head()"
      ],
      "execution_count": 31,
      "outputs": [
        {
          "output_type": "execute_result",
          "data": {
            "text/plain": [
              "SEASON  HOMETEAM  \n",
              "1994    Albacete      24.0\n",
              "        Ath Bilbao    27.0\n",
              "        Ath Madrid    33.0\n",
              "        Barcelona     43.0\n",
              "        Celta         24.0\n",
              "Name: sub, dtype: float64"
            ]
          },
          "metadata": {
            "tags": []
          },
          "execution_count": 31
        }
      ]
    },
    {
      "cell_type": "code",
      "metadata": {
        "id": "HTmh80tVTGaX"
      },
      "source": [
        "#at home defence per season\n",
        "home_defence = (df_new.groupby(['SEASON', 'HOMETEAM'])['FTAG'].sum())"
      ],
      "execution_count": 40,
      "outputs": []
    },
    {
      "cell_type": "code",
      "metadata": {
        "id": "7ZLWPH-UT2ho",
        "outputId": "0730d3c0-1755-455e-ac1f-6e96abdfae24",
        "colab": {
          "base_uri": "https://localhost:8080/"
        }
      },
      "source": [
        "home_defence.head()"
      ],
      "execution_count": 41,
      "outputs": [
        {
          "output_type": "execute_result",
          "data": {
            "text/plain": [
              "SEASON  HOMETEAM  \n",
              "1994    Albacete      25.0\n",
              "        Ath Bilbao    16.0\n",
              "        Ath Madrid    21.0\n",
              "        Barcelona     17.0\n",
              "        Celta         23.0\n",
              "Name: FTAG, dtype: float64"
            ]
          },
          "metadata": {
            "tags": []
          },
          "execution_count": 41
        }
      ]
    },
    {
      "cell_type": "code",
      "metadata": {
        "id": "PbdvxDL0UcX3"
      },
      "source": [
        "#away goals per season\n",
        "away_attack = (df_new.groupby(['SEASON', 'AWAYTEAM'])['sub'].sum()"
      ],
      "execution_count": 44,
      "outputs": []
    },
    {
      "cell_type": "code",
      "metadata": {
        "id": "YWot3ts0U9TE",
        "outputId": "25578394-169a-49c5-930a-a568cde5c785",
        "colab": {
          "base_uri": "https://localhost:8080/"
        }
      },
      "source": [
        "away_attack.head()"
      ],
      "execution_count": 45,
      "outputs": [
        {
          "output_type": "execute_result",
          "data": {
            "text/plain": [
              "SEASON  AWAYTEAM  \n",
              "1994    Albacete      25.0\n",
              "        Ath Bilbao    21.0\n",
              "        Ath Madrid    15.0\n",
              "        Barcelona     26.0\n",
              "        Celta         22.0\n",
              "Name: sub, dtype: float64"
            ]
          },
          "metadata": {
            "tags": []
          },
          "execution_count": 45
        }
      ]
    },
    {
      "cell_type": "code",
      "metadata": {
        "id": "LJqw2eZ-VRc5"
      },
      "source": [
        "#away defence per season\n",
        "away_defence = (df_new.groupby(['SEASON', 'AWAYTEAM'])['FTHG'].sum())"
      ],
      "execution_count": 46,
      "outputs": []
    },
    {
      "cell_type": "code",
      "metadata": {
        "id": "UjzzN4h5Vcxv",
        "outputId": "d054c0fc-a2aa-4a12-a34d-3f473d35a727",
        "colab": {
          "base_uri": "https://localhost:8080/"
        }
      },
      "source": [
        "away_defence.head()"
      ],
      "execution_count": 47,
      "outputs": [
        {
          "output_type": "execute_result",
          "data": {
            "text/plain": [
              "SEASON  AWAYTEAM  \n",
              "1994    Albacete      33.0\n",
              "        Ath Bilbao    31.0\n",
              "        Ath Madrid    33.0\n",
              "        Barcelona     25.0\n",
              "        Celta         28.0\n",
              "Name: FTHG, dtype: float64"
            ]
          },
          "metadata": {
            "tags": []
          },
          "execution_count": 47
        }
      ]
    },
    {
      "cell_type": "code",
      "metadata": {
        "id": "Kz8ew0abVoiW"
      },
      "source": [
        "#Defence Score\n",
        "defence_score = pd.DataFrame()"
      ],
      "execution_count": 57,
      "outputs": []
    },
    {
      "cell_type": "code",
      "metadata": {
        "id": "4qY8JT37Xdv4"
      },
      "source": [
        "defence_score[\"home_defence\"] = home_defence"
      ],
      "execution_count": 63,
      "outputs": []
    },
    {
      "cell_type": "code",
      "metadata": {
        "id": "nyzktBYzerPS"
      },
      "source": [
        "defence_score[\"away_defence\"] = away_defence"
      ],
      "execution_count": 65,
      "outputs": []
    },
    {
      "cell_type": "code",
      "metadata": {
        "id": "Ca_XetKTZNsR",
        "outputId": "d772ce1b-3bd4-4594-aa70-09c07893ae67",
        "colab": {
          "base_uri": "https://localhost:8080/",
          "height": 235
        }
      },
      "source": [
        "defence_score.head()"
      ],
      "execution_count": 66,
      "outputs": [
        {
          "output_type": "execute_result",
          "data": {
            "text/html": [
              "<div>\n",
              "<style scoped>\n",
              "    .dataframe tbody tr th:only-of-type {\n",
              "        vertical-align: middle;\n",
              "    }\n",
              "\n",
              "    .dataframe tbody tr th {\n",
              "        vertical-align: top;\n",
              "    }\n",
              "\n",
              "    .dataframe thead th {\n",
              "        text-align: right;\n",
              "    }\n",
              "</style>\n",
              "<table border=\"1\" class=\"dataframe\">\n",
              "  <thead>\n",
              "    <tr style=\"text-align: right;\">\n",
              "      <th></th>\n",
              "      <th></th>\n",
              "      <th>home_defence</th>\n",
              "      <th>away_defence</th>\n",
              "    </tr>\n",
              "    <tr>\n",
              "      <th>SEASON</th>\n",
              "      <th>HOMETEAM</th>\n",
              "      <th></th>\n",
              "      <th></th>\n",
              "    </tr>\n",
              "  </thead>\n",
              "  <tbody>\n",
              "    <tr>\n",
              "      <th rowspan=\"5\" valign=\"top\">1994</th>\n",
              "      <th>Albacete</th>\n",
              "      <td>25.0</td>\n",
              "      <td>33.0</td>\n",
              "    </tr>\n",
              "    <tr>\n",
              "      <th>Ath Bilbao</th>\n",
              "      <td>16.0</td>\n",
              "      <td>31.0</td>\n",
              "    </tr>\n",
              "    <tr>\n",
              "      <th>Ath Madrid</th>\n",
              "      <td>21.0</td>\n",
              "      <td>33.0</td>\n",
              "    </tr>\n",
              "    <tr>\n",
              "      <th>Barcelona</th>\n",
              "      <td>17.0</td>\n",
              "      <td>25.0</td>\n",
              "    </tr>\n",
              "    <tr>\n",
              "      <th>Celta</th>\n",
              "      <td>23.0</td>\n",
              "      <td>28.0</td>\n",
              "    </tr>\n",
              "  </tbody>\n",
              "</table>\n",
              "</div>"
            ],
            "text/plain": [
              "                   home_defence  away_defence\n",
              "SEASON HOMETEAM                              \n",
              "1994   Albacete            25.0          33.0\n",
              "       Ath Bilbao          16.0          31.0\n",
              "       Ath Madrid          21.0          33.0\n",
              "       Barcelona           17.0          25.0\n",
              "       Celta               23.0          28.0"
            ]
          },
          "metadata": {
            "tags": []
          },
          "execution_count": 66
        }
      ]
    },
    {
      "cell_type": "code",
      "metadata": {
        "id": "WYNi1GllZN5i"
      },
      "source": [
        "defence_score['defence_score'] = defence_score['home_defence'] + defence_score['away_defence']"
      ],
      "execution_count": 67,
      "outputs": []
    },
    {
      "cell_type": "code",
      "metadata": {
        "id": "cQJpP7Kkfd2A"
      },
      "source": [
        "top_5_defence = defence_score.sort_values([\"SEASON\", 'defence_score','HOMETEAM'], ascending=False).groupby(['SEASON']).head(5)"
      ],
      "execution_count": 69,
      "outputs": []
    },
    {
      "cell_type": "code",
      "metadata": {
        "id": "tPfJ4NppgQQG"
      },
      "source": [
        "#Attack Score\n",
        "attack_score = pd.DataFrame()"
      ],
      "execution_count": 72,
      "outputs": []
    },
    {
      "cell_type": "code",
      "metadata": {
        "id": "eW5Bzn8CgYYm"
      },
      "source": [
        "attack_score['home_attack'] = home_attack"
      ],
      "execution_count": 77,
      "outputs": []
    },
    {
      "cell_type": "code",
      "metadata": {
        "id": "MRJxFP4pgpDg"
      },
      "source": [
        "attack_score['away_attack'] = away_attack"
      ],
      "execution_count": 78,
      "outputs": []
    },
    {
      "cell_type": "code",
      "metadata": {
        "id": "SPuqmxP-gxQZ"
      },
      "source": [
        "attack_score['attack_score'] = attack_score['home_attack'] + attack_score['away_attack']"
      ],
      "execution_count": 80,
      "outputs": []
    },
    {
      "cell_type": "code",
      "metadata": {
        "id": "nJpD40gQhVCS"
      },
      "source": [
        "top_5_attack = attack_score.sort_values([\"SEASON\", 'attack_score','HOMETEAM'], ascending=False).groupby(['SEASON']).head(5)"
      ],
      "execution_count": 81,
      "outputs": []
    },
    {
      "cell_type": "code",
      "metadata": {
        "id": "tnVSeQnOhjx6",
        "outputId": "b8807034-bfcd-4d56-ce3a-256bee6823cd",
        "colab": {
          "base_uri": "https://localhost:8080/",
          "height": 390
        }
      },
      "source": [
        "top_5_attack.head(10)"
      ],
      "execution_count": 82,
      "outputs": [
        {
          "output_type": "execute_result",
          "data": {
            "text/html": [
              "<div>\n",
              "<style scoped>\n",
              "    .dataframe tbody tr th:only-of-type {\n",
              "        vertical-align: middle;\n",
              "    }\n",
              "\n",
              "    .dataframe tbody tr th {\n",
              "        vertical-align: top;\n",
              "    }\n",
              "\n",
              "    .dataframe thead th {\n",
              "        text-align: right;\n",
              "    }\n",
              "</style>\n",
              "<table border=\"1\" class=\"dataframe\">\n",
              "  <thead>\n",
              "    <tr style=\"text-align: right;\">\n",
              "      <th></th>\n",
              "      <th></th>\n",
              "      <th>home_attack</th>\n",
              "      <th>away_attack</th>\n",
              "      <th>attack_score</th>\n",
              "    </tr>\n",
              "    <tr>\n",
              "      <th>SEASON</th>\n",
              "      <th>HOMETEAM</th>\n",
              "      <th></th>\n",
              "      <th></th>\n",
              "      <th></th>\n",
              "    </tr>\n",
              "  </thead>\n",
              "  <tbody>\n",
              "    <tr>\n",
              "      <th rowspan=\"5\" valign=\"top\">2019</th>\n",
              "      <th>Sevilla</th>\n",
              "      <td>35.0</td>\n",
              "      <td>28.0</td>\n",
              "      <td>63.0</td>\n",
              "    </tr>\n",
              "    <tr>\n",
              "      <th>Barcelona</th>\n",
              "      <td>36.0</td>\n",
              "      <td>26.0</td>\n",
              "      <td>62.0</td>\n",
              "    </tr>\n",
              "    <tr>\n",
              "      <th>Real Madrid</th>\n",
              "      <td>31.0</td>\n",
              "      <td>30.0</td>\n",
              "      <td>61.0</td>\n",
              "    </tr>\n",
              "    <tr>\n",
              "      <th>Levante</th>\n",
              "      <td>30.0</td>\n",
              "      <td>25.0</td>\n",
              "      <td>55.0</td>\n",
              "    </tr>\n",
              "    <tr>\n",
              "      <th>Ath Madrid</th>\n",
              "      <td>26.0</td>\n",
              "      <td>24.0</td>\n",
              "      <td>50.0</td>\n",
              "    </tr>\n",
              "    <tr>\n",
              "      <th rowspan=\"5\" valign=\"top\">2018</th>\n",
              "      <th>Barcelona</th>\n",
              "      <td>42.0</td>\n",
              "      <td>30.0</td>\n",
              "      <td>72.0</td>\n",
              "    </tr>\n",
              "    <tr>\n",
              "      <th>Real Madrid</th>\n",
              "      <td>44.0</td>\n",
              "      <td>22.0</td>\n",
              "      <td>66.0</td>\n",
              "    </tr>\n",
              "    <tr>\n",
              "      <th>Las Palmas</th>\n",
              "      <td>31.0</td>\n",
              "      <td>31.0</td>\n",
              "      <td>62.0</td>\n",
              "    </tr>\n",
              "    <tr>\n",
              "      <th>Sociedad</th>\n",
              "      <td>36.0</td>\n",
              "      <td>23.0</td>\n",
              "      <td>59.0</td>\n",
              "    </tr>\n",
              "    <tr>\n",
              "      <th>Betis</th>\n",
              "      <td>30.0</td>\n",
              "      <td>29.0</td>\n",
              "      <td>59.0</td>\n",
              "    </tr>\n",
              "  </tbody>\n",
              "</table>\n",
              "</div>"
            ],
            "text/plain": [
              "                    home_attack  away_attack  attack_score\n",
              "SEASON HOMETEAM                                           \n",
              "2019   Sevilla             35.0         28.0          63.0\n",
              "       Barcelona           36.0         26.0          62.0\n",
              "       Real Madrid         31.0         30.0          61.0\n",
              "       Levante             30.0         25.0          55.0\n",
              "       Ath Madrid          26.0         24.0          50.0\n",
              "2018   Barcelona           42.0         30.0          72.0\n",
              "       Real Madrid         44.0         22.0          66.0\n",
              "       Las Palmas          31.0         31.0          62.0\n",
              "       Sociedad            36.0         23.0          59.0\n",
              "       Betis               30.0         29.0          59.0"
            ]
          },
          "metadata": {
            "tags": []
          },
          "execution_count": 82
        }
      ]
    },
    {
      "cell_type": "code",
      "metadata": {
        "id": "Xu7pTvfefr4R",
        "outputId": "70035db2-db00-4dc5-b53f-f32034732751",
        "colab": {
          "base_uri": "https://localhost:8080/",
          "height": 390
        }
      },
      "source": [
        "top_5_defence.head(10)"
      ],
      "execution_count": 71,
      "outputs": [
        {
          "output_type": "execute_result",
          "data": {
            "text/html": [
              "<div>\n",
              "<style scoped>\n",
              "    .dataframe tbody tr th:only-of-type {\n",
              "        vertical-align: middle;\n",
              "    }\n",
              "\n",
              "    .dataframe tbody tr th {\n",
              "        vertical-align: top;\n",
              "    }\n",
              "\n",
              "    .dataframe thead th {\n",
              "        text-align: right;\n",
              "    }\n",
              "</style>\n",
              "<table border=\"1\" class=\"dataframe\">\n",
              "  <thead>\n",
              "    <tr style=\"text-align: right;\">\n",
              "      <th></th>\n",
              "      <th></th>\n",
              "      <th>home_defence</th>\n",
              "      <th>away_defence</th>\n",
              "      <th>defence_score</th>\n",
              "    </tr>\n",
              "    <tr>\n",
              "      <th>SEASON</th>\n",
              "      <th>HOMETEAM</th>\n",
              "      <th></th>\n",
              "      <th></th>\n",
              "      <th></th>\n",
              "    </tr>\n",
              "  </thead>\n",
              "  <tbody>\n",
              "    <tr>\n",
              "      <th rowspan=\"5\" valign=\"top\">2019</th>\n",
              "      <th>Vallecano</th>\n",
              "      <td>32.0</td>\n",
              "      <td>38.0</td>\n",
              "      <td>70.0</td>\n",
              "    </tr>\n",
              "    <tr>\n",
              "      <th>Levante</th>\n",
              "      <td>34.0</td>\n",
              "      <td>32.0</td>\n",
              "      <td>66.0</td>\n",
              "    </tr>\n",
              "    <tr>\n",
              "      <th>Huesca</th>\n",
              "      <td>30.0</td>\n",
              "      <td>35.0</td>\n",
              "      <td>65.0</td>\n",
              "    </tr>\n",
              "    <tr>\n",
              "      <th>Celta</th>\n",
              "      <td>25.0</td>\n",
              "      <td>37.0</td>\n",
              "      <td>62.0</td>\n",
              "    </tr>\n",
              "    <tr>\n",
              "      <th>Girona</th>\n",
              "      <td>28.0</td>\n",
              "      <td>25.0</td>\n",
              "      <td>53.0</td>\n",
              "    </tr>\n",
              "    <tr>\n",
              "      <th rowspan=\"5\" valign=\"top\">2018</th>\n",
              "      <th>La Coruna</th>\n",
              "      <td>33.0</td>\n",
              "      <td>43.0</td>\n",
              "      <td>76.0</td>\n",
              "    </tr>\n",
              "    <tr>\n",
              "      <th>Las Palmas</th>\n",
              "      <td>38.0</td>\n",
              "      <td>36.0</td>\n",
              "      <td>74.0</td>\n",
              "    </tr>\n",
              "    <tr>\n",
              "      <th>Malaga</th>\n",
              "      <td>27.0</td>\n",
              "      <td>34.0</td>\n",
              "      <td>61.0</td>\n",
              "    </tr>\n",
              "    <tr>\n",
              "      <th>Betis</th>\n",
              "      <td>31.0</td>\n",
              "      <td>30.0</td>\n",
              "      <td>61.0</td>\n",
              "    </tr>\n",
              "    <tr>\n",
              "      <th>Celta</th>\n",
              "      <td>23.0</td>\n",
              "      <td>37.0</td>\n",
              "      <td>60.0</td>\n",
              "    </tr>\n",
              "  </tbody>\n",
              "</table>\n",
              "</div>"
            ],
            "text/plain": [
              "                   home_defence  away_defence  defence_score\n",
              "SEASON HOMETEAM                                             \n",
              "2019   Vallecano           32.0          38.0           70.0\n",
              "       Levante             34.0          32.0           66.0\n",
              "       Huesca              30.0          35.0           65.0\n",
              "       Celta               25.0          37.0           62.0\n",
              "       Girona              28.0          25.0           53.0\n",
              "2018   La Coruna           33.0          43.0           76.0\n",
              "       Las Palmas          38.0          36.0           74.0\n",
              "       Malaga              27.0          34.0           61.0\n",
              "       Betis               31.0          30.0           61.0\n",
              "       Celta               23.0          37.0           60.0"
            ]
          },
          "metadata": {
            "tags": []
          },
          "execution_count": 71
        }
      ]
    }
  ]
}