{
  "nbformat": 4,
  "nbformat_minor": 0,
  "metadata": {
    "colab": {
      "name": "Footbal Leagua Analysis.ipynb",
      "provenance": [],
      "collapsed_sections": [],
      "authorship_tag": "ABX9TyNKEGYtuZ/bajcvawLrG6yW",
      "include_colab_link": true
    },
    "kernelspec": {
      "name": "python3",
      "display_name": "Python 3"
    }
  },
  "cells": [
    {
      "cell_type": "markdown",
      "metadata": {
        "id": "view-in-github",
        "colab_type": "text"
      },
      "source": [
        "<a href=\"https://colab.research.google.com/github/vard-uhi/tasks/blob/main/Footbal_Leagua_Analysis.ipynb\" target=\"_parent\"><img src=\"https://colab.research.google.com/assets/colab-badge.svg\" alt=\"Open In Colab\"/></a>"
      ]
    },
    {
      "cell_type": "markdown",
      "metadata": {
        "id": "lusps0tcumtE"
      },
      "source": [
        "**Task 2**\n",
        "\n",
        "*Data: Historical Data of the different Footbal Leaguas*\n",
        "\n",
        "*Task: Choose a LEAGUE you prefer and solve the following problems*\n",
        "\n",
        "*   Calculate average number of goals for home and away teams per\n",
        "SEASON for that league and sort them descending order,Which clubs are\n",
        "more consistent ?\n",
        "*   Construct a plot to show how this number is changing over time.\n",
        "Hint:\n",
        "SEASON on x-axis. Show average Home goals and Away goals on the\n",
        "same plot. Be sure that your plot has appropriate axis names and titles.\n",
        "*   Find following clubs for each season: the best attack (top 5), the best defense (top5)\n",
        "\n"
      ]
    },
    {
      "cell_type": "code",
      "metadata": {
        "id": "GdYBYhgQtdru"
      },
      "source": [
        "#import libraries\n",
        "%matplotlib inline\n",
        "import matplotlib.pyplot as plt\n",
        "import seaborn as sns\n",
        "import pandas as pd\n",
        "import numpy as np"
      ],
      "execution_count": 1,
      "outputs": []
    },
    {
      "cell_type": "code",
      "metadata": {
        "id": "BAJNrTj7usdC",
        "outputId": "cfd82c2e-0c2d-4721-af3c-0066a285374e",
        "colab": {
          "resources": {
            "http://localhost:8080/nbextensions/google.colab/files.js": {
              "data": "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",
              "ok": true,
              "headers": [
                [
                  "content-type",
                  "application/javascript"
                ]
              ],
              "status": 200,
              "status_text": ""
            }
          },
          "base_uri": "https://localhost:8080/",
          "height": 72
        }
      },
      "source": [
        "#load the data\n",
        "from google.colab import files\n",
        "data_to_load = files.upload()"
      ],
      "execution_count": 2,
      "outputs": [
        {
          "output_type": "display_data",
          "data": {
            "text/html": [
              "\n",
              "     <input type=\"file\" id=\"files-bcc38d6c-0484-4e98-b0ae-04390c284bdf\" name=\"files[]\" multiple disabled\n",
              "        style=\"border:none\" />\n",
              "     <output id=\"result-bcc38d6c-0484-4e98-b0ae-04390c284bdf\">\n",
              "      Upload widget is only available when the cell has been executed in the\n",
              "      current browser session. Please rerun this cell to enable.\n",
              "      </output>\n",
              "      <script src=\"/nbextensions/google.colab/files.js\"></script> "
            ],
            "text/plain": [
              "<IPython.core.display.HTML object>"
            ]
          },
          "metadata": {
            "tags": []
          }
        },
        {
          "output_type": "stream",
          "text": [
            "Saving data.csv to data.csv\n"
          ],
          "name": "stdout"
        }
      ]
    },
    {
      "cell_type": "code",
      "metadata": {
        "id": "EkUis89Au08h"
      },
      "source": [
        "import io\n",
        "# .read_csv() assigns the information from the initial *.csv file to this variable\n",
        "raw_data = pd.read_csv(io.BytesIO(data_to_load['data.csv']))"
      ],
      "execution_count": 3,
      "outputs": []
    },
    {
      "cell_type": "markdown",
      "metadata": {
        "id": "fudKvdV3veRb"
      },
      "source": [
        "**Checking the content of the dataset**"
      ]
    },
    {
      "cell_type": "code",
      "metadata": {
        "id": "kmFq9FwdvbcQ"
      },
      "source": [
        "#copying data\n",
        "df = raw_data.copy()"
      ],
      "execution_count": 4,
      "outputs": []
    },
    {
      "cell_type": "code",
      "metadata": {
        "id": "X2gFWJuyvlHj",
        "outputId": "8d140340-4fdf-4624-ca0d-e2c8bebeb035",
        "colab": {
          "base_uri": "https://localhost:8080/",
          "height": 204
        }
      },
      "source": [
        "df.head()"
      ],
      "execution_count": 5,
      "outputs": [
        {
          "output_type": "execute_result",
          "data": {
            "text/html": [
              "<div>\n",
              "<style scoped>\n",
              "    .dataframe tbody tr th:only-of-type {\n",
              "        vertical-align: middle;\n",
              "    }\n",
              "\n",
              "    .dataframe tbody tr th {\n",
              "        vertical-align: top;\n",
              "    }\n",
              "\n",
              "    .dataframe thead th {\n",
              "        text-align: right;\n",
              "    }\n",
              "</style>\n",
              "<table border=\"1\" class=\"dataframe\">\n",
              "  <thead>\n",
              "    <tr style=\"text-align: right;\">\n",
              "      <th></th>\n",
              "      <th>SEASON</th>\n",
              "      <th>COUNTRY</th>\n",
              "      <th>LEAGUE</th>\n",
              "      <th>DATE</th>\n",
              "      <th>HOMETEAM</th>\n",
              "      <th>AWAYTEAM</th>\n",
              "      <th>FTSC</th>\n",
              "      <th>FTR</th>\n",
              "      <th>FTHG</th>\n",
              "      <th>FTAG</th>\n",
              "      <th>FTTG</th>\n",
              "      <th>H</th>\n",
              "      <th>D</th>\n",
              "      <th>A</th>\n",
              "    </tr>\n",
              "  </thead>\n",
              "  <tbody>\n",
              "    <tr>\n",
              "      <th>0</th>\n",
              "      <td>1994.0</td>\n",
              "      <td>England</td>\n",
              "      <td>Premier League</td>\n",
              "      <td>1993-08-14</td>\n",
              "      <td>Arsenal</td>\n",
              "      <td>Coventry</td>\n",
              "      <td>0-3</td>\n",
              "      <td>A</td>\n",
              "      <td>0.0</td>\n",
              "      <td>3.0</td>\n",
              "      <td>3.0</td>\n",
              "      <td>NaN</td>\n",
              "      <td>NaN</td>\n",
              "      <td>NaN</td>\n",
              "    </tr>\n",
              "    <tr>\n",
              "      <th>1</th>\n",
              "      <td>1994.0</td>\n",
              "      <td>England</td>\n",
              "      <td>Premier League</td>\n",
              "      <td>1993-08-14</td>\n",
              "      <td>Aston Villa</td>\n",
              "      <td>QPR</td>\n",
              "      <td>4-1</td>\n",
              "      <td>H</td>\n",
              "      <td>4.0</td>\n",
              "      <td>1.0</td>\n",
              "      <td>5.0</td>\n",
              "      <td>NaN</td>\n",
              "      <td>NaN</td>\n",
              "      <td>NaN</td>\n",
              "    </tr>\n",
              "    <tr>\n",
              "      <th>2</th>\n",
              "      <td>1994.0</td>\n",
              "      <td>England</td>\n",
              "      <td>Premier League</td>\n",
              "      <td>1993-08-14</td>\n",
              "      <td>Chelsea</td>\n",
              "      <td>Blackburn</td>\n",
              "      <td>1-2</td>\n",
              "      <td>A</td>\n",
              "      <td>1.0</td>\n",
              "      <td>2.0</td>\n",
              "      <td>3.0</td>\n",
              "      <td>NaN</td>\n",
              "      <td>NaN</td>\n",
              "      <td>NaN</td>\n",
              "    </tr>\n",
              "    <tr>\n",
              "      <th>3</th>\n",
              "      <td>1994.0</td>\n",
              "      <td>England</td>\n",
              "      <td>Premier League</td>\n",
              "      <td>1993-08-14</td>\n",
              "      <td>Liverpool</td>\n",
              "      <td>Sheffield Weds</td>\n",
              "      <td>2-0</td>\n",
              "      <td>H</td>\n",
              "      <td>2.0</td>\n",
              "      <td>0.0</td>\n",
              "      <td>2.0</td>\n",
              "      <td>NaN</td>\n",
              "      <td>NaN</td>\n",
              "      <td>NaN</td>\n",
              "    </tr>\n",
              "    <tr>\n",
              "      <th>4</th>\n",
              "      <td>1994.0</td>\n",
              "      <td>England</td>\n",
              "      <td>Premier League</td>\n",
              "      <td>1993-08-14</td>\n",
              "      <td>Man City</td>\n",
              "      <td>Leeds</td>\n",
              "      <td>1-1</td>\n",
              "      <td>D</td>\n",
              "      <td>1.0</td>\n",
              "      <td>1.0</td>\n",
              "      <td>2.0</td>\n",
              "      <td>NaN</td>\n",
              "      <td>NaN</td>\n",
              "      <td>NaN</td>\n",
              "    </tr>\n",
              "  </tbody>\n",
              "</table>\n",
              "</div>"
            ],
            "text/plain": [
              "   SEASON  COUNTRY          LEAGUE        DATE  ... FTTG   H   D   A\n",
              "0  1994.0  England  Premier League  1993-08-14  ...  3.0 NaN NaN NaN\n",
              "1  1994.0  England  Premier League  1993-08-14  ...  5.0 NaN NaN NaN\n",
              "2  1994.0  England  Premier League  1993-08-14  ...  3.0 NaN NaN NaN\n",
              "3  1994.0  England  Premier League  1993-08-14  ...  2.0 NaN NaN NaN\n",
              "4  1994.0  England  Premier League  1993-08-14  ...  2.0 NaN NaN NaN\n",
              "\n",
              "[5 rows x 14 columns]"
            ]
          },
          "metadata": {
            "tags": []
          },
          "execution_count": 5
        }
      ]
    },
    {
      "cell_type": "code",
      "metadata": {
        "id": "uKBTXZ-ovnbn",
        "outputId": "6d7e7c60-c727-40f0-f8bf-dcea4680eeab",
        "colab": {
          "base_uri": "https://localhost:8080/"
        }
      },
      "source": [
        "#checking unique value to choose one for the analysis\n",
        "df['LEAGUE'].unique()"
      ],
      "execution_count": null,
      "outputs": [
        {
          "output_type": "execute_result",
          "data": {
            "text/plain": [
              "array(['Premier League', 'Bundesliga 1', 'La Liga Primera Division',\n",
              "       'Serie A', 'Le Championnat', 'Eredivisie', 'Liga I',\n",
              "       'Futbol Ligi 1', 'Ethniki Katigoria', 'Jupiler League'],\n",
              "      dtype=object)"
            ]
          },
          "metadata": {
            "tags": []
          },
          "execution_count": 6
        }
      ]
    },
    {
      "cell_type": "markdown",
      "metadata": {
        "id": "orFnhVAHvsb3"
      },
      "source": [
        "I will choose 'La Liga Primera Division' as an object for furthur analysis."
      ]
    },
    {
      "cell_type": "markdown",
      "metadata": {
        "id": "Qx2FRRjEvvSZ"
      },
      "source": [
        "# **Exploratory Data Analysis of the \"La Liga Primera Division\"**"
      ]
    },
    {
      "cell_type": "code",
      "metadata": {
        "id": "IE_C2xMwvp-L",
        "outputId": "0911021c-6215-4428-92db-a25e41350a69",
        "colab": {
          "base_uri": "https://localhost:8080/"
        }
      },
      "source": [
        "#general summary\n",
        "df.info()"
      ],
      "execution_count": null,
      "outputs": [
        {
          "output_type": "stream",
          "text": [
            "<class 'pandas.core.frame.DataFrame'>\n",
            "RangeIndex: 87816 entries, 0 to 87815\n",
            "Data columns (total 14 columns):\n",
            " #   Column    Non-Null Count  Dtype  \n",
            "---  ------    --------------  -----  \n",
            " 0   SEASON    87816 non-null  float64\n",
            " 1   COUNTRY   87816 non-null  object \n",
            " 2   LEAGUE    87816 non-null  object \n",
            " 3   DATE      87816 non-null  object \n",
            " 4   HOMETEAM  87816 non-null  object \n",
            " 5   AWAYTEAM  87816 non-null  object \n",
            " 6   FTSC      87816 non-null  object \n",
            " 7   FTR       87814 non-null  object \n",
            " 8   FTHG      87814 non-null  float64\n",
            " 9   FTAG      87814 non-null  float64\n",
            " 10  FTTG      87814 non-null  float64\n",
            " 11  H         57660 non-null  float64\n",
            " 12  D         57660 non-null  float64\n",
            " 13  A         57660 non-null  float64\n",
            "dtypes: float64(7), object(7)\n",
            "memory usage: 9.4+ MB\n"
          ],
          "name": "stdout"
        }
      ]
    },
    {
      "cell_type": "code",
      "metadata": {
        "id": "OwqZCmOd4_sm"
      },
      "source": [
        "#changing datatype of the \"Season\" from float to integer\n",
        "df.SEASON = df.SEASON.astype(int)"
      ],
      "execution_count": 6,
      "outputs": []
    },
    {
      "cell_type": "code",
      "metadata": {
        "id": "OB8JCXf553Yv",
        "outputId": "43472f44-6e28-453c-d712-f3c5fb620faf",
        "colab": {
          "base_uri": "https://localhost:8080/"
        }
      },
      "source": [
        "type(df['SEASON'][0])"
      ],
      "execution_count": 7,
      "outputs": [
        {
          "output_type": "execute_result",
          "data": {
            "text/plain": [
              "numpy.int64"
            ]
          },
          "metadata": {
            "tags": []
          },
          "execution_count": 7
        }
      ]
    },
    {
      "cell_type": "code",
      "metadata": {
        "id": "pT-q7K5Xv4Lg"
      },
      "source": [
        "#creating new dataframe with chosen category from \"League\"\n",
        "df_new = df[df.LEAGUE == 'La Liga Primera Division']"
      ],
      "execution_count": 8,
      "outputs": []
    },
    {
      "cell_type": "code",
      "metadata": {
        "id": "oA_-1I3Cv71F",
        "outputId": "e2c39bab-4c82-42f4-8939-3ecb07121665",
        "colab": {
          "base_uri": "https://localhost:8080/",
          "height": 204
        }
      },
      "source": [
        "#to see dataset's first few rows\n",
        "df_new.head()"
      ],
      "execution_count": 9,
      "outputs": [
        {
          "output_type": "execute_result",
          "data": {
            "text/html": [
              "<div>\n",
              "<style scoped>\n",
              "    .dataframe tbody tr th:only-of-type {\n",
              "        vertical-align: middle;\n",
              "    }\n",
              "\n",
              "    .dataframe tbody tr th {\n",
              "        vertical-align: top;\n",
              "    }\n",
              "\n",
              "    .dataframe thead th {\n",
              "        text-align: right;\n",
              "    }\n",
              "</style>\n",
              "<table border=\"1\" class=\"dataframe\">\n",
              "  <thead>\n",
              "    <tr style=\"text-align: right;\">\n",
              "      <th></th>\n",
              "      <th>SEASON</th>\n",
              "      <th>COUNTRY</th>\n",
              "      <th>LEAGUE</th>\n",
              "      <th>DATE</th>\n",
              "      <th>HOMETEAM</th>\n",
              "      <th>AWAYTEAM</th>\n",
              "      <th>FTSC</th>\n",
              "      <th>FTR</th>\n",
              "      <th>FTHG</th>\n",
              "      <th>FTAG</th>\n",
              "      <th>FTTG</th>\n",
              "      <th>H</th>\n",
              "      <th>D</th>\n",
              "      <th>A</th>\n",
              "    </tr>\n",
              "  </thead>\n",
              "  <tbody>\n",
              "    <tr>\n",
              "      <th>768</th>\n",
              "      <td>1994</td>\n",
              "      <td>Spain</td>\n",
              "      <td>La Liga Primera Division</td>\n",
              "      <td>1993-09-05</td>\n",
              "      <td>Ath Bilbao</td>\n",
              "      <td>Albacete</td>\n",
              "      <td>4-1</td>\n",
              "      <td>H</td>\n",
              "      <td>4.0</td>\n",
              "      <td>1.0</td>\n",
              "      <td>5.0</td>\n",
              "      <td>NaN</td>\n",
              "      <td>NaN</td>\n",
              "      <td>NaN</td>\n",
              "    </tr>\n",
              "    <tr>\n",
              "      <th>769</th>\n",
              "      <td>1994</td>\n",
              "      <td>Spain</td>\n",
              "      <td>La Liga Primera Division</td>\n",
              "      <td>1993-09-05</td>\n",
              "      <td>Ath Madrid</td>\n",
              "      <td>Logrones</td>\n",
              "      <td>1-0</td>\n",
              "      <td>H</td>\n",
              "      <td>1.0</td>\n",
              "      <td>0.0</td>\n",
              "      <td>1.0</td>\n",
              "      <td>NaN</td>\n",
              "      <td>NaN</td>\n",
              "      <td>NaN</td>\n",
              "    </tr>\n",
              "    <tr>\n",
              "      <th>770</th>\n",
              "      <td>1994</td>\n",
              "      <td>Spain</td>\n",
              "      <td>La Liga Primera Division</td>\n",
              "      <td>1993-09-05</td>\n",
              "      <td>Barcelona</td>\n",
              "      <td>Sociedad</td>\n",
              "      <td>3-0</td>\n",
              "      <td>H</td>\n",
              "      <td>3.0</td>\n",
              "      <td>0.0</td>\n",
              "      <td>3.0</td>\n",
              "      <td>NaN</td>\n",
              "      <td>NaN</td>\n",
              "      <td>NaN</td>\n",
              "    </tr>\n",
              "    <tr>\n",
              "      <th>771</th>\n",
              "      <td>1994</td>\n",
              "      <td>Spain</td>\n",
              "      <td>La Liga Primera Division</td>\n",
              "      <td>1993-09-05</td>\n",
              "      <td>La Coruna</td>\n",
              "      <td>Celta</td>\n",
              "      <td>0-0</td>\n",
              "      <td>D</td>\n",
              "      <td>0.0</td>\n",
              "      <td>0.0</td>\n",
              "      <td>0.0</td>\n",
              "      <td>NaN</td>\n",
              "      <td>NaN</td>\n",
              "      <td>NaN</td>\n",
              "    </tr>\n",
              "    <tr>\n",
              "      <th>772</th>\n",
              "      <td>1994</td>\n",
              "      <td>Spain</td>\n",
              "      <td>La Liga Primera Division</td>\n",
              "      <td>1993-09-05</td>\n",
              "      <td>Osasuna</td>\n",
              "      <td>Real Madrid</td>\n",
              "      <td>1-4</td>\n",
              "      <td>A</td>\n",
              "      <td>1.0</td>\n",
              "      <td>4.0</td>\n",
              "      <td>5.0</td>\n",
              "      <td>NaN</td>\n",
              "      <td>NaN</td>\n",
              "      <td>NaN</td>\n",
              "    </tr>\n",
              "  </tbody>\n",
              "</table>\n",
              "</div>"
            ],
            "text/plain": [
              "     SEASON COUNTRY                    LEAGUE        DATE  ... FTTG   H   D   A\n",
              "768    1994   Spain  La Liga Primera Division  1993-09-05  ...  5.0 NaN NaN NaN\n",
              "769    1994   Spain  La Liga Primera Division  1993-09-05  ...  1.0 NaN NaN NaN\n",
              "770    1994   Spain  La Liga Primera Division  1993-09-05  ...  3.0 NaN NaN NaN\n",
              "771    1994   Spain  La Liga Primera Division  1993-09-05  ...  0.0 NaN NaN NaN\n",
              "772    1994   Spain  La Liga Primera Division  1993-09-05  ...  5.0 NaN NaN NaN\n",
              "\n",
              "[5 rows x 14 columns]"
            ]
          },
          "metadata": {
            "tags": []
          },
          "execution_count": 9
        }
      ]
    },
    {
      "cell_type": "code",
      "metadata": {
        "id": "Bf_Mh0gIBFLz",
        "outputId": "29bd59a7-0535-4dce-80bc-3c4b6d4f63cc",
        "colab": {
          "base_uri": "https://localhost:8080/"
        }
      },
      "source": [
        "#checking for missing values\n",
        "pd.isnull(df_new).sum()"
      ],
      "execution_count": null,
      "outputs": [
        {
          "output_type": "execute_result",
          "data": {
            "text/plain": [
              "SEASON         0\n",
              "COUNTRY        0\n",
              "LEAGUE         0\n",
              "DATE           0\n",
              "HOMETEAM       0\n",
              "AWAYTEAM       0\n",
              "FTSC           0\n",
              "FTR            0\n",
              "FTHG           0\n",
              "FTAG           0\n",
              "FTTG           0\n",
              "H           3590\n",
              "D           3590\n",
              "A           3590\n",
              "dtype: int64"
            ]
          },
          "metadata": {
            "tags": []
          },
          "execution_count": 12
        }
      ]
    },
    {
      "cell_type": "markdown",
      "metadata": {
        "id": "6j9OTG0jBpDD"
      },
      "source": [
        "As we are not going to use \"H\", \"D\" and \"A\" features in our analysis, I will drop them and will aso get rid of the missing values."
      ]
    },
    {
      "cell_type": "code",
      "metadata": {
        "id": "iiOrP73mBodn"
      },
      "source": [
        "df_new.drop(['H'], axis=1, inplace=True)"
      ],
      "execution_count": null,
      "outputs": []
    },
    {
      "cell_type": "code",
      "metadata": {
        "id": "ZINe1FE2CLo5"
      },
      "source": [
        "df_new.drop(['D'], axis=1, inplace=True)"
      ],
      "execution_count": null,
      "outputs": []
    },
    {
      "cell_type": "code",
      "metadata": {
        "id": "RXpS73_lCRlI"
      },
      "source": [
        "df_new.drop(['A'], axis=1, inplace=True)"
      ],
      "execution_count": null,
      "outputs": []
    },
    {
      "cell_type": "code",
      "metadata": {
        "id": "LcJp6ALtv-pw",
        "outputId": "fa4d9ba3-6d05-4c4f-aa1b-329ff2671a7a",
        "colab": {
          "base_uri": "https://localhost:8080/"
        }
      },
      "source": [
        "df_new.info()"
      ],
      "execution_count": 13,
      "outputs": [
        {
          "output_type": "stream",
          "text": [
            "<class 'pandas.core.frame.DataFrame'>\n",
            "Int64Index: 10044 entries, 768 to 85657\n",
            "Data columns (total 11 columns):\n",
            " #   Column    Non-Null Count  Dtype  \n",
            "---  ------    --------------  -----  \n",
            " 0   SEASON    10044 non-null  int64  \n",
            " 1   COUNTRY   10044 non-null  object \n",
            " 2   LEAGUE    10044 non-null  object \n",
            " 3   DATE      10044 non-null  object \n",
            " 4   HOMETEAM  10044 non-null  object \n",
            " 5   AWAYTEAM  10044 non-null  object \n",
            " 6   FTSC      10044 non-null  object \n",
            " 7   FTR       10044 non-null  object \n",
            " 8   FTHG      10044 non-null  float64\n",
            " 9   FTAG      10044 non-null  float64\n",
            " 10  FTTG      10044 non-null  float64\n",
            "dtypes: float64(3), int64(1), object(7)\n",
            "memory usage: 941.6+ KB\n"
          ],
          "name": "stdout"
        }
      ]
    },
    {
      "cell_type": "code",
      "metadata": {
        "id": "_Rtsf2DZwBRp"
      },
      "source": [
        "#reset index\n",
        "df_new = df_new.reset_index(drop=True)"
      ],
      "execution_count": 14,
      "outputs": []
    },
    {
      "cell_type": "code",
      "metadata": {
        "id": "JXona6N3wENe",
        "outputId": "9398ce15-ceea-41ed-dfdf-5ded26ade411",
        "colab": {
          "base_uri": "https://localhost:8080/",
          "height": 204
        }
      },
      "source": [
        "#first few rows\n",
        "df_new.head()"
      ],
      "execution_count": 15,
      "outputs": [
        {
          "output_type": "execute_result",
          "data": {
            "text/html": [
              "<div>\n",
              "<style scoped>\n",
              "    .dataframe tbody tr th:only-of-type {\n",
              "        vertical-align: middle;\n",
              "    }\n",
              "\n",
              "    .dataframe tbody tr th {\n",
              "        vertical-align: top;\n",
              "    }\n",
              "\n",
              "    .dataframe thead th {\n",
              "        text-align: right;\n",
              "    }\n",
              "</style>\n",
              "<table border=\"1\" class=\"dataframe\">\n",
              "  <thead>\n",
              "    <tr style=\"text-align: right;\">\n",
              "      <th></th>\n",
              "      <th>SEASON</th>\n",
              "      <th>COUNTRY</th>\n",
              "      <th>LEAGUE</th>\n",
              "      <th>DATE</th>\n",
              "      <th>HOMETEAM</th>\n",
              "      <th>AWAYTEAM</th>\n",
              "      <th>FTSC</th>\n",
              "      <th>FTR</th>\n",
              "      <th>FTHG</th>\n",
              "      <th>FTAG</th>\n",
              "      <th>FTTG</th>\n",
              "    </tr>\n",
              "  </thead>\n",
              "  <tbody>\n",
              "    <tr>\n",
              "      <th>0</th>\n",
              "      <td>1994</td>\n",
              "      <td>Spain</td>\n",
              "      <td>La Liga Primera Division</td>\n",
              "      <td>1993-09-05</td>\n",
              "      <td>Ath Bilbao</td>\n",
              "      <td>Albacete</td>\n",
              "      <td>4-1</td>\n",
              "      <td>H</td>\n",
              "      <td>4.0</td>\n",
              "      <td>1.0</td>\n",
              "      <td>5.0</td>\n",
              "    </tr>\n",
              "    <tr>\n",
              "      <th>1</th>\n",
              "      <td>1994</td>\n",
              "      <td>Spain</td>\n",
              "      <td>La Liga Primera Division</td>\n",
              "      <td>1993-09-05</td>\n",
              "      <td>Ath Madrid</td>\n",
              "      <td>Logrones</td>\n",
              "      <td>1-0</td>\n",
              "      <td>H</td>\n",
              "      <td>1.0</td>\n",
              "      <td>0.0</td>\n",
              "      <td>1.0</td>\n",
              "    </tr>\n",
              "    <tr>\n",
              "      <th>2</th>\n",
              "      <td>1994</td>\n",
              "      <td>Spain</td>\n",
              "      <td>La Liga Primera Division</td>\n",
              "      <td>1993-09-05</td>\n",
              "      <td>Barcelona</td>\n",
              "      <td>Sociedad</td>\n",
              "      <td>3-0</td>\n",
              "      <td>H</td>\n",
              "      <td>3.0</td>\n",
              "      <td>0.0</td>\n",
              "      <td>3.0</td>\n",
              "    </tr>\n",
              "    <tr>\n",
              "      <th>3</th>\n",
              "      <td>1994</td>\n",
              "      <td>Spain</td>\n",
              "      <td>La Liga Primera Division</td>\n",
              "      <td>1993-09-05</td>\n",
              "      <td>La Coruna</td>\n",
              "      <td>Celta</td>\n",
              "      <td>0-0</td>\n",
              "      <td>D</td>\n",
              "      <td>0.0</td>\n",
              "      <td>0.0</td>\n",
              "      <td>0.0</td>\n",
              "    </tr>\n",
              "    <tr>\n",
              "      <th>4</th>\n",
              "      <td>1994</td>\n",
              "      <td>Spain</td>\n",
              "      <td>La Liga Primera Division</td>\n",
              "      <td>1993-09-05</td>\n",
              "      <td>Osasuna</td>\n",
              "      <td>Real Madrid</td>\n",
              "      <td>1-4</td>\n",
              "      <td>A</td>\n",
              "      <td>1.0</td>\n",
              "      <td>4.0</td>\n",
              "      <td>5.0</td>\n",
              "    </tr>\n",
              "  </tbody>\n",
              "</table>\n",
              "</div>"
            ],
            "text/plain": [
              "   SEASON COUNTRY                    LEAGUE        DATE  ... FTR FTHG FTAG FTTG\n",
              "0    1994   Spain  La Liga Primera Division  1993-09-05  ...   H  4.0  1.0  5.0\n",
              "1    1994   Spain  La Liga Primera Division  1993-09-05  ...   H  1.0  0.0  1.0\n",
              "2    1994   Spain  La Liga Primera Division  1993-09-05  ...   H  3.0  0.0  3.0\n",
              "3    1994   Spain  La Liga Primera Division  1993-09-05  ...   D  0.0  0.0  0.0\n",
              "4    1994   Spain  La Liga Primera Division  1993-09-05  ...   A  1.0  4.0  5.0\n",
              "\n",
              "[5 rows x 11 columns]"
            ]
          },
          "metadata": {
            "tags": []
          },
          "execution_count": 15
        }
      ]
    },
    {
      "cell_type": "code",
      "metadata": {
        "id": "3OKN4w60wHK4",
        "outputId": "ee890141-33be-4c72-9a59-483ca732bedb",
        "colab": {
          "base_uri": "https://localhost:8080/"
        }
      },
      "source": [
        "#looking at unique values in \"Season\" to have an understanding of the timeframe of the data\n",
        "df_new['SEASON'].unique()"
      ],
      "execution_count": 16,
      "outputs": [
        {
          "output_type": "execute_result",
          "data": {
            "text/plain": [
              "array([1994, 1995, 1996, 1997, 1998, 1999, 2000, 2001, 2002, 2003, 2004,\n",
              "       2005, 2006, 2007, 2008, 2009, 2010, 2011, 2012, 2013, 2014, 2015,\n",
              "       2016, 2017, 2018, 2019])"
            ]
          },
          "metadata": {
            "tags": []
          },
          "execution_count": 16
        }
      ]
    },
    {
      "cell_type": "markdown",
      "metadata": {
        "id": "BiGVS6BOwOvq"
      },
      "source": [
        "# **Calculate average number of goals for home and away teams per SEASON for that league and sort them descending order. Which clubs are more consistent?**"
      ]
    },
    {
      "cell_type": "markdown",
      "metadata": {
        "id": "IojKDKbNwXfC"
      },
      "source": [
        "Abbreviations:\n",
        "\n",
        "* FTSC = Full Time Score\n",
        "* FTR = Full Time Result  \n",
        "* FTHG = Full Time Home Team Goals\t\n",
        "* FTAG = Full Time Away Team Goals\n",
        "* FTTG = Full Time Total Goal"
      ]
    },
    {
      "cell_type": "code",
      "metadata": {
        "id": "fVbN2NGcwLxA",
        "outputId": "8630d704-7c8e-4927-c95b-a866978651dd",
        "colab": {
          "base_uri": "https://localhost:8080/",
          "height": 204
        }
      },
      "source": [
        "df_new.head()"
      ],
      "execution_count": 17,
      "outputs": [
        {
          "output_type": "execute_result",
          "data": {
            "text/html": [
              "<div>\n",
              "<style scoped>\n",
              "    .dataframe tbody tr th:only-of-type {\n",
              "        vertical-align: middle;\n",
              "    }\n",
              "\n",
              "    .dataframe tbody tr th {\n",
              "        vertical-align: top;\n",
              "    }\n",
              "\n",
              "    .dataframe thead th {\n",
              "        text-align: right;\n",
              "    }\n",
              "</style>\n",
              "<table border=\"1\" class=\"dataframe\">\n",
              "  <thead>\n",
              "    <tr style=\"text-align: right;\">\n",
              "      <th></th>\n",
              "      <th>SEASON</th>\n",
              "      <th>COUNTRY</th>\n",
              "      <th>LEAGUE</th>\n",
              "      <th>DATE</th>\n",
              "      <th>HOMETEAM</th>\n",
              "      <th>AWAYTEAM</th>\n",
              "      <th>FTSC</th>\n",
              "      <th>FTR</th>\n",
              "      <th>FTHG</th>\n",
              "      <th>FTAG</th>\n",
              "      <th>FTTG</th>\n",
              "    </tr>\n",
              "  </thead>\n",
              "  <tbody>\n",
              "    <tr>\n",
              "      <th>0</th>\n",
              "      <td>1994</td>\n",
              "      <td>Spain</td>\n",
              "      <td>La Liga Primera Division</td>\n",
              "      <td>1993-09-05</td>\n",
              "      <td>Ath Bilbao</td>\n",
              "      <td>Albacete</td>\n",
              "      <td>4-1</td>\n",
              "      <td>H</td>\n",
              "      <td>4.0</td>\n",
              "      <td>1.0</td>\n",
              "      <td>5.0</td>\n",
              "    </tr>\n",
              "    <tr>\n",
              "      <th>1</th>\n",
              "      <td>1994</td>\n",
              "      <td>Spain</td>\n",
              "      <td>La Liga Primera Division</td>\n",
              "      <td>1993-09-05</td>\n",
              "      <td>Ath Madrid</td>\n",
              "      <td>Logrones</td>\n",
              "      <td>1-0</td>\n",
              "      <td>H</td>\n",
              "      <td>1.0</td>\n",
              "      <td>0.0</td>\n",
              "      <td>1.0</td>\n",
              "    </tr>\n",
              "    <tr>\n",
              "      <th>2</th>\n",
              "      <td>1994</td>\n",
              "      <td>Spain</td>\n",
              "      <td>La Liga Primera Division</td>\n",
              "      <td>1993-09-05</td>\n",
              "      <td>Barcelona</td>\n",
              "      <td>Sociedad</td>\n",
              "      <td>3-0</td>\n",
              "      <td>H</td>\n",
              "      <td>3.0</td>\n",
              "      <td>0.0</td>\n",
              "      <td>3.0</td>\n",
              "    </tr>\n",
              "    <tr>\n",
              "      <th>3</th>\n",
              "      <td>1994</td>\n",
              "      <td>Spain</td>\n",
              "      <td>La Liga Primera Division</td>\n",
              "      <td>1993-09-05</td>\n",
              "      <td>La Coruna</td>\n",
              "      <td>Celta</td>\n",
              "      <td>0-0</td>\n",
              "      <td>D</td>\n",
              "      <td>0.0</td>\n",
              "      <td>0.0</td>\n",
              "      <td>0.0</td>\n",
              "    </tr>\n",
              "    <tr>\n",
              "      <th>4</th>\n",
              "      <td>1994</td>\n",
              "      <td>Spain</td>\n",
              "      <td>La Liga Primera Division</td>\n",
              "      <td>1993-09-05</td>\n",
              "      <td>Osasuna</td>\n",
              "      <td>Real Madrid</td>\n",
              "      <td>1-4</td>\n",
              "      <td>A</td>\n",
              "      <td>1.0</td>\n",
              "      <td>4.0</td>\n",
              "      <td>5.0</td>\n",
              "    </tr>\n",
              "  </tbody>\n",
              "</table>\n",
              "</div>"
            ],
            "text/plain": [
              "   SEASON COUNTRY                    LEAGUE        DATE  ... FTR FTHG FTAG FTTG\n",
              "0    1994   Spain  La Liga Primera Division  1993-09-05  ...   H  4.0  1.0  5.0\n",
              "1    1994   Spain  La Liga Primera Division  1993-09-05  ...   H  1.0  0.0  1.0\n",
              "2    1994   Spain  La Liga Primera Division  1993-09-05  ...   H  3.0  0.0  3.0\n",
              "3    1994   Spain  La Liga Primera Division  1993-09-05  ...   D  0.0  0.0  0.0\n",
              "4    1994   Spain  La Liga Primera Division  1993-09-05  ...   A  1.0  4.0  5.0\n",
              "\n",
              "[5 rows x 11 columns]"
            ]
          },
          "metadata": {
            "tags": []
          },
          "execution_count": 17
        }
      ]
    },
    {
      "cell_type": "code",
      "metadata": {
        "id": "6eUvhyuYxBW2"
      },
      "source": [
        "#average number of goals for Hometeam per SEASON\n",
        "hometeam_ave_goals = pd.DataFrame(df_new.groupby(['SEASON', 'HOMETEAM'])['FTHG'].mean()).reset_index()"
      ],
      "execution_count": 18,
      "outputs": []
    },
    {
      "cell_type": "code",
      "metadata": {
        "id": "ZjBocGgAxP7V",
        "outputId": "099fc9fe-5400-46d6-fdb7-7b607fa4e9bd",
        "colab": {
          "base_uri": "https://localhost:8080/",
          "height": 204
        }
      },
      "source": [
        "hometeam_ave_goals.head()"
      ],
      "execution_count": 19,
      "outputs": [
        {
          "output_type": "execute_result",
          "data": {
            "text/html": [
              "<div>\n",
              "<style scoped>\n",
              "    .dataframe tbody tr th:only-of-type {\n",
              "        vertical-align: middle;\n",
              "    }\n",
              "\n",
              "    .dataframe tbody tr th {\n",
              "        vertical-align: top;\n",
              "    }\n",
              "\n",
              "    .dataframe thead th {\n",
              "        text-align: right;\n",
              "    }\n",
              "</style>\n",
              "<table border=\"1\" class=\"dataframe\">\n",
              "  <thead>\n",
              "    <tr style=\"text-align: right;\">\n",
              "      <th></th>\n",
              "      <th>SEASON</th>\n",
              "      <th>HOMETEAM</th>\n",
              "      <th>FTHG</th>\n",
              "    </tr>\n",
              "  </thead>\n",
              "  <tbody>\n",
              "    <tr>\n",
              "      <th>0</th>\n",
              "      <td>1994</td>\n",
              "      <td>Albacete</td>\n",
              "      <td>1.736842</td>\n",
              "    </tr>\n",
              "    <tr>\n",
              "      <th>1</th>\n",
              "      <td>1994</td>\n",
              "      <td>Ath Bilbao</td>\n",
              "      <td>2.052632</td>\n",
              "    </tr>\n",
              "    <tr>\n",
              "      <th>2</th>\n",
              "      <td>1994</td>\n",
              "      <td>Ath Madrid</td>\n",
              "      <td>1.684211</td>\n",
              "    </tr>\n",
              "    <tr>\n",
              "      <th>3</th>\n",
              "      <td>1994</td>\n",
              "      <td>Barcelona</td>\n",
              "      <td>2.947368</td>\n",
              "    </tr>\n",
              "    <tr>\n",
              "      <th>4</th>\n",
              "      <td>1994</td>\n",
              "      <td>Celta</td>\n",
              "      <td>1.315789</td>\n",
              "    </tr>\n",
              "  </tbody>\n",
              "</table>\n",
              "</div>"
            ],
            "text/plain": [
              "   SEASON    HOMETEAM      FTHG\n",
              "0    1994    Albacete  1.736842\n",
              "1    1994  Ath Bilbao  2.052632\n",
              "2    1994  Ath Madrid  1.684211\n",
              "3    1994   Barcelona  2.947368\n",
              "4    1994       Celta  1.315789"
            ]
          },
          "metadata": {
            "tags": []
          },
          "execution_count": 19
        }
      ]
    },
    {
      "cell_type": "code",
      "metadata": {
        "id": "3oFzXtSfxlew"
      },
      "source": [
        "#we want to make all available values visible, hence no limit on maximum value, that is why we use None keyword\n",
        "#pd.options.display.max_columns = None\n",
        "#pd.options.display.max_rows = None"
      ],
      "execution_count": null,
      "outputs": []
    },
    {
      "cell_type": "code",
      "metadata": {
        "id": "BhCwOMRzxhcy"
      },
      "source": [
        "#Hometeam average goals per Season ordered by descending, top 1\n",
        "hometeam_ave_ordered = hometeam_ave_goals.groupby(['SEASON'], sort=False).apply(lambda x: x.sort_values(['FTHG','HOMETEAM'], ascending=False)[:1]) \\\n",
        "    .reset_index(drop=True)"
      ],
      "execution_count": 20,
      "outputs": []
    },
    {
      "cell_type": "code",
      "metadata": {
        "id": "7SJ0Wsl8yD-R",
        "outputId": "5162da59-7049-4236-86ca-2e223da60152",
        "colab": {
          "base_uri": "https://localhost:8080/",
          "height": 359
        }
      },
      "source": [
        "hometeam_ave_ordered.head(10)"
      ],
      "execution_count": 21,
      "outputs": [
        {
          "output_type": "execute_result",
          "data": {
            "text/html": [
              "<div>\n",
              "<style scoped>\n",
              "    .dataframe tbody tr th:only-of-type {\n",
              "        vertical-align: middle;\n",
              "    }\n",
              "\n",
              "    .dataframe tbody tr th {\n",
              "        vertical-align: top;\n",
              "    }\n",
              "\n",
              "    .dataframe thead th {\n",
              "        text-align: right;\n",
              "    }\n",
              "</style>\n",
              "<table border=\"1\" class=\"dataframe\">\n",
              "  <thead>\n",
              "    <tr style=\"text-align: right;\">\n",
              "      <th></th>\n",
              "      <th>SEASON</th>\n",
              "      <th>HOMETEAM</th>\n",
              "      <th>FTHG</th>\n",
              "    </tr>\n",
              "  </thead>\n",
              "  <tbody>\n",
              "    <tr>\n",
              "      <th>0</th>\n",
              "      <td>1994</td>\n",
              "      <td>Barcelona</td>\n",
              "      <td>2.947368</td>\n",
              "    </tr>\n",
              "    <tr>\n",
              "      <th>1</th>\n",
              "      <td>1995</td>\n",
              "      <td>Real Madrid</td>\n",
              "      <td>2.368421</td>\n",
              "    </tr>\n",
              "    <tr>\n",
              "      <th>2</th>\n",
              "      <td>1996</td>\n",
              "      <td>Valencia</td>\n",
              "      <td>2.047619</td>\n",
              "    </tr>\n",
              "    <tr>\n",
              "      <th>3</th>\n",
              "      <td>1997</td>\n",
              "      <td>Barcelona</td>\n",
              "      <td>3.000000</td>\n",
              "    </tr>\n",
              "    <tr>\n",
              "      <th>4</th>\n",
              "      <td>1998</td>\n",
              "      <td>Ath Madrid</td>\n",
              "      <td>2.473684</td>\n",
              "    </tr>\n",
              "    <tr>\n",
              "      <th>5</th>\n",
              "      <td>1999</td>\n",
              "      <td>Barcelona</td>\n",
              "      <td>2.736842</td>\n",
              "    </tr>\n",
              "    <tr>\n",
              "      <th>6</th>\n",
              "      <td>2000</td>\n",
              "      <td>La Coruna</td>\n",
              "      <td>2.473684</td>\n",
              "    </tr>\n",
              "    <tr>\n",
              "      <th>7</th>\n",
              "      <td>2001</td>\n",
              "      <td>Real Madrid</td>\n",
              "      <td>2.789474</td>\n",
              "    </tr>\n",
              "    <tr>\n",
              "      <th>8</th>\n",
              "      <td>2002</td>\n",
              "      <td>Real Madrid</td>\n",
              "      <td>2.526316</td>\n",
              "    </tr>\n",
              "    <tr>\n",
              "      <th>9</th>\n",
              "      <td>2003</td>\n",
              "      <td>Real Madrid</td>\n",
              "      <td>2.736842</td>\n",
              "    </tr>\n",
              "  </tbody>\n",
              "</table>\n",
              "</div>"
            ],
            "text/plain": [
              "   SEASON     HOMETEAM      FTHG\n",
              "0    1994    Barcelona  2.947368\n",
              "1    1995  Real Madrid  2.368421\n",
              "2    1996     Valencia  2.047619\n",
              "3    1997    Barcelona  3.000000\n",
              "4    1998   Ath Madrid  2.473684\n",
              "5    1999    Barcelona  2.736842\n",
              "6    2000    La Coruna  2.473684\n",
              "7    2001  Real Madrid  2.789474\n",
              "8    2002  Real Madrid  2.526316\n",
              "9    2003  Real Madrid  2.736842"
            ]
          },
          "metadata": {
            "tags": []
          },
          "execution_count": 21
        }
      ]
    },
    {
      "cell_type": "code",
      "metadata": {
        "id": "3TigFwdP7WqT"
      },
      "source": [
        "#average number of goals for Awayteam per SEASON\n",
        "awayteam_ave_goals = pd.DataFrame(df_new.groupby(['SEASON', 'AWAYTEAM'])['FTAG'].mean()).reset_index()"
      ],
      "execution_count": 22,
      "outputs": []
    },
    {
      "cell_type": "code",
      "metadata": {
        "id": "-cOWxnPM7uxS",
        "outputId": "32213e6d-deb0-439b-b99e-6fe2bacc8217",
        "colab": {
          "base_uri": "https://localhost:8080/",
          "height": 204
        }
      },
      "source": [
        "awayteam_ave_goals.head()"
      ],
      "execution_count": 23,
      "outputs": [
        {
          "output_type": "execute_result",
          "data": {
            "text/html": [
              "<div>\n",
              "<style scoped>\n",
              "    .dataframe tbody tr th:only-of-type {\n",
              "        vertical-align: middle;\n",
              "    }\n",
              "\n",
              "    .dataframe tbody tr th {\n",
              "        vertical-align: top;\n",
              "    }\n",
              "\n",
              "    .dataframe thead th {\n",
              "        text-align: right;\n",
              "    }\n",
              "</style>\n",
              "<table border=\"1\" class=\"dataframe\">\n",
              "  <thead>\n",
              "    <tr style=\"text-align: right;\">\n",
              "      <th></th>\n",
              "      <th>SEASON</th>\n",
              "      <th>AWAYTEAM</th>\n",
              "      <th>FTAG</th>\n",
              "    </tr>\n",
              "  </thead>\n",
              "  <tbody>\n",
              "    <tr>\n",
              "      <th>0</th>\n",
              "      <td>1994</td>\n",
              "      <td>Albacete</td>\n",
              "      <td>0.842105</td>\n",
              "    </tr>\n",
              "    <tr>\n",
              "      <th>1</th>\n",
              "      <td>1994</td>\n",
              "      <td>Ath Bilbao</td>\n",
              "      <td>1.157895</td>\n",
              "    </tr>\n",
              "    <tr>\n",
              "      <th>2</th>\n",
              "      <td>1994</td>\n",
              "      <td>Ath Madrid</td>\n",
              "      <td>1.157895</td>\n",
              "    </tr>\n",
              "    <tr>\n",
              "      <th>3</th>\n",
              "      <td>1994</td>\n",
              "      <td>Barcelona</td>\n",
              "      <td>1.842105</td>\n",
              "    </tr>\n",
              "    <tr>\n",
              "      <th>4</th>\n",
              "      <td>1994</td>\n",
              "      <td>Celta</td>\n",
              "      <td>0.842105</td>\n",
              "    </tr>\n",
              "  </tbody>\n",
              "</table>\n",
              "</div>"
            ],
            "text/plain": [
              "   SEASON    AWAYTEAM      FTAG\n",
              "0    1994    Albacete  0.842105\n",
              "1    1994  Ath Bilbao  1.157895\n",
              "2    1994  Ath Madrid  1.157895\n",
              "3    1994   Barcelona  1.842105\n",
              "4    1994       Celta  0.842105"
            ]
          },
          "metadata": {
            "tags": []
          },
          "execution_count": 23
        }
      ]
    },
    {
      "cell_type": "code",
      "metadata": {
        "id": "mQudlzXY751E"
      },
      "source": [
        "#Awayteam average goals per Season ordered by descending, top 1\n",
        "awayteam_ave_ordered = awayteam_ave_goals.groupby(['SEASON'], sort=False).apply(lambda x: x.sort_values(['FTAG','AWAYTEAM'], ascending=False)[:1]) \\\n",
        "    .reset_index(drop=True)"
      ],
      "execution_count": 24,
      "outputs": []
    },
    {
      "cell_type": "code",
      "metadata": {
        "id": "LcML2xOK8N1T",
        "outputId": "18be3c18-12f4-4d09-fc33-fd980d7c97f5",
        "colab": {
          "base_uri": "https://localhost:8080/",
          "height": 359
        }
      },
      "source": [
        "awayteam_ave_ordered.head(10)"
      ],
      "execution_count": 25,
      "outputs": [
        {
          "output_type": "execute_result",
          "data": {
            "text/html": [
              "<div>\n",
              "<style scoped>\n",
              "    .dataframe tbody tr th:only-of-type {\n",
              "        vertical-align: middle;\n",
              "    }\n",
              "\n",
              "    .dataframe tbody tr th {\n",
              "        vertical-align: top;\n",
              "    }\n",
              "\n",
              "    .dataframe thead th {\n",
              "        text-align: right;\n",
              "    }\n",
              "</style>\n",
              "<table border=\"1\" class=\"dataframe\">\n",
              "  <thead>\n",
              "    <tr style=\"text-align: right;\">\n",
              "      <th></th>\n",
              "      <th>SEASON</th>\n",
              "      <th>AWAYTEAM</th>\n",
              "      <th>FTAG</th>\n",
              "    </tr>\n",
              "  </thead>\n",
              "  <tbody>\n",
              "    <tr>\n",
              "      <th>0</th>\n",
              "      <td>1994</td>\n",
              "      <td>Barcelona</td>\n",
              "      <td>1.842105</td>\n",
              "    </tr>\n",
              "    <tr>\n",
              "      <th>1</th>\n",
              "      <td>1995</td>\n",
              "      <td>Real Madrid</td>\n",
              "      <td>1.631579</td>\n",
              "    </tr>\n",
              "    <tr>\n",
              "      <th>2</th>\n",
              "      <td>1996</td>\n",
              "      <td>Ath Madrid</td>\n",
              "      <td>1.666667</td>\n",
              "    </tr>\n",
              "    <tr>\n",
              "      <th>3</th>\n",
              "      <td>1997</td>\n",
              "      <td>Barcelona</td>\n",
              "      <td>1.857143</td>\n",
              "    </tr>\n",
              "    <tr>\n",
              "      <th>4</th>\n",
              "      <td>1998</td>\n",
              "      <td>Barcelona</td>\n",
              "      <td>1.894737</td>\n",
              "    </tr>\n",
              "    <tr>\n",
              "      <th>5</th>\n",
              "      <td>1999</td>\n",
              "      <td>Barcelona</td>\n",
              "      <td>1.842105</td>\n",
              "    </tr>\n",
              "    <tr>\n",
              "      <th>6</th>\n",
              "      <td>2000</td>\n",
              "      <td>Malaga</td>\n",
              "      <td>1.578947</td>\n",
              "    </tr>\n",
              "    <tr>\n",
              "      <th>7</th>\n",
              "      <td>2001</td>\n",
              "      <td>La Coruna</td>\n",
              "      <td>1.526316</td>\n",
              "    </tr>\n",
              "    <tr>\n",
              "      <th>8</th>\n",
              "      <td>2002</td>\n",
              "      <td>Ath Bilbao</td>\n",
              "      <td>1.631579</td>\n",
              "    </tr>\n",
              "    <tr>\n",
              "      <th>9</th>\n",
              "      <td>2003</td>\n",
              "      <td>Real Madrid</td>\n",
              "      <td>1.789474</td>\n",
              "    </tr>\n",
              "  </tbody>\n",
              "</table>\n",
              "</div>"
            ],
            "text/plain": [
              "   SEASON     AWAYTEAM      FTAG\n",
              "0    1994    Barcelona  1.842105\n",
              "1    1995  Real Madrid  1.631579\n",
              "2    1996   Ath Madrid  1.666667\n",
              "3    1997    Barcelona  1.857143\n",
              "4    1998    Barcelona  1.894737\n",
              "5    1999    Barcelona  1.842105\n",
              "6    2000       Malaga  1.578947\n",
              "7    2001    La Coruna  1.526316\n",
              "8    2002   Ath Bilbao  1.631579\n",
              "9    2003  Real Madrid  1.789474"
            ]
          },
          "metadata": {
            "tags": []
          },
          "execution_count": 25
        }
      ]
    },
    {
      "cell_type": "markdown",
      "metadata": {
        "id": "niSWfnWb8vfG"
      },
      "source": [
        "####Construct a plot to show how this number is changing over time. Hint: SEASON on x-axis. Show average Home goals and Away goals on the same plot. Be sure that your plot has appropriate axis names and titles."
      ]
    },
    {
      "cell_type": "code",
      "metadata": {
        "id": "0eQv6W3j8eHd",
        "outputId": "44814e9d-dbc6-43d4-8840-ebdfd0c326c9",
        "colab": {
          "base_uri": "https://localhost:8080/",
          "height": 528
        }
      },
      "source": [
        "plt.figure(figsize=(15,8))\n",
        "ax = sns.lineplot(x=\"SEASON\", y=\"FTHG\", data=hometeam_ave_goals) \n",
        "sns.lineplot(x=\"SEASON\", y=\"FTAG\", data=awayteam_ave_goals, ax=ax) \n",
        "plt.xlabel('Season')\n",
        "plt.ylabel('Average Goals')\n",
        "plt.title('Average Number of Goals for Hometeam and Awayteam per Season')\n",
        "plt.xticks(rotation=45)\n",
        "plt.show()"
      ],
      "execution_count": 26,
      "outputs": [
        {
          "output_type": "display_data",
          "data": {
            "image/png": "[encoded data removed]",
            "text/plain": [
              "<Figure size 1080x576 with 1 Axes>"
            ]
          },
          "metadata": {
            "tags": [],
            "needs_background": "light"
          }
        }
      ]
    },
    {
      "cell_type": "markdown",
      "metadata": {
        "id": "i9iyw_Yn8rm-"
      },
      "source": [
        "####Find following clubs for each season: the best attack (top 5), the best defense (top5)"
      ]
    },
    {
      "cell_type": "code",
      "metadata": {
        "id": "EYy1ai3l1kLc"
      },
      "source": [
        "#average scored goals for match per season (league average)\n",
        "avera_scored_goals = (df_new.groupby(['SEASON'])['FTTG'].sum()) / df_new.groupby(['SEASON', 'HOMETEAM']).size()"
      ],
      "execution_count": 35,
      "outputs": []
    },
    {
      "cell_type": "code",
      "metadata": {
        "id": "R1BJqzJk2NKV",
        "outputId": "b4427d83-a6d5-4efd-d3a7-5e09c52297e7",
        "colab": {
          "base_uri": "https://localhost:8080/"
        }
      },
      "source": [
        "avera_scored_goals.head(26)"
      ],
      "execution_count": 36,
      "outputs": [
        {
          "output_type": "execute_result",
          "data": {
            "text/plain": [
              "SEASON  HOMETEAM   \n",
              "1994    Albacete       52.000000\n",
              "        Ath Bilbao     52.000000\n",
              "        Ath Madrid     52.000000\n",
              "        Barcelona      52.000000\n",
              "        Celta          52.000000\n",
              "        La Coruna      52.000000\n",
              "        Lerida         52.000000\n",
              "        Logrones       52.000000\n",
              "        Osasuna        52.000000\n",
              "        Oviedo         52.000000\n",
              "        Real Madrid    52.000000\n",
              "        Santander      52.000000\n",
              "        Sevilla        52.000000\n",
              "        Sociedad       52.000000\n",
              "        Sp Gijon       52.000000\n",
              "        Tenerife       52.000000\n",
              "        Valencia       52.000000\n",
              "        Valladolid     52.000000\n",
              "        Vallecano      52.000000\n",
              "        Zaragoza       52.000000\n",
              "1995    Albacete       50.842105\n",
              "        Ath Bilbao     50.842105\n",
              "        Ath Madrid     50.842105\n",
              "        Barcelona      50.842105\n",
              "        Betis          50.842105\n",
              "        Celta          50.842105\n",
              "dtype: float64"
            ]
          },
          "metadata": {
            "tags": []
          },
          "execution_count": 36
        }
      ]
    },
    {
      "cell_type": "code",
      "metadata": {
        "id": "SgOQ3hKiqv26"
      },
      "source": [
        "#attack \n",
        "attack_scored_goals = (df_new.groupby(['SEASON', 'HOMETEAM'])['FTHG'].sum()) / df_new.groupby(['SEASON', 'HOMETEAM']).size()"
      ],
      "execution_count": 37,
      "outputs": []
    },
    {
      "cell_type": "code",
      "metadata": {
        "id": "1_MQ_88YvLY3",
        "outputId": "a6e49e37-aaa1-428a-9a57-8bb3e61cc849",
        "colab": {
          "base_uri": "https://localhost:8080/"
        }
      },
      "source": [
        "attack_scored_goals.shape"
      ],
      "execution_count": 38,
      "outputs": [
        {
          "output_type": "execute_result",
          "data": {
            "text/plain": [
              "(524,)"
            ]
          },
          "metadata": {
            "tags": []
          },
          "execution_count": 38
        }
      ]
    },
    {
      "cell_type": "code",
      "metadata": {
        "id": "_AJ2-ptmsrVz",
        "outputId": "3fefca8b-71a0-4093-9a63-1bf7f144abd6",
        "colab": {
          "base_uri": "https://localhost:8080/"
        }
      },
      "source": [
        "attack_scored_goals.head()"
      ],
      "execution_count": 39,
      "outputs": [
        {
          "output_type": "execute_result",
          "data": {
            "text/plain": [
              "SEASON  HOMETEAM  \n",
              "1994    Albacete      1.736842\n",
              "        Ath Bilbao    2.052632\n",
              "        Ath Madrid    1.684211\n",
              "        Barcelona     2.947368\n",
              "        Celta         1.315789\n",
              "dtype: float64"
            ]
          },
          "metadata": {
            "tags": []
          },
          "execution_count": 39
        }
      ]
    },
    {
      "cell_type": "code",
      "metadata": {
        "id": "TEl0QBTEueCx"
      },
      "source": [
        "#creating new dataset for Attack\n",
        "attack = pd.DataFrame()"
      ],
      "execution_count": 40,
      "outputs": []
    },
    {
      "cell_type": "code",
      "metadata": {
        "id": "zXSghXZewj40"
      },
      "source": [
        "attack['league average'] = avera_scored_goals"
      ],
      "execution_count": 41,
      "outputs": []
    },
    {
      "cell_type": "code",
      "metadata": {
        "id": "vewO7HvFw7Hg"
      },
      "source": [
        "attack['attack scored goals'] = attack_scored_goals"
      ],
      "execution_count": 42,
      "outputs": []
    },
    {
      "cell_type": "code",
      "metadata": {
        "id": "Ms3I-zYLxH_d",
        "outputId": "a81e6a39-6fec-4cdc-be06-91596bd6588e",
        "colab": {
          "base_uri": "https://localhost:8080/",
          "height": 235
        }
      },
      "source": [
        "attack.head()"
      ],
      "execution_count": 43,
      "outputs": [
        {
          "output_type": "execute_result",
          "data": {
            "text/html": [
              "<div>\n",
              "<style scoped>\n",
              "    .dataframe tbody tr th:only-of-type {\n",
              "        vertical-align: middle;\n",
              "    }\n",
              "\n",
              "    .dataframe tbody tr th {\n",
              "        vertical-align: top;\n",
              "    }\n",
              "\n",
              "    .dataframe thead th {\n",
              "        text-align: right;\n",
              "    }\n",
              "</style>\n",
              "<table border=\"1\" class=\"dataframe\">\n",
              "  <thead>\n",
              "    <tr style=\"text-align: right;\">\n",
              "      <th></th>\n",
              "      <th></th>\n",
              "      <th>league average</th>\n",
              "      <th>attack scored goals</th>\n",
              "    </tr>\n",
              "    <tr>\n",
              "      <th>SEASON</th>\n",
              "      <th>HOMETEAM</th>\n",
              "      <th></th>\n",
              "      <th></th>\n",
              "    </tr>\n",
              "  </thead>\n",
              "  <tbody>\n",
              "    <tr>\n",
              "      <th rowspan=\"5\" valign=\"top\">1994</th>\n",
              "      <th>Albacete</th>\n",
              "      <td>52.0</td>\n",
              "      <td>1.736842</td>\n",
              "    </tr>\n",
              "    <tr>\n",
              "      <th>Ath Bilbao</th>\n",
              "      <td>52.0</td>\n",
              "      <td>2.052632</td>\n",
              "    </tr>\n",
              "    <tr>\n",
              "      <th>Ath Madrid</th>\n",
              "      <td>52.0</td>\n",
              "      <td>1.684211</td>\n",
              "    </tr>\n",
              "    <tr>\n",
              "      <th>Barcelona</th>\n",
              "      <td>52.0</td>\n",
              "      <td>2.947368</td>\n",
              "    </tr>\n",
              "    <tr>\n",
              "      <th>Celta</th>\n",
              "      <td>52.0</td>\n",
              "      <td>1.315789</td>\n",
              "    </tr>\n",
              "  </tbody>\n",
              "</table>\n",
              "</div>"
            ],
            "text/plain": [
              "                   league average  attack scored goals\n",
              "SEASON HOMETEAM                                       \n",
              "1994   Albacete              52.0             1.736842\n",
              "       Ath Bilbao            52.0             2.052632\n",
              "       Ath Madrid            52.0             1.684211\n",
              "       Barcelona             52.0             2.947368\n",
              "       Celta                 52.0             1.315789"
            ]
          },
          "metadata": {
            "tags": []
          },
          "execution_count": 43
        }
      ]
    },
    {
      "cell_type": "code",
      "metadata": {
        "id": "lhnkffSTxMaW"
      },
      "source": [
        "#calculating new variable Attack rating\n",
        "attack['ATT Rating'] = attack['attack scored goals'] / attack['league average']"
      ],
      "execution_count": 44,
      "outputs": []
    },
    {
      "cell_type": "code",
      "metadata": {
        "id": "5ywYmpA_xwla",
        "outputId": "50687792-4474-4bbf-a044-20361ac6d39b",
        "colab": {
          "base_uri": "https://localhost:8080/",
          "height": 235
        }
      },
      "source": [
        "attack.head()"
      ],
      "execution_count": 45,
      "outputs": [
        {
          "output_type": "execute_result",
          "data": {
            "text/html": [
              "<div>\n",
              "<style scoped>\n",
              "    .dataframe tbody tr th:only-of-type {\n",
              "        vertical-align: middle;\n",
              "    }\n",
              "\n",
              "    .dataframe tbody tr th {\n",
              "        vertical-align: top;\n",
              "    }\n",
              "\n",
              "    .dataframe thead th {\n",
              "        text-align: right;\n",
              "    }\n",
              "</style>\n",
              "<table border=\"1\" class=\"dataframe\">\n",
              "  <thead>\n",
              "    <tr style=\"text-align: right;\">\n",
              "      <th></th>\n",
              "      <th></th>\n",
              "      <th>league average</th>\n",
              "      <th>attack scored goals</th>\n",
              "      <th>ATT Rating</th>\n",
              "    </tr>\n",
              "    <tr>\n",
              "      <th>SEASON</th>\n",
              "      <th>HOMETEAM</th>\n",
              "      <th></th>\n",
              "      <th></th>\n",
              "      <th></th>\n",
              "    </tr>\n",
              "  </thead>\n",
              "  <tbody>\n",
              "    <tr>\n",
              "      <th rowspan=\"5\" valign=\"top\">1994</th>\n",
              "      <th>Albacete</th>\n",
              "      <td>52.0</td>\n",
              "      <td>1.736842</td>\n",
              "      <td>0.033401</td>\n",
              "    </tr>\n",
              "    <tr>\n",
              "      <th>Ath Bilbao</th>\n",
              "      <td>52.0</td>\n",
              "      <td>2.052632</td>\n",
              "      <td>0.039474</td>\n",
              "    </tr>\n",
              "    <tr>\n",
              "      <th>Ath Madrid</th>\n",
              "      <td>52.0</td>\n",
              "      <td>1.684211</td>\n",
              "      <td>0.032389</td>\n",
              "    </tr>\n",
              "    <tr>\n",
              "      <th>Barcelona</th>\n",
              "      <td>52.0</td>\n",
              "      <td>2.947368</td>\n",
              "      <td>0.056680</td>\n",
              "    </tr>\n",
              "    <tr>\n",
              "      <th>Celta</th>\n",
              "      <td>52.0</td>\n",
              "      <td>1.315789</td>\n",
              "      <td>0.025304</td>\n",
              "    </tr>\n",
              "  </tbody>\n",
              "</table>\n",
              "</div>"
            ],
            "text/plain": [
              "                   league average  attack scored goals  ATT Rating\n",
              "SEASON HOMETEAM                                                   \n",
              "1994   Albacete              52.0             1.736842    0.033401\n",
              "       Ath Bilbao            52.0             2.052632    0.039474\n",
              "       Ath Madrid            52.0             1.684211    0.032389\n",
              "       Barcelona             52.0             2.947368    0.056680\n",
              "       Celta                 52.0             1.315789    0.025304"
            ]
          },
          "metadata": {
            "tags": []
          },
          "execution_count": 45
        }
      ]
    },
    {
      "cell_type": "code",
      "metadata": {
        "id": "iVZ-dTepyy0_"
      },
      "source": [
        "#top 5 attack per season\n",
        "top_5_attack = attack.sort_values([\"SEASON\", 'ATT Rating','HOMETEAM'],ascending=False).groupby(['SEASON']).head(5)"
      ],
      "execution_count": 46,
      "outputs": []
    },
    {
      "cell_type": "code",
      "metadata": {
        "id": "UO3D-Mj87E3q",
        "outputId": "2e75b7b7-eaa8-4d34-98c7-50d4bdb0c334",
        "colab": {
          "base_uri": "https://localhost:8080/",
          "height": 390
        }
      },
      "source": [
        "top_5_attack.head(10)"
      ],
      "execution_count": 47,
      "outputs": [
        {
          "output_type": "execute_result",
          "data": {
            "text/html": [
              "<div>\n",
              "<style scoped>\n",
              "    .dataframe tbody tr th:only-of-type {\n",
              "        vertical-align: middle;\n",
              "    }\n",
              "\n",
              "    .dataframe tbody tr th {\n",
              "        vertical-align: top;\n",
              "    }\n",
              "\n",
              "    .dataframe thead th {\n",
              "        text-align: right;\n",
              "    }\n",
              "</style>\n",
              "<table border=\"1\" class=\"dataframe\">\n",
              "  <thead>\n",
              "    <tr style=\"text-align: right;\">\n",
              "      <th></th>\n",
              "      <th></th>\n",
              "      <th>league average</th>\n",
              "      <th>attack scored goals</th>\n",
              "      <th>ATT Rating</th>\n",
              "    </tr>\n",
              "    <tr>\n",
              "      <th>SEASON</th>\n",
              "      <th>HOMETEAM</th>\n",
              "      <th></th>\n",
              "      <th></th>\n",
              "      <th></th>\n",
              "    </tr>\n",
              "  </thead>\n",
              "  <tbody>\n",
              "    <tr>\n",
              "      <th rowspan=\"5\" valign=\"top\">2019</th>\n",
              "      <th>Barcelona</th>\n",
              "      <td>51.736842</td>\n",
              "      <td>2.684211</td>\n",
              "      <td>0.051882</td>\n",
              "    </tr>\n",
              "    <tr>\n",
              "      <th>Sevilla</th>\n",
              "      <td>51.736842</td>\n",
              "      <td>2.052632</td>\n",
              "      <td>0.039674</td>\n",
              "    </tr>\n",
              "    <tr>\n",
              "      <th>Levante</th>\n",
              "      <td>51.736842</td>\n",
              "      <td>1.789474</td>\n",
              "      <td>0.034588</td>\n",
              "    </tr>\n",
              "    <tr>\n",
              "      <th>Real Madrid</th>\n",
              "      <td>51.736842</td>\n",
              "      <td>1.684211</td>\n",
              "      <td>0.032553</td>\n",
              "    </tr>\n",
              "    <tr>\n",
              "      <th>Ath Madrid</th>\n",
              "      <td>51.736842</td>\n",
              "      <td>1.684211</td>\n",
              "      <td>0.032553</td>\n",
              "    </tr>\n",
              "    <tr>\n",
              "      <th rowspan=\"5\" valign=\"top\">2018</th>\n",
              "      <th>Real Madrid</th>\n",
              "      <td>53.894737</td>\n",
              "      <td>2.842105</td>\n",
              "      <td>0.052734</td>\n",
              "    </tr>\n",
              "    <tr>\n",
              "      <th>Barcelona</th>\n",
              "      <td>53.894737</td>\n",
              "      <td>2.789474</td>\n",
              "      <td>0.051758</td>\n",
              "    </tr>\n",
              "    <tr>\n",
              "      <th>Sociedad</th>\n",
              "      <td>53.894737</td>\n",
              "      <td>2.473684</td>\n",
              "      <td>0.045898</td>\n",
              "    </tr>\n",
              "    <tr>\n",
              "      <th>Valencia</th>\n",
              "      <td>53.894737</td>\n",
              "      <td>1.894737</td>\n",
              "      <td>0.035156</td>\n",
              "    </tr>\n",
              "    <tr>\n",
              "      <th>Villarreal</th>\n",
              "      <td>53.894737</td>\n",
              "      <td>1.842105</td>\n",
              "      <td>0.034180</td>\n",
              "    </tr>\n",
              "  </tbody>\n",
              "</table>\n",
              "</div>"
            ],
            "text/plain": [
              "                    league average  attack scored goals  ATT Rating\n",
              "SEASON HOMETEAM                                                    \n",
              "2019   Barcelona         51.736842             2.684211    0.051882\n",
              "       Sevilla           51.736842             2.052632    0.039674\n",
              "       Levante           51.736842             1.789474    0.034588\n",
              "       Real Madrid       51.736842             1.684211    0.032553\n",
              "       Ath Madrid        51.736842             1.684211    0.032553\n",
              "2018   Real Madrid       53.894737             2.842105    0.052734\n",
              "       Barcelona         53.894737             2.789474    0.051758\n",
              "       Sociedad          53.894737             2.473684    0.045898\n",
              "       Valencia          53.894737             1.894737    0.035156\n",
              "       Villarreal        53.894737             1.842105    0.034180"
            ]
          },
          "metadata": {
            "tags": []
          },
          "execution_count": 47
        }
      ]
    },
    {
      "cell_type": "markdown",
      "metadata": {
        "id": "t5xi_utiJ6Hm"
      },
      "source": [
        "Defence"
      ]
    },
    {
      "cell_type": "code",
      "metadata": {
        "id": "82Eih2QcKWVD",
        "outputId": "6c97a610-1206-4894-975b-d0156408c211",
        "colab": {
          "base_uri": "https://localhost:8080/",
          "height": 204
        }
      },
      "source": [
        "df_new.head()"
      ],
      "execution_count": 48,
      "outputs": [
        {
          "output_type": "execute_result",
          "data": {
            "text/html": [
              "<div>\n",
              "<style scoped>\n",
              "    .dataframe tbody tr th:only-of-type {\n",
              "        vertical-align: middle;\n",
              "    }\n",
              "\n",
              "    .dataframe tbody tr th {\n",
              "        vertical-align: top;\n",
              "    }\n",
              "\n",
              "    .dataframe thead th {\n",
              "        text-align: right;\n",
              "    }\n",
              "</style>\n",
              "<table border=\"1\" class=\"dataframe\">\n",
              "  <thead>\n",
              "    <tr style=\"text-align: right;\">\n",
              "      <th></th>\n",
              "      <th>SEASON</th>\n",
              "      <th>COUNTRY</th>\n",
              "      <th>LEAGUE</th>\n",
              "      <th>DATE</th>\n",
              "      <th>HOMETEAM</th>\n",
              "      <th>AWAYTEAM</th>\n",
              "      <th>FTSC</th>\n",
              "      <th>FTR</th>\n",
              "      <th>FTHG</th>\n",
              "      <th>FTAG</th>\n",
              "      <th>FTTG</th>\n",
              "    </tr>\n",
              "  </thead>\n",
              "  <tbody>\n",
              "    <tr>\n",
              "      <th>0</th>\n",
              "      <td>1994</td>\n",
              "      <td>Spain</td>\n",
              "      <td>La Liga Primera Division</td>\n",
              "      <td>1993-09-05</td>\n",
              "      <td>Ath Bilbao</td>\n",
              "      <td>Albacete</td>\n",
              "      <td>4-1</td>\n",
              "      <td>H</td>\n",
              "      <td>4.0</td>\n",
              "      <td>1.0</td>\n",
              "      <td>5.0</td>\n",
              "    </tr>\n",
              "    <tr>\n",
              "      <th>1</th>\n",
              "      <td>1994</td>\n",
              "      <td>Spain</td>\n",
              "      <td>La Liga Primera Division</td>\n",
              "      <td>1993-09-05</td>\n",
              "      <td>Ath Madrid</td>\n",
              "      <td>Logrones</td>\n",
              "      <td>1-0</td>\n",
              "      <td>H</td>\n",
              "      <td>1.0</td>\n",
              "      <td>0.0</td>\n",
              "      <td>1.0</td>\n",
              "    </tr>\n",
              "    <tr>\n",
              "      <th>2</th>\n",
              "      <td>1994</td>\n",
              "      <td>Spain</td>\n",
              "      <td>La Liga Primera Division</td>\n",
              "      <td>1993-09-05</td>\n",
              "      <td>Barcelona</td>\n",
              "      <td>Sociedad</td>\n",
              "      <td>3-0</td>\n",
              "      <td>H</td>\n",
              "      <td>3.0</td>\n",
              "      <td>0.0</td>\n",
              "      <td>3.0</td>\n",
              "    </tr>\n",
              "    <tr>\n",
              "      <th>3</th>\n",
              "      <td>1994</td>\n",
              "      <td>Spain</td>\n",
              "      <td>La Liga Primera Division</td>\n",
              "      <td>1993-09-05</td>\n",
              "      <td>La Coruna</td>\n",
              "      <td>Celta</td>\n",
              "      <td>0-0</td>\n",
              "      <td>D</td>\n",
              "      <td>0.0</td>\n",
              "      <td>0.0</td>\n",
              "      <td>0.0</td>\n",
              "    </tr>\n",
              "    <tr>\n",
              "      <th>4</th>\n",
              "      <td>1994</td>\n",
              "      <td>Spain</td>\n",
              "      <td>La Liga Primera Division</td>\n",
              "      <td>1993-09-05</td>\n",
              "      <td>Osasuna</td>\n",
              "      <td>Real Madrid</td>\n",
              "      <td>1-4</td>\n",
              "      <td>A</td>\n",
              "      <td>1.0</td>\n",
              "      <td>4.0</td>\n",
              "      <td>5.0</td>\n",
              "    </tr>\n",
              "  </tbody>\n",
              "</table>\n",
              "</div>"
            ],
            "text/plain": [
              "   SEASON COUNTRY                    LEAGUE        DATE  ... FTR FTHG FTAG FTTG\n",
              "0    1994   Spain  La Liga Primera Division  1993-09-05  ...   H  4.0  1.0  5.0\n",
              "1    1994   Spain  La Liga Primera Division  1993-09-05  ...   H  1.0  0.0  1.0\n",
              "2    1994   Spain  La Liga Primera Division  1993-09-05  ...   H  3.0  0.0  3.0\n",
              "3    1994   Spain  La Liga Primera Division  1993-09-05  ...   D  0.0  0.0  0.0\n",
              "4    1994   Spain  La Liga Primera Division  1993-09-05  ...   A  1.0  4.0  5.0\n",
              "\n",
              "[5 rows x 11 columns]"
            ]
          },
          "metadata": {
            "tags": []
          },
          "execution_count": 48
        }
      ]
    },
    {
      "cell_type": "code",
      "metadata": {
        "id": "u4p0KwUMKLVk"
      },
      "source": [
        "#defence \n",
        "defence_scored_goals = (df_new.groupby(['SEASON', 'HOMETEAM'])['FTAG'].sum()) / df_new.groupby(['SEASON', 'HOMETEAM']).size()"
      ],
      "execution_count": 49,
      "outputs": []
    },
    {
      "cell_type": "code",
      "metadata": {
        "id": "GrYbuR-HKn11",
        "outputId": "a3ad3bd6-d2d6-431e-ba21-be13eda10707",
        "colab": {
          "base_uri": "https://localhost:8080/"
        }
      },
      "source": [
        "defence_scored_goals.head()"
      ],
      "execution_count": 50,
      "outputs": [
        {
          "output_type": "execute_result",
          "data": {
            "text/plain": [
              "SEASON  HOMETEAM  \n",
              "1994    Albacete      1.315789\n",
              "        Ath Bilbao    0.842105\n",
              "        Ath Madrid    1.105263\n",
              "        Barcelona     0.894737\n",
              "        Celta         1.210526\n",
              "dtype: float64"
            ]
          },
          "metadata": {
            "tags": []
          },
          "execution_count": 50
        }
      ]
    },
    {
      "cell_type": "code",
      "metadata": {
        "id": "2ranq5-FK9Yd"
      },
      "source": [
        "#creating new dataset for defence\n",
        "defence = pd.DataFrame()"
      ],
      "execution_count": 51,
      "outputs": []
    },
    {
      "cell_type": "code",
      "metadata": {
        "id": "ovSAKz6zK9Yo"
      },
      "source": [
        "defence['league average'] = avera_scored_goals"
      ],
      "execution_count": 52,
      "outputs": []
    },
    {
      "cell_type": "code",
      "metadata": {
        "id": "1ZQcjM_qK9Yt"
      },
      "source": [
        "defence['defence scored goals'] = defence_scored_goals"
      ],
      "execution_count": 53,
      "outputs": []
    },
    {
      "cell_type": "code",
      "metadata": {
        "id": "52d62MunK9Yx",
        "outputId": "6b6b252c-c531-4566-b20a-3cbc12616a60",
        "colab": {
          "base_uri": "https://localhost:8080/",
          "height": 235
        }
      },
      "source": [
        "defence.head()"
      ],
      "execution_count": 54,
      "outputs": [
        {
          "output_type": "execute_result",
          "data": {
            "text/html": [
              "<div>\n",
              "<style scoped>\n",
              "    .dataframe tbody tr th:only-of-type {\n",
              "        vertical-align: middle;\n",
              "    }\n",
              "\n",
              "    .dataframe tbody tr th {\n",
              "        vertical-align: top;\n",
              "    }\n",
              "\n",
              "    .dataframe thead th {\n",
              "        text-align: right;\n",
              "    }\n",
              "</style>\n",
              "<table border=\"1\" class=\"dataframe\">\n",
              "  <thead>\n",
              "    <tr style=\"text-align: right;\">\n",
              "      <th></th>\n",
              "      <th></th>\n",
              "      <th>league average</th>\n",
              "      <th>defence scored goals</th>\n",
              "    </tr>\n",
              "    <tr>\n",
              "      <th>SEASON</th>\n",
              "      <th>HOMETEAM</th>\n",
              "      <th></th>\n",
              "      <th></th>\n",
              "    </tr>\n",
              "  </thead>\n",
              "  <tbody>\n",
              "    <tr>\n",
              "      <th rowspan=\"5\" valign=\"top\">1994</th>\n",
              "      <th>Albacete</th>\n",
              "      <td>52.0</td>\n",
              "      <td>1.315789</td>\n",
              "    </tr>\n",
              "    <tr>\n",
              "      <th>Ath Bilbao</th>\n",
              "      <td>52.0</td>\n",
              "      <td>0.842105</td>\n",
              "    </tr>\n",
              "    <tr>\n",
              "      <th>Ath Madrid</th>\n",
              "      <td>52.0</td>\n",
              "      <td>1.105263</td>\n",
              "    </tr>\n",
              "    <tr>\n",
              "      <th>Barcelona</th>\n",
              "      <td>52.0</td>\n",
              "      <td>0.894737</td>\n",
              "    </tr>\n",
              "    <tr>\n",
              "      <th>Celta</th>\n",
              "      <td>52.0</td>\n",
              "      <td>1.210526</td>\n",
              "    </tr>\n",
              "  </tbody>\n",
              "</table>\n",
              "</div>"
            ],
            "text/plain": [
              "                   league average  defence scored goals\n",
              "SEASON HOMETEAM                                        \n",
              "1994   Albacete              52.0              1.315789\n",
              "       Ath Bilbao            52.0              0.842105\n",
              "       Ath Madrid            52.0              1.105263\n",
              "       Barcelona             52.0              0.894737\n",
              "       Celta                 52.0              1.210526"
            ]
          },
          "metadata": {
            "tags": []
          },
          "execution_count": 54
        }
      ]
    },
    {
      "cell_type": "code",
      "metadata": {
        "id": "jMY73cCnK9Y2"
      },
      "source": [
        "#calculating new variable Defence rating\n",
        "defence['Defence Rating'] = defence['defence scored goals'] / defence['league average']"
      ],
      "execution_count": 55,
      "outputs": []
    },
    {
      "cell_type": "code",
      "metadata": {
        "id": "_0f0060uK9Y8",
        "outputId": "a428e3b4-6d32-4094-8faa-92faaba74c3e",
        "colab": {
          "base_uri": "https://localhost:8080/",
          "height": 235
        }
      },
      "source": [
        "defence.head()"
      ],
      "execution_count": 56,
      "outputs": [
        {
          "output_type": "execute_result",
          "data": {
            "text/html": [
              "<div>\n",
              "<style scoped>\n",
              "    .dataframe tbody tr th:only-of-type {\n",
              "        vertical-align: middle;\n",
              "    }\n",
              "\n",
              "    .dataframe tbody tr th {\n",
              "        vertical-align: top;\n",
              "    }\n",
              "\n",
              "    .dataframe thead th {\n",
              "        text-align: right;\n",
              "    }\n",
              "</style>\n",
              "<table border=\"1\" class=\"dataframe\">\n",
              "  <thead>\n",
              "    <tr style=\"text-align: right;\">\n",
              "      <th></th>\n",
              "      <th></th>\n",
              "      <th>league average</th>\n",
              "      <th>defence scored goals</th>\n",
              "      <th>Defence Rating</th>\n",
              "    </tr>\n",
              "    <tr>\n",
              "      <th>SEASON</th>\n",
              "      <th>HOMETEAM</th>\n",
              "      <th></th>\n",
              "      <th></th>\n",
              "      <th></th>\n",
              "    </tr>\n",
              "  </thead>\n",
              "  <tbody>\n",
              "    <tr>\n",
              "      <th rowspan=\"5\" valign=\"top\">1994</th>\n",
              "      <th>Albacete</th>\n",
              "      <td>52.0</td>\n",
              "      <td>1.315789</td>\n",
              "      <td>0.025304</td>\n",
              "    </tr>\n",
              "    <tr>\n",
              "      <th>Ath Bilbao</th>\n",
              "      <td>52.0</td>\n",
              "      <td>0.842105</td>\n",
              "      <td>0.016194</td>\n",
              "    </tr>\n",
              "    <tr>\n",
              "      <th>Ath Madrid</th>\n",
              "      <td>52.0</td>\n",
              "      <td>1.105263</td>\n",
              "      <td>0.021255</td>\n",
              "    </tr>\n",
              "    <tr>\n",
              "      <th>Barcelona</th>\n",
              "      <td>52.0</td>\n",
              "      <td>0.894737</td>\n",
              "      <td>0.017206</td>\n",
              "    </tr>\n",
              "    <tr>\n",
              "      <th>Celta</th>\n",
              "      <td>52.0</td>\n",
              "      <td>1.210526</td>\n",
              "      <td>0.023279</td>\n",
              "    </tr>\n",
              "  </tbody>\n",
              "</table>\n",
              "</div>"
            ],
            "text/plain": [
              "                   league average  defence scored goals  Defence Rating\n",
              "SEASON HOMETEAM                                                        \n",
              "1994   Albacete              52.0              1.315789        0.025304\n",
              "       Ath Bilbao            52.0              0.842105        0.016194\n",
              "       Ath Madrid            52.0              1.105263        0.021255\n",
              "       Barcelona             52.0              0.894737        0.017206\n",
              "       Celta                 52.0              1.210526        0.023279"
            ]
          },
          "metadata": {
            "tags": []
          },
          "execution_count": 56
        }
      ]
    },
    {
      "cell_type": "code",
      "metadata": {
        "id": "wl8zqdX1K9ZA"
      },
      "source": [
        "#top 5 defence per season\n",
        "top_5_defence = defence.sort_values([\"SEASON\", 'Defence Rating','HOMETEAM'], ascending=False).groupby(['SEASON']).head(5)"
      ],
      "execution_count": 57,
      "outputs": []
    },
    {
      "cell_type": "code",
      "metadata": {
        "id": "SBRpVYH2K9ZE",
        "outputId": "5bd0ac29-1996-4200-971a-847c63bad424",
        "colab": {
          "base_uri": "https://localhost:8080/",
          "height": 390
        }
      },
      "source": [
        "top_5_defence.head(10)"
      ],
      "execution_count": 58,
      "outputs": [
        {
          "output_type": "execute_result",
          "data": {
            "text/html": [
              "<div>\n",
              "<style scoped>\n",
              "    .dataframe tbody tr th:only-of-type {\n",
              "        vertical-align: middle;\n",
              "    }\n",
              "\n",
              "    .dataframe tbody tr th {\n",
              "        vertical-align: top;\n",
              "    }\n",
              "\n",
              "    .dataframe thead th {\n",
              "        text-align: right;\n",
              "    }\n",
              "</style>\n",
              "<table border=\"1\" class=\"dataframe\">\n",
              "  <thead>\n",
              "    <tr style=\"text-align: right;\">\n",
              "      <th></th>\n",
              "      <th></th>\n",
              "      <th>league average</th>\n",
              "      <th>defence scored goals</th>\n",
              "      <th>Defence Rating</th>\n",
              "    </tr>\n",
              "    <tr>\n",
              "      <th>SEASON</th>\n",
              "      <th>HOMETEAM</th>\n",
              "      <th></th>\n",
              "      <th></th>\n",
              "      <th></th>\n",
              "    </tr>\n",
              "  </thead>\n",
              "  <tbody>\n",
              "    <tr>\n",
              "      <th rowspan=\"5\" valign=\"top\">2019</th>\n",
              "      <th>Levante</th>\n",
              "      <td>51.736842</td>\n",
              "      <td>1.789474</td>\n",
              "      <td>0.034588</td>\n",
              "    </tr>\n",
              "    <tr>\n",
              "      <th>Vallecano</th>\n",
              "      <td>51.736842</td>\n",
              "      <td>1.684211</td>\n",
              "      <td>0.032553</td>\n",
              "    </tr>\n",
              "    <tr>\n",
              "      <th>Huesca</th>\n",
              "      <td>51.736842</td>\n",
              "      <td>1.578947</td>\n",
              "      <td>0.030519</td>\n",
              "    </tr>\n",
              "    <tr>\n",
              "      <th>Girona</th>\n",
              "      <td>51.736842</td>\n",
              "      <td>1.473684</td>\n",
              "      <td>0.028484</td>\n",
              "    </tr>\n",
              "    <tr>\n",
              "      <th>Villarreal</th>\n",
              "      <td>51.736842</td>\n",
              "      <td>1.368421</td>\n",
              "      <td>0.026450</td>\n",
              "    </tr>\n",
              "    <tr>\n",
              "      <th rowspan=\"5\" valign=\"top\">2018</th>\n",
              "      <th>Las Palmas</th>\n",
              "      <td>53.894737</td>\n",
              "      <td>2.000000</td>\n",
              "      <td>0.037109</td>\n",
              "    </tr>\n",
              "    <tr>\n",
              "      <th>La Coruna</th>\n",
              "      <td>53.894737</td>\n",
              "      <td>1.736842</td>\n",
              "      <td>0.032227</td>\n",
              "    </tr>\n",
              "    <tr>\n",
              "      <th>Betis</th>\n",
              "      <td>53.894737</td>\n",
              "      <td>1.631579</td>\n",
              "      <td>0.030273</td>\n",
              "    </tr>\n",
              "    <tr>\n",
              "      <th>Sociedad</th>\n",
              "      <td>53.894737</td>\n",
              "      <td>1.526316</td>\n",
              "      <td>0.028320</td>\n",
              "    </tr>\n",
              "    <tr>\n",
              "      <th>Levante</th>\n",
              "      <td>53.894737</td>\n",
              "      <td>1.473684</td>\n",
              "      <td>0.027344</td>\n",
              "    </tr>\n",
              "  </tbody>\n",
              "</table>\n",
              "</div>"
            ],
            "text/plain": [
              "                   league average  defence scored goals  Defence Rating\n",
              "SEASON HOMETEAM                                                        \n",
              "2019   Levante          51.736842              1.789474        0.034588\n",
              "       Vallecano        51.736842              1.684211        0.032553\n",
              "       Huesca           51.736842              1.578947        0.030519\n",
              "       Girona           51.736842              1.473684        0.028484\n",
              "       Villarreal       51.736842              1.368421        0.026450\n",
              "2018   Las Palmas       53.894737              2.000000        0.037109\n",
              "       La Coruna        53.894737              1.736842        0.032227\n",
              "       Betis            53.894737              1.631579        0.030273\n",
              "       Sociedad         53.894737              1.526316        0.028320\n",
              "       Levante          53.894737              1.473684        0.027344"
            ]
          },
          "metadata": {
            "tags": []
          },
          "execution_count": 58
        }
      ]
    },
    {
      "cell_type": "code",
      "metadata": {
        "id": "F0bF2wiAMInA"
      },
      "source": [
        ""
      ],
      "execution_count": null,
      "outputs": []
    }
  ]
}