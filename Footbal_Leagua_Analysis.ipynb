{
  "nbformat": 4,
  "nbformat_minor": 0,
  "metadata": {
    "colab": {
      "name": "Footbal Leagua Analysis.ipynb",
      "provenance": [],
      "collapsed_sections": [],
      "authorship_tag": "ABX9TyMFPqRDxP+Qh9XfFFGb4+B8",
      "include_colab_link": true
    },
    "kernelspec": {
      "name": "python3",
      "display_name": "Python 3"
    }
  },
  "cells": [
    {
      "cell_type": "markdown",
      "metadata": {
        "id": "view-in-github",
        "colab_type": "text"
      },
      "source": [
        "<a href=\"https://colab.research.google.com/github/vard-uhi/tasks/blob/main/Footbal_Leagua_Analysis.ipynb\" target=\"_parent\"><img src=\"https://colab.research.google.com/assets/colab-badge.svg\" alt=\"Open In Colab\"/></a>"
      ]
    },
    {
      "cell_type": "markdown",
      "metadata": {
        "id": "lusps0tcumtE"
      },
      "source": [
        "**Task 2**\n",
        "\n",
        "*Data: Historical Data of the different Footbal Leaguas*\n",
        "\n",
        "*Task: Choose a LEAGUE you prefer and solve the following problems*\n",
        "\n",
        "*   Calculate average number of goals for home and away teams per\n",
        "SEASON for that league and sort them descending order,Which clubs are\n",
        "more consistent ?\n",
        "*   Construct a plot to show how this number is changing over time.\n",
        "Hint:\n",
        "SEASON on x-axis. Show average Home goals and Away goals on the\n",
        "same plot. Be sure that your plot has appropriate axis names and titles.\n",
        "*   Find following clubs for each season: the best attack (top 5), the best defense (top5)\n",
        "\n"
      ]
    },
    {
      "cell_type": "code",
      "metadata": {
        "id": "GdYBYhgQtdru"
      },
      "source": [
        "#import libraries\n",
        "%matplotlib inline\n",
        "import matplotlib.pyplot as plt\n",
        "import seaborn as sns\n",
        "import pandas as pd\n",
        "import numpy as np"
      ],
      "execution_count": 1,
      "outputs": []
    },
    {
      "cell_type": "code",
      "metadata": {
        "id": "BAJNrTj7usdC",
        "outputId": "2d7001d0-ae2a-4619-e486-1f01daae20d9",
        "colab": {
          "resources": {
            "http://localhost:8080/nbextensions/google.colab/files.js": {
              "data": "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",
              "ok": true,
              "headers": [
                [
                  "content-type",
                  "application/javascript"
                ]
              ],
              "status": 200,
              "status_text": ""
            }
          },
          "base_uri": "https://localhost:8080/",
          "height": 72
        }
      },
      "source": [
        "#load the data\n",
        "from google.colab import files\n",
        "data_to_load = files.upload()"
      ],
      "execution_count": 2,
      "outputs": [
        {
          "output_type": "display_data",
          "data": {
            "text/html": [
              "\n",
              "     <input type=\"file\" id=\"files-6ee582a4-d4d5-460b-b478-e7ea9e202f20\" name=\"files[]\" multiple disabled\n",
              "        style=\"border:none\" />\n",
              "     <output id=\"result-6ee582a4-d4d5-460b-b478-e7ea9e202f20\">\n",
              "      Upload widget is only available when the cell has been executed in the\n",
              "      current browser session. Please rerun this cell to enable.\n",
              "      </output>\n",
              "      <script src=\"/nbextensions/google.colab/files.js\"></script> "
            ],
            "text/plain": [
              "<IPython.core.display.HTML object>"
            ]
          },
          "metadata": {
            "tags": []
          }
        },
        {
          "output_type": "stream",
          "text": [
            "Saving data.csv to data.csv\n"
          ],
          "name": "stdout"
        }
      ]
    },
    {
      "cell_type": "code",
      "metadata": {
        "id": "EkUis89Au08h"
      },
      "source": [
        "import io\n",
        "# .read_csv() assigns the information from the initial *.csv file to this variable\n",
        "raw_data = pd.read_csv(io.BytesIO(data_to_load['data.csv']))"
      ],
      "execution_count": 3,
      "outputs": []
    },
    {
      "cell_type": "markdown",
      "metadata": {
        "id": "fudKvdV3veRb"
      },
      "source": [
        "**Checking the content of the dataset**"
      ]
    },
    {
      "cell_type": "code",
      "metadata": {
        "id": "kmFq9FwdvbcQ"
      },
      "source": [
        "#copying data\n",
        "df = raw_data.copy()"
      ],
      "execution_count": 4,
      "outputs": []
    },
    {
      "cell_type": "code",
      "metadata": {
        "id": "X2gFWJuyvlHj",
        "outputId": "78ada2f5-65cd-4b28-bad7-69a2bacf16ab",
        "colab": {
          "base_uri": "https://localhost:8080/",
          "height": 204
        }
      },
      "source": [
        "df.head()"
      ],
      "execution_count": 5,
      "outputs": [
        {
          "output_type": "execute_result",
          "data": {
            "text/html": [
              "<div>\n",
              "<style scoped>\n",
              "    .dataframe tbody tr th:only-of-type {\n",
              "        vertical-align: middle;\n",
              "    }\n",
              "\n",
              "    .dataframe tbody tr th {\n",
              "        vertical-align: top;\n",
              "    }\n",
              "\n",
              "    .dataframe thead th {\n",
              "        text-align: right;\n",
              "    }\n",
              "</style>\n",
              "<table border=\"1\" class=\"dataframe\">\n",
              "  <thead>\n",
              "    <tr style=\"text-align: right;\">\n",
              "      <th></th>\n",
              "      <th>SEASON</th>\n",
              "      <th>COUNTRY</th>\n",
              "      <th>LEAGUE</th>\n",
              "      <th>DATE</th>\n",
              "      <th>HOMETEAM</th>\n",
              "      <th>AWAYTEAM</th>\n",
              "      <th>FTSC</th>\n",
              "      <th>FTR</th>\n",
              "      <th>FTHG</th>\n",
              "      <th>FTAG</th>\n",
              "      <th>FTTG</th>\n",
              "      <th>H</th>\n",
              "      <th>D</th>\n",
              "      <th>A</th>\n",
              "    </tr>\n",
              "  </thead>\n",
              "  <tbody>\n",
              "    <tr>\n",
              "      <th>0</th>\n",
              "      <td>1994.0</td>\n",
              "      <td>England</td>\n",
              "      <td>Premier League</td>\n",
              "      <td>1993-08-14</td>\n",
              "      <td>Arsenal</td>\n",
              "      <td>Coventry</td>\n",
              "      <td>0-3</td>\n",
              "      <td>A</td>\n",
              "      <td>0.0</td>\n",
              "      <td>3.0</td>\n",
              "      <td>3.0</td>\n",
              "      <td>NaN</td>\n",
              "      <td>NaN</td>\n",
              "      <td>NaN</td>\n",
              "    </tr>\n",
              "    <tr>\n",
              "      <th>1</th>\n",
              "      <td>1994.0</td>\n",
              "      <td>England</td>\n",
              "      <td>Premier League</td>\n",
              "      <td>1993-08-14</td>\n",
              "      <td>Aston Villa</td>\n",
              "      <td>QPR</td>\n",
              "      <td>4-1</td>\n",
              "      <td>H</td>\n",
              "      <td>4.0</td>\n",
              "      <td>1.0</td>\n",
              "      <td>5.0</td>\n",
              "      <td>NaN</td>\n",
              "      <td>NaN</td>\n",
              "      <td>NaN</td>\n",
              "    </tr>\n",
              "    <tr>\n",
              "      <th>2</th>\n",
              "      <td>1994.0</td>\n",
              "      <td>England</td>\n",
              "      <td>Premier League</td>\n",
              "      <td>1993-08-14</td>\n",
              "      <td>Chelsea</td>\n",
              "      <td>Blackburn</td>\n",
              "      <td>1-2</td>\n",
              "      <td>A</td>\n",
              "      <td>1.0</td>\n",
              "      <td>2.0</td>\n",
              "      <td>3.0</td>\n",
              "      <td>NaN</td>\n",
              "      <td>NaN</td>\n",
              "      <td>NaN</td>\n",
              "    </tr>\n",
              "    <tr>\n",
              "      <th>3</th>\n",
              "      <td>1994.0</td>\n",
              "      <td>England</td>\n",
              "      <td>Premier League</td>\n",
              "      <td>1993-08-14</td>\n",
              "      <td>Liverpool</td>\n",
              "      <td>Sheffield Weds</td>\n",
              "      <td>2-0</td>\n",
              "      <td>H</td>\n",
              "      <td>2.0</td>\n",
              "      <td>0.0</td>\n",
              "      <td>2.0</td>\n",
              "      <td>NaN</td>\n",
              "      <td>NaN</td>\n",
              "      <td>NaN</td>\n",
              "    </tr>\n",
              "    <tr>\n",
              "      <th>4</th>\n",
              "      <td>1994.0</td>\n",
              "      <td>England</td>\n",
              "      <td>Premier League</td>\n",
              "      <td>1993-08-14</td>\n",
              "      <td>Man City</td>\n",
              "      <td>Leeds</td>\n",
              "      <td>1-1</td>\n",
              "      <td>D</td>\n",
              "      <td>1.0</td>\n",
              "      <td>1.0</td>\n",
              "      <td>2.0</td>\n",
              "      <td>NaN</td>\n",
              "      <td>NaN</td>\n",
              "      <td>NaN</td>\n",
              "    </tr>\n",
              "  </tbody>\n",
              "</table>\n",
              "</div>"
            ],
            "text/plain": [
              "   SEASON  COUNTRY          LEAGUE        DATE  ... FTTG   H   D   A\n",
              "0  1994.0  England  Premier League  1993-08-14  ...  3.0 NaN NaN NaN\n",
              "1  1994.0  England  Premier League  1993-08-14  ...  5.0 NaN NaN NaN\n",
              "2  1994.0  England  Premier League  1993-08-14  ...  3.0 NaN NaN NaN\n",
              "3  1994.0  England  Premier League  1993-08-14  ...  2.0 NaN NaN NaN\n",
              "4  1994.0  England  Premier League  1993-08-14  ...  2.0 NaN NaN NaN\n",
              "\n",
              "[5 rows x 14 columns]"
            ]
          },
          "metadata": {
            "tags": []
          },
          "execution_count": 5
        }
      ]
    },
    {
      "cell_type": "code",
      "metadata": {
        "id": "uKBTXZ-ovnbn",
        "outputId": "6d7e7c60-c727-40f0-f8bf-dcea4680eeab",
        "colab": {
          "base_uri": "https://localhost:8080/"
        }
      },
      "source": [
        "#checking unique value to choose one for the analysis\n",
        "df['LEAGUE'].unique()"
      ],
      "execution_count": 6,
      "outputs": [
        {
          "output_type": "execute_result",
          "data": {
            "text/plain": [
              "array(['Premier League', 'Bundesliga 1', 'La Liga Primera Division',\n",
              "       'Serie A', 'Le Championnat', 'Eredivisie', 'Liga I',\n",
              "       'Futbol Ligi 1', 'Ethniki Katigoria', 'Jupiler League'],\n",
              "      dtype=object)"
            ]
          },
          "metadata": {
            "tags": []
          },
          "execution_count": 6
        }
      ]
    },
    {
      "cell_type": "markdown",
      "metadata": {
        "id": "orFnhVAHvsb3"
      },
      "source": [
        "I will choose 'La Liga Primera Division' as an object for furthur analysis."
      ]
    },
    {
      "cell_type": "markdown",
      "metadata": {
        "id": "Qx2FRRjEvvSZ"
      },
      "source": [
        "# **Exploratory Data Analysis of the \"La Liga Primera Division\"**"
      ]
    },
    {
      "cell_type": "code",
      "metadata": {
        "id": "IE_C2xMwvp-L",
        "outputId": "0911021c-6215-4428-92db-a25e41350a69",
        "colab": {
          "base_uri": "https://localhost:8080/"
        }
      },
      "source": [
        "#general summary\n",
        "df.info()"
      ],
      "execution_count": 7,
      "outputs": [
        {
          "output_type": "stream",
          "text": [
            "<class 'pandas.core.frame.DataFrame'>\n",
            "RangeIndex: 87816 entries, 0 to 87815\n",
            "Data columns (total 14 columns):\n",
            " #   Column    Non-Null Count  Dtype  \n",
            "---  ------    --------------  -----  \n",
            " 0   SEASON    87816 non-null  float64\n",
            " 1   COUNTRY   87816 non-null  object \n",
            " 2   LEAGUE    87816 non-null  object \n",
            " 3   DATE      87816 non-null  object \n",
            " 4   HOMETEAM  87816 non-null  object \n",
            " 5   AWAYTEAM  87816 non-null  object \n",
            " 6   FTSC      87816 non-null  object \n",
            " 7   FTR       87814 non-null  object \n",
            " 8   FTHG      87814 non-null  float64\n",
            " 9   FTAG      87814 non-null  float64\n",
            " 10  FTTG      87814 non-null  float64\n",
            " 11  H         57660 non-null  float64\n",
            " 12  D         57660 non-null  float64\n",
            " 13  A         57660 non-null  float64\n",
            "dtypes: float64(7), object(7)\n",
            "memory usage: 9.4+ MB\n"
          ],
          "name": "stdout"
        }
      ]
    },
    {
      "cell_type": "code",
      "metadata": {
        "id": "OwqZCmOd4_sm"
      },
      "source": [
        "#changing datatype of the \"Season\" from float to integer\n",
        "df.SEASON = df.SEASON.astype(int)"
      ],
      "execution_count": 8,
      "outputs": []
    },
    {
      "cell_type": "code",
      "metadata": {
        "id": "OB8JCXf553Yv",
        "outputId": "221101c0-e84b-46ac-b8f8-d794dbcaccb8",
        "colab": {
          "base_uri": "https://localhost:8080/"
        }
      },
      "source": [
        "type(df['SEASON'][0])"
      ],
      "execution_count": 9,
      "outputs": [
        {
          "output_type": "execute_result",
          "data": {
            "text/plain": [
              "numpy.int64"
            ]
          },
          "metadata": {
            "tags": []
          },
          "execution_count": 9
        }
      ]
    },
    {
      "cell_type": "code",
      "metadata": {
        "id": "pT-q7K5Xv4Lg"
      },
      "source": [
        "#creating new dataframe with chosen category from \"League\"\n",
        "df_new = df[df.LEAGUE == 'La Liga Primera Division']"
      ],
      "execution_count": 10,
      "outputs": []
    },
    {
      "cell_type": "code",
      "metadata": {
        "id": "oA_-1I3Cv71F",
        "outputId": "0a1c8aad-dc05-4be3-dac1-1ceb1169ec44",
        "colab": {
          "base_uri": "https://localhost:8080/",
          "height": 204
        }
      },
      "source": [
        "#to see dataset's first few rows\n",
        "df_new.head()"
      ],
      "execution_count": 11,
      "outputs": [
        {
          "output_type": "execute_result",
          "data": {
            "text/html": [
              "<div>\n",
              "<style scoped>\n",
              "    .dataframe tbody tr th:only-of-type {\n",
              "        vertical-align: middle;\n",
              "    }\n",
              "\n",
              "    .dataframe tbody tr th {\n",
              "        vertical-align: top;\n",
              "    }\n",
              "\n",
              "    .dataframe thead th {\n",
              "        text-align: right;\n",
              "    }\n",
              "</style>\n",
              "<table border=\"1\" class=\"dataframe\">\n",
              "  <thead>\n",
              "    <tr style=\"text-align: right;\">\n",
              "      <th></th>\n",
              "      <th>SEASON</th>\n",
              "      <th>COUNTRY</th>\n",
              "      <th>LEAGUE</th>\n",
              "      <th>DATE</th>\n",
              "      <th>HOMETEAM</th>\n",
              "      <th>AWAYTEAM</th>\n",
              "      <th>FTSC</th>\n",
              "      <th>FTR</th>\n",
              "      <th>FTHG</th>\n",
              "      <th>FTAG</th>\n",
              "      <th>FTTG</th>\n",
              "      <th>H</th>\n",
              "      <th>D</th>\n",
              "      <th>A</th>\n",
              "    </tr>\n",
              "  </thead>\n",
              "  <tbody>\n",
              "    <tr>\n",
              "      <th>768</th>\n",
              "      <td>1994</td>\n",
              "      <td>Spain</td>\n",
              "      <td>La Liga Primera Division</td>\n",
              "      <td>1993-09-05</td>\n",
              "      <td>Ath Bilbao</td>\n",
              "      <td>Albacete</td>\n",
              "      <td>4-1</td>\n",
              "      <td>H</td>\n",
              "      <td>4.0</td>\n",
              "      <td>1.0</td>\n",
              "      <td>5.0</td>\n",
              "      <td>NaN</td>\n",
              "      <td>NaN</td>\n",
              "      <td>NaN</td>\n",
              "    </tr>\n",
              "    <tr>\n",
              "      <th>769</th>\n",
              "      <td>1994</td>\n",
              "      <td>Spain</td>\n",
              "      <td>La Liga Primera Division</td>\n",
              "      <td>1993-09-05</td>\n",
              "      <td>Ath Madrid</td>\n",
              "      <td>Logrones</td>\n",
              "      <td>1-0</td>\n",
              "      <td>H</td>\n",
              "      <td>1.0</td>\n",
              "      <td>0.0</td>\n",
              "      <td>1.0</td>\n",
              "      <td>NaN</td>\n",
              "      <td>NaN</td>\n",
              "      <td>NaN</td>\n",
              "    </tr>\n",
              "    <tr>\n",
              "      <th>770</th>\n",
              "      <td>1994</td>\n",
              "      <td>Spain</td>\n",
              "      <td>La Liga Primera Division</td>\n",
              "      <td>1993-09-05</td>\n",
              "      <td>Barcelona</td>\n",
              "      <td>Sociedad</td>\n",
              "      <td>3-0</td>\n",
              "      <td>H</td>\n",
              "      <td>3.0</td>\n",
              "      <td>0.0</td>\n",
              "      <td>3.0</td>\n",
              "      <td>NaN</td>\n",
              "      <td>NaN</td>\n",
              "      <td>NaN</td>\n",
              "    </tr>\n",
              "    <tr>\n",
              "      <th>771</th>\n",
              "      <td>1994</td>\n",
              "      <td>Spain</td>\n",
              "      <td>La Liga Primera Division</td>\n",
              "      <td>1993-09-05</td>\n",
              "      <td>La Coruna</td>\n",
              "      <td>Celta</td>\n",
              "      <td>0-0</td>\n",
              "      <td>D</td>\n",
              "      <td>0.0</td>\n",
              "      <td>0.0</td>\n",
              "      <td>0.0</td>\n",
              "      <td>NaN</td>\n",
              "      <td>NaN</td>\n",
              "      <td>NaN</td>\n",
              "    </tr>\n",
              "    <tr>\n",
              "      <th>772</th>\n",
              "      <td>1994</td>\n",
              "      <td>Spain</td>\n",
              "      <td>La Liga Primera Division</td>\n",
              "      <td>1993-09-05</td>\n",
              "      <td>Osasuna</td>\n",
              "      <td>Real Madrid</td>\n",
              "      <td>1-4</td>\n",
              "      <td>A</td>\n",
              "      <td>1.0</td>\n",
              "      <td>4.0</td>\n",
              "      <td>5.0</td>\n",
              "      <td>NaN</td>\n",
              "      <td>NaN</td>\n",
              "      <td>NaN</td>\n",
              "    </tr>\n",
              "  </tbody>\n",
              "</table>\n",
              "</div>"
            ],
            "text/plain": [
              "     SEASON COUNTRY                    LEAGUE        DATE  ... FTTG   H   D   A\n",
              "768    1994   Spain  La Liga Primera Division  1993-09-05  ...  5.0 NaN NaN NaN\n",
              "769    1994   Spain  La Liga Primera Division  1993-09-05  ...  1.0 NaN NaN NaN\n",
              "770    1994   Spain  La Liga Primera Division  1993-09-05  ...  3.0 NaN NaN NaN\n",
              "771    1994   Spain  La Liga Primera Division  1993-09-05  ...  0.0 NaN NaN NaN\n",
              "772    1994   Spain  La Liga Primera Division  1993-09-05  ...  5.0 NaN NaN NaN\n",
              "\n",
              "[5 rows x 14 columns]"
            ]
          },
          "metadata": {
            "tags": []
          },
          "execution_count": 11
        }
      ]
    },
    {
      "cell_type": "code",
      "metadata": {
        "id": "Bf_Mh0gIBFLz",
        "outputId": "29bd59a7-0535-4dce-80bc-3c4b6d4f63cc",
        "colab": {
          "base_uri": "https://localhost:8080/"
        }
      },
      "source": [
        "#checking for missing values\n",
        "pd.isnull(df_new).sum()"
      ],
      "execution_count": 12,
      "outputs": [
        {
          "output_type": "execute_result",
          "data": {
            "text/plain": [
              "SEASON         0\n",
              "COUNTRY        0\n",
              "LEAGUE         0\n",
              "DATE           0\n",
              "HOMETEAM       0\n",
              "AWAYTEAM       0\n",
              "FTSC           0\n",
              "FTR            0\n",
              "FTHG           0\n",
              "FTAG           0\n",
              "FTTG           0\n",
              "H           3590\n",
              "D           3590\n",
              "A           3590\n",
              "dtype: int64"
            ]
          },
          "metadata": {
            "tags": []
          },
          "execution_count": 12
        }
      ]
    },
    {
      "cell_type": "markdown",
      "metadata": {
        "id": "6j9OTG0jBpDD"
      },
      "source": [
        "As we are not going to use \"H\", \"D\" and \"A\" features in our analysis, I will drop them and will aso get rid of the missing values."
      ]
    },
    {
      "cell_type": "code",
      "metadata": {
        "id": "iiOrP73mBodn"
      },
      "source": [
        "df_new.drop(['H'], axis=1, inplace=True)"
      ],
      "execution_count": null,
      "outputs": []
    },
    {
      "cell_type": "code",
      "metadata": {
        "id": "ZINe1FE2CLo5"
      },
      "source": [
        "df_new.drop(['D'], axis=1, inplace=True)"
      ],
      "execution_count": null,
      "outputs": []
    },
    {
      "cell_type": "code",
      "metadata": {
        "id": "RXpS73_lCRlI"
      },
      "source": [
        "df_new.drop(['A'], axis=1, inplace=True)"
      ],
      "execution_count": null,
      "outputs": []
    },
    {
      "cell_type": "code",
      "metadata": {
        "id": "LcJp6ALtv-pw",
        "outputId": "d68b8d6e-e4fb-470a-e810-6bedac51f013",
        "colab": {
          "base_uri": "https://localhost:8080/"
        }
      },
      "source": [
        "df_new.info()"
      ],
      "execution_count": 16,
      "outputs": [
        {
          "output_type": "stream",
          "text": [
            "<class 'pandas.core.frame.DataFrame'>\n",
            "Int64Index: 10044 entries, 768 to 85657\n",
            "Data columns (total 11 columns):\n",
            " #   Column    Non-Null Count  Dtype  \n",
            "---  ------    --------------  -----  \n",
            " 0   SEASON    10044 non-null  int64  \n",
            " 1   COUNTRY   10044 non-null  object \n",
            " 2   LEAGUE    10044 non-null  object \n",
            " 3   DATE      10044 non-null  object \n",
            " 4   HOMETEAM  10044 non-null  object \n",
            " 5   AWAYTEAM  10044 non-null  object \n",
            " 6   FTSC      10044 non-null  object \n",
            " 7   FTR       10044 non-null  object \n",
            " 8   FTHG      10044 non-null  float64\n",
            " 9   FTAG      10044 non-null  float64\n",
            " 10  FTTG      10044 non-null  float64\n",
            "dtypes: float64(3), int64(1), object(7)\n",
            "memory usage: 941.6+ KB\n"
          ],
          "name": "stdout"
        }
      ]
    },
    {
      "cell_type": "code",
      "metadata": {
        "id": "_Rtsf2DZwBRp"
      },
      "source": [
        "#reset index\n",
        "df_new = df_new.reset_index(drop=True)"
      ],
      "execution_count": 17,
      "outputs": []
    },
    {
      "cell_type": "code",
      "metadata": {
        "id": "JXona6N3wENe",
        "outputId": "fdda865d-1c45-4ced-d4da-03664035672b",
        "colab": {
          "base_uri": "https://localhost:8080/",
          "height": 204
        }
      },
      "source": [
        "#first few rows\n",
        "df_new.head()"
      ],
      "execution_count": 18,
      "outputs": [
        {
          "output_type": "execute_result",
          "data": {
            "text/html": [
              "<div>\n",
              "<style scoped>\n",
              "    .dataframe tbody tr th:only-of-type {\n",
              "        vertical-align: middle;\n",
              "    }\n",
              "\n",
              "    .dataframe tbody tr th {\n",
              "        vertical-align: top;\n",
              "    }\n",
              "\n",
              "    .dataframe thead th {\n",
              "        text-align: right;\n",
              "    }\n",
              "</style>\n",
              "<table border=\"1\" class=\"dataframe\">\n",
              "  <thead>\n",
              "    <tr style=\"text-align: right;\">\n",
              "      <th></th>\n",
              "      <th>SEASON</th>\n",
              "      <th>COUNTRY</th>\n",
              "      <th>LEAGUE</th>\n",
              "      <th>DATE</th>\n",
              "      <th>HOMETEAM</th>\n",
              "      <th>AWAYTEAM</th>\n",
              "      <th>FTSC</th>\n",
              "      <th>FTR</th>\n",
              "      <th>FTHG</th>\n",
              "      <th>FTAG</th>\n",
              "      <th>FTTG</th>\n",
              "    </tr>\n",
              "  </thead>\n",
              "  <tbody>\n",
              "    <tr>\n",
              "      <th>0</th>\n",
              "      <td>1994</td>\n",
              "      <td>Spain</td>\n",
              "      <td>La Liga Primera Division</td>\n",
              "      <td>1993-09-05</td>\n",
              "      <td>Ath Bilbao</td>\n",
              "      <td>Albacete</td>\n",
              "      <td>4-1</td>\n",
              "      <td>H</td>\n",
              "      <td>4.0</td>\n",
              "      <td>1.0</td>\n",
              "      <td>5.0</td>\n",
              "    </tr>\n",
              "    <tr>\n",
              "      <th>1</th>\n",
              "      <td>1994</td>\n",
              "      <td>Spain</td>\n",
              "      <td>La Liga Primera Division</td>\n",
              "      <td>1993-09-05</td>\n",
              "      <td>Ath Madrid</td>\n",
              "      <td>Logrones</td>\n",
              "      <td>1-0</td>\n",
              "      <td>H</td>\n",
              "      <td>1.0</td>\n",
              "      <td>0.0</td>\n",
              "      <td>1.0</td>\n",
              "    </tr>\n",
              "    <tr>\n",
              "      <th>2</th>\n",
              "      <td>1994</td>\n",
              "      <td>Spain</td>\n",
              "      <td>La Liga Primera Division</td>\n",
              "      <td>1993-09-05</td>\n",
              "      <td>Barcelona</td>\n",
              "      <td>Sociedad</td>\n",
              "      <td>3-0</td>\n",
              "      <td>H</td>\n",
              "      <td>3.0</td>\n",
              "      <td>0.0</td>\n",
              "      <td>3.0</td>\n",
              "    </tr>\n",
              "    <tr>\n",
              "      <th>3</th>\n",
              "      <td>1994</td>\n",
              "      <td>Spain</td>\n",
              "      <td>La Liga Primera Division</td>\n",
              "      <td>1993-09-05</td>\n",
              "      <td>La Coruna</td>\n",
              "      <td>Celta</td>\n",
              "      <td>0-0</td>\n",
              "      <td>D</td>\n",
              "      <td>0.0</td>\n",
              "      <td>0.0</td>\n",
              "      <td>0.0</td>\n",
              "    </tr>\n",
              "    <tr>\n",
              "      <th>4</th>\n",
              "      <td>1994</td>\n",
              "      <td>Spain</td>\n",
              "      <td>La Liga Primera Division</td>\n",
              "      <td>1993-09-05</td>\n",
              "      <td>Osasuna</td>\n",
              "      <td>Real Madrid</td>\n",
              "      <td>1-4</td>\n",
              "      <td>A</td>\n",
              "      <td>1.0</td>\n",
              "      <td>4.0</td>\n",
              "      <td>5.0</td>\n",
              "    </tr>\n",
              "  </tbody>\n",
              "</table>\n",
              "</div>"
            ],
            "text/plain": [
              "   SEASON COUNTRY                    LEAGUE        DATE  ... FTR FTHG FTAG FTTG\n",
              "0    1994   Spain  La Liga Primera Division  1993-09-05  ...   H  4.0  1.0  5.0\n",
              "1    1994   Spain  La Liga Primera Division  1993-09-05  ...   H  1.0  0.0  1.0\n",
              "2    1994   Spain  La Liga Primera Division  1993-09-05  ...   H  3.0  0.0  3.0\n",
              "3    1994   Spain  La Liga Primera Division  1993-09-05  ...   D  0.0  0.0  0.0\n",
              "4    1994   Spain  La Liga Primera Division  1993-09-05  ...   A  1.0  4.0  5.0\n",
              "\n",
              "[5 rows x 11 columns]"
            ]
          },
          "metadata": {
            "tags": []
          },
          "execution_count": 18
        }
      ]
    },
    {
      "cell_type": "code",
      "metadata": {
        "id": "3OKN4w60wHK4",
        "outputId": "0a7c624f-3fe2-4760-f841-d7bb978d42fb",
        "colab": {
          "base_uri": "https://localhost:8080/"
        }
      },
      "source": [
        "#looking at unique values in \"Season\" to have an understanding of the timeframe of the data\n",
        "df_new['SEASON'].unique()"
      ],
      "execution_count": 19,
      "outputs": [
        {
          "output_type": "execute_result",
          "data": {
            "text/plain": [
              "array([1994, 1995, 1996, 1997, 1998, 1999, 2000, 2001, 2002, 2003, 2004,\n",
              "       2005, 2006, 2007, 2008, 2009, 2010, 2011, 2012, 2013, 2014, 2015,\n",
              "       2016, 2017, 2018, 2019])"
            ]
          },
          "metadata": {
            "tags": []
          },
          "execution_count": 19
        }
      ]
    },
    {
      "cell_type": "markdown",
      "metadata": {
        "id": "BiGVS6BOwOvq"
      },
      "source": [
        "# **Calculate average number of goals for home and away teams per SEASON for that league and sort them descending order. Which clubs are more consistent?**"
      ]
    },
    {
      "cell_type": "markdown",
      "metadata": {
        "id": "IojKDKbNwXfC"
      },
      "source": [
        "Abbreviations:\n",
        "\n",
        "* FTSC = Full Time Score\n",
        "* FTR = Full Time Result  \n",
        "* FTHG = Full Time Home Team Goals\t\n",
        "* FTAG = Full Time Away Team Goals\n",
        "* FTTG = Full Time Total Goal"
      ]
    },
    {
      "cell_type": "code",
      "metadata": {
        "id": "fVbN2NGcwLxA",
        "outputId": "2ed6a0bc-2c83-4d1e-cd11-c3da5bac7823",
        "colab": {
          "base_uri": "https://localhost:8080/",
          "height": 204
        }
      },
      "source": [
        "df_new.head()"
      ],
      "execution_count": 20,
      "outputs": [
        {
          "output_type": "execute_result",
          "data": {
            "text/html": [
              "<div>\n",
              "<style scoped>\n",
              "    .dataframe tbody tr th:only-of-type {\n",
              "        vertical-align: middle;\n",
              "    }\n",
              "\n",
              "    .dataframe tbody tr th {\n",
              "        vertical-align: top;\n",
              "    }\n",
              "\n",
              "    .dataframe thead th {\n",
              "        text-align: right;\n",
              "    }\n",
              "</style>\n",
              "<table border=\"1\" class=\"dataframe\">\n",
              "  <thead>\n",
              "    <tr style=\"text-align: right;\">\n",
              "      <th></th>\n",
              "      <th>SEASON</th>\n",
              "      <th>COUNTRY</th>\n",
              "      <th>LEAGUE</th>\n",
              "      <th>DATE</th>\n",
              "      <th>HOMETEAM</th>\n",
              "      <th>AWAYTEAM</th>\n",
              "      <th>FTSC</th>\n",
              "      <th>FTR</th>\n",
              "      <th>FTHG</th>\n",
              "      <th>FTAG</th>\n",
              "      <th>FTTG</th>\n",
              "    </tr>\n",
              "  </thead>\n",
              "  <tbody>\n",
              "    <tr>\n",
              "      <th>0</th>\n",
              "      <td>1994</td>\n",
              "      <td>Spain</td>\n",
              "      <td>La Liga Primera Division</td>\n",
              "      <td>1993-09-05</td>\n",
              "      <td>Ath Bilbao</td>\n",
              "      <td>Albacete</td>\n",
              "      <td>4-1</td>\n",
              "      <td>H</td>\n",
              "      <td>4.0</td>\n",
              "      <td>1.0</td>\n",
              "      <td>5.0</td>\n",
              "    </tr>\n",
              "    <tr>\n",
              "      <th>1</th>\n",
              "      <td>1994</td>\n",
              "      <td>Spain</td>\n",
              "      <td>La Liga Primera Division</td>\n",
              "      <td>1993-09-05</td>\n",
              "      <td>Ath Madrid</td>\n",
              "      <td>Logrones</td>\n",
              "      <td>1-0</td>\n",
              "      <td>H</td>\n",
              "      <td>1.0</td>\n",
              "      <td>0.0</td>\n",
              "      <td>1.0</td>\n",
              "    </tr>\n",
              "    <tr>\n",
              "      <th>2</th>\n",
              "      <td>1994</td>\n",
              "      <td>Spain</td>\n",
              "      <td>La Liga Primera Division</td>\n",
              "      <td>1993-09-05</td>\n",
              "      <td>Barcelona</td>\n",
              "      <td>Sociedad</td>\n",
              "      <td>3-0</td>\n",
              "      <td>H</td>\n",
              "      <td>3.0</td>\n",
              "      <td>0.0</td>\n",
              "      <td>3.0</td>\n",
              "    </tr>\n",
              "    <tr>\n",
              "      <th>3</th>\n",
              "      <td>1994</td>\n",
              "      <td>Spain</td>\n",
              "      <td>La Liga Primera Division</td>\n",
              "      <td>1993-09-05</td>\n",
              "      <td>La Coruna</td>\n",
              "      <td>Celta</td>\n",
              "      <td>0-0</td>\n",
              "      <td>D</td>\n",
              "      <td>0.0</td>\n",
              "      <td>0.0</td>\n",
              "      <td>0.0</td>\n",
              "    </tr>\n",
              "    <tr>\n",
              "      <th>4</th>\n",
              "      <td>1994</td>\n",
              "      <td>Spain</td>\n",
              "      <td>La Liga Primera Division</td>\n",
              "      <td>1993-09-05</td>\n",
              "      <td>Osasuna</td>\n",
              "      <td>Real Madrid</td>\n",
              "      <td>1-4</td>\n",
              "      <td>A</td>\n",
              "      <td>1.0</td>\n",
              "      <td>4.0</td>\n",
              "      <td>5.0</td>\n",
              "    </tr>\n",
              "  </tbody>\n",
              "</table>\n",
              "</div>"
            ],
            "text/plain": [
              "   SEASON COUNTRY                    LEAGUE        DATE  ... FTR FTHG FTAG FTTG\n",
              "0    1994   Spain  La Liga Primera Division  1993-09-05  ...   H  4.0  1.0  5.0\n",
              "1    1994   Spain  La Liga Primera Division  1993-09-05  ...   H  1.0  0.0  1.0\n",
              "2    1994   Spain  La Liga Primera Division  1993-09-05  ...   H  3.0  0.0  3.0\n",
              "3    1994   Spain  La Liga Primera Division  1993-09-05  ...   D  0.0  0.0  0.0\n",
              "4    1994   Spain  La Liga Primera Division  1993-09-05  ...   A  1.0  4.0  5.0\n",
              "\n",
              "[5 rows x 11 columns]"
            ]
          },
          "metadata": {
            "tags": []
          },
          "execution_count": 20
        }
      ]
    },
    {
      "cell_type": "code",
      "metadata": {
        "id": "6eUvhyuYxBW2"
      },
      "source": [
        "#average number of goals for Hometeam per SEASON\n",
        "hometeam_ave_goals = pd.DataFrame(df_new.groupby(['SEASON', 'HOMETEAM'])['FTHG'].mean()).reset_index()"
      ],
      "execution_count": 21,
      "outputs": []
    },
    {
      "cell_type": "code",
      "metadata": {
        "id": "ZjBocGgAxP7V",
        "outputId": "5dd51258-9e04-4e88-b5cf-1fe3c5b70ecd",
        "colab": {
          "base_uri": "https://localhost:8080/",
          "height": 204
        }
      },
      "source": [
        "hometeam_ave_goals.head()"
      ],
      "execution_count": 22,
      "outputs": [
        {
          "output_type": "execute_result",
          "data": {
            "text/html": [
              "<div>\n",
              "<style scoped>\n",
              "    .dataframe tbody tr th:only-of-type {\n",
              "        vertical-align: middle;\n",
              "    }\n",
              "\n",
              "    .dataframe tbody tr th {\n",
              "        vertical-align: top;\n",
              "    }\n",
              "\n",
              "    .dataframe thead th {\n",
              "        text-align: right;\n",
              "    }\n",
              "</style>\n",
              "<table border=\"1\" class=\"dataframe\">\n",
              "  <thead>\n",
              "    <tr style=\"text-align: right;\">\n",
              "      <th></th>\n",
              "      <th>SEASON</th>\n",
              "      <th>HOMETEAM</th>\n",
              "      <th>FTHG</th>\n",
              "    </tr>\n",
              "  </thead>\n",
              "  <tbody>\n",
              "    <tr>\n",
              "      <th>0</th>\n",
              "      <td>1994</td>\n",
              "      <td>Albacete</td>\n",
              "      <td>1.736842</td>\n",
              "    </tr>\n",
              "    <tr>\n",
              "      <th>1</th>\n",
              "      <td>1994</td>\n",
              "      <td>Ath Bilbao</td>\n",
              "      <td>2.052632</td>\n",
              "    </tr>\n",
              "    <tr>\n",
              "      <th>2</th>\n",
              "      <td>1994</td>\n",
              "      <td>Ath Madrid</td>\n",
              "      <td>1.684211</td>\n",
              "    </tr>\n",
              "    <tr>\n",
              "      <th>3</th>\n",
              "      <td>1994</td>\n",
              "      <td>Barcelona</td>\n",
              "      <td>2.947368</td>\n",
              "    </tr>\n",
              "    <tr>\n",
              "      <th>4</th>\n",
              "      <td>1994</td>\n",
              "      <td>Celta</td>\n",
              "      <td>1.315789</td>\n",
              "    </tr>\n",
              "  </tbody>\n",
              "</table>\n",
              "</div>"
            ],
            "text/plain": [
              "   SEASON    HOMETEAM      FTHG\n",
              "0    1994    Albacete  1.736842\n",
              "1    1994  Ath Bilbao  2.052632\n",
              "2    1994  Ath Madrid  1.684211\n",
              "3    1994   Barcelona  2.947368\n",
              "4    1994       Celta  1.315789"
            ]
          },
          "metadata": {
            "tags": []
          },
          "execution_count": 22
        }
      ]
    },
    {
      "cell_type": "code",
      "metadata": {
        "id": "3oFzXtSfxlew"
      },
      "source": [
        "#we want to make all available values visible, hence no limit on maximum value, that is why we use None keyword\n",
        "#pd.options.display.max_columns = None\n",
        "#pd.options.display.max_rows = None"
      ],
      "execution_count": null,
      "outputs": []
    },
    {
      "cell_type": "code",
      "metadata": {
        "id": "BhCwOMRzxhcy"
      },
      "source": [
        "#Hometeam average goals per Season ordered by descending, top 1\n",
        "hometeam_ave_ordered = hometeam_ave_goals.groupby(['SEASON'], sort=False).apply(lambda x: x.sort_values(['FTHG','HOMETEAM'], ascending=False)[:1]) \\\n",
        "    .reset_index(drop=True)"
      ],
      "execution_count": 23,
      "outputs": []
    },
    {
      "cell_type": "code",
      "metadata": {
        "id": "7SJ0Wsl8yD-R",
        "outputId": "bf015f58-4430-40b0-b954-cb8e4047e250",
        "colab": {
          "base_uri": "https://localhost:8080/",
          "height": 359
        }
      },
      "source": [
        "hometeam_ave_ordered.head(10)"
      ],
      "execution_count": 24,
      "outputs": [
        {
          "output_type": "execute_result",
          "data": {
            "text/html": [
              "<div>\n",
              "<style scoped>\n",
              "    .dataframe tbody tr th:only-of-type {\n",
              "        vertical-align: middle;\n",
              "    }\n",
              "\n",
              "    .dataframe tbody tr th {\n",
              "        vertical-align: top;\n",
              "    }\n",
              "\n",
              "    .dataframe thead th {\n",
              "        text-align: right;\n",
              "    }\n",
              "</style>\n",
              "<table border=\"1\" class=\"dataframe\">\n",
              "  <thead>\n",
              "    <tr style=\"text-align: right;\">\n",
              "      <th></th>\n",
              "      <th>SEASON</th>\n",
              "      <th>HOMETEAM</th>\n",
              "      <th>FTHG</th>\n",
              "    </tr>\n",
              "  </thead>\n",
              "  <tbody>\n",
              "    <tr>\n",
              "      <th>0</th>\n",
              "      <td>1994</td>\n",
              "      <td>Barcelona</td>\n",
              "      <td>2.947368</td>\n",
              "    </tr>\n",
              "    <tr>\n",
              "      <th>1</th>\n",
              "      <td>1995</td>\n",
              "      <td>Real Madrid</td>\n",
              "      <td>2.368421</td>\n",
              "    </tr>\n",
              "    <tr>\n",
              "      <th>2</th>\n",
              "      <td>1996</td>\n",
              "      <td>Valencia</td>\n",
              "      <td>2.047619</td>\n",
              "    </tr>\n",
              "    <tr>\n",
              "      <th>3</th>\n",
              "      <td>1997</td>\n",
              "      <td>Barcelona</td>\n",
              "      <td>3.000000</td>\n",
              "    </tr>\n",
              "    <tr>\n",
              "      <th>4</th>\n",
              "      <td>1998</td>\n",
              "      <td>Ath Madrid</td>\n",
              "      <td>2.473684</td>\n",
              "    </tr>\n",
              "    <tr>\n",
              "      <th>5</th>\n",
              "      <td>1999</td>\n",
              "      <td>Barcelona</td>\n",
              "      <td>2.736842</td>\n",
              "    </tr>\n",
              "    <tr>\n",
              "      <th>6</th>\n",
              "      <td>2000</td>\n",
              "      <td>La Coruna</td>\n",
              "      <td>2.473684</td>\n",
              "    </tr>\n",
              "    <tr>\n",
              "      <th>7</th>\n",
              "      <td>2001</td>\n",
              "      <td>Real Madrid</td>\n",
              "      <td>2.789474</td>\n",
              "    </tr>\n",
              "    <tr>\n",
              "      <th>8</th>\n",
              "      <td>2002</td>\n",
              "      <td>Real Madrid</td>\n",
              "      <td>2.526316</td>\n",
              "    </tr>\n",
              "    <tr>\n",
              "      <th>9</th>\n",
              "      <td>2003</td>\n",
              "      <td>Real Madrid</td>\n",
              "      <td>2.736842</td>\n",
              "    </tr>\n",
              "  </tbody>\n",
              "</table>\n",
              "</div>"
            ],
            "text/plain": [
              "   SEASON     HOMETEAM      FTHG\n",
              "0    1994    Barcelona  2.947368\n",
              "1    1995  Real Madrid  2.368421\n",
              "2    1996     Valencia  2.047619\n",
              "3    1997    Barcelona  3.000000\n",
              "4    1998   Ath Madrid  2.473684\n",
              "5    1999    Barcelona  2.736842\n",
              "6    2000    La Coruna  2.473684\n",
              "7    2001  Real Madrid  2.789474\n",
              "8    2002  Real Madrid  2.526316\n",
              "9    2003  Real Madrid  2.736842"
            ]
          },
          "metadata": {
            "tags": []
          },
          "execution_count": 24
        }
      ]
    },
    {
      "cell_type": "code",
      "metadata": {
        "id": "3TigFwdP7WqT"
      },
      "source": [
        "#average number of goals for Awayteam per SEASON\n",
        "awayteam_ave_goals = pd.DataFrame(df_new.groupby(['SEASON', 'AWAYTEAM'])['FTAG'].mean()).reset_index()"
      ],
      "execution_count": 25,
      "outputs": []
    },
    {
      "cell_type": "code",
      "metadata": {
        "id": "-cOWxnPM7uxS",
        "outputId": "b1efcc5d-851e-4b52-c94f-1d7d52bd7705",
        "colab": {
          "base_uri": "https://localhost:8080/",
          "height": 204
        }
      },
      "source": [
        "awayteam_ave_goals.head()"
      ],
      "execution_count": 26,
      "outputs": [
        {
          "output_type": "execute_result",
          "data": {
            "text/html": [
              "<div>\n",
              "<style scoped>\n",
              "    .dataframe tbody tr th:only-of-type {\n",
              "        vertical-align: middle;\n",
              "    }\n",
              "\n",
              "    .dataframe tbody tr th {\n",
              "        vertical-align: top;\n",
              "    }\n",
              "\n",
              "    .dataframe thead th {\n",
              "        text-align: right;\n",
              "    }\n",
              "</style>\n",
              "<table border=\"1\" class=\"dataframe\">\n",
              "  <thead>\n",
              "    <tr style=\"text-align: right;\">\n",
              "      <th></th>\n",
              "      <th>SEASON</th>\n",
              "      <th>AWAYTEAM</th>\n",
              "      <th>FTAG</th>\n",
              "    </tr>\n",
              "  </thead>\n",
              "  <tbody>\n",
              "    <tr>\n",
              "      <th>0</th>\n",
              "      <td>1994</td>\n",
              "      <td>Albacete</td>\n",
              "      <td>0.842105</td>\n",
              "    </tr>\n",
              "    <tr>\n",
              "      <th>1</th>\n",
              "      <td>1994</td>\n",
              "      <td>Ath Bilbao</td>\n",
              "      <td>1.157895</td>\n",
              "    </tr>\n",
              "    <tr>\n",
              "      <th>2</th>\n",
              "      <td>1994</td>\n",
              "      <td>Ath Madrid</td>\n",
              "      <td>1.157895</td>\n",
              "    </tr>\n",
              "    <tr>\n",
              "      <th>3</th>\n",
              "      <td>1994</td>\n",
              "      <td>Barcelona</td>\n",
              "      <td>1.842105</td>\n",
              "    </tr>\n",
              "    <tr>\n",
              "      <th>4</th>\n",
              "      <td>1994</td>\n",
              "      <td>Celta</td>\n",
              "      <td>0.842105</td>\n",
              "    </tr>\n",
              "  </tbody>\n",
              "</table>\n",
              "</div>"
            ],
            "text/plain": [
              "   SEASON    AWAYTEAM      FTAG\n",
              "0    1994    Albacete  0.842105\n",
              "1    1994  Ath Bilbao  1.157895\n",
              "2    1994  Ath Madrid  1.157895\n",
              "3    1994   Barcelona  1.842105\n",
              "4    1994       Celta  0.842105"
            ]
          },
          "metadata": {
            "tags": []
          },
          "execution_count": 26
        }
      ]
    },
    {
      "cell_type": "code",
      "metadata": {
        "id": "mQudlzXY751E"
      },
      "source": [
        "#Awayteam average goals per Season ordered by descending, top 1\n",
        "awayteam_ave_ordered = awayteam_ave_goals.groupby(['SEASON'], sort=False).apply(lambda x: x.sort_values(['FTAG','AWAYTEAM'], ascending=False)[:1]) \\\n",
        "    .reset_index(drop=True)"
      ],
      "execution_count": 27,
      "outputs": []
    },
    {
      "cell_type": "code",
      "metadata": {
        "id": "LcML2xOK8N1T",
        "outputId": "3ae96381-20d4-4525-dc6c-d80092a3934a",
        "colab": {
          "base_uri": "https://localhost:8080/",
          "height": 359
        }
      },
      "source": [
        "awayteam_ave_ordered.head(10)"
      ],
      "execution_count": 28,
      "outputs": [
        {
          "output_type": "execute_result",
          "data": {
            "text/html": [
              "<div>\n",
              "<style scoped>\n",
              "    .dataframe tbody tr th:only-of-type {\n",
              "        vertical-align: middle;\n",
              "    }\n",
              "\n",
              "    .dataframe tbody tr th {\n",
              "        vertical-align: top;\n",
              "    }\n",
              "\n",
              "    .dataframe thead th {\n",
              "        text-align: right;\n",
              "    }\n",
              "</style>\n",
              "<table border=\"1\" class=\"dataframe\">\n",
              "  <thead>\n",
              "    <tr style=\"text-align: right;\">\n",
              "      <th></th>\n",
              "      <th>SEASON</th>\n",
              "      <th>AWAYTEAM</th>\n",
              "      <th>FTAG</th>\n",
              "    </tr>\n",
              "  </thead>\n",
              "  <tbody>\n",
              "    <tr>\n",
              "      <th>0</th>\n",
              "      <td>1994</td>\n",
              "      <td>Barcelona</td>\n",
              "      <td>1.842105</td>\n",
              "    </tr>\n",
              "    <tr>\n",
              "      <th>1</th>\n",
              "      <td>1995</td>\n",
              "      <td>Real Madrid</td>\n",
              "      <td>1.631579</td>\n",
              "    </tr>\n",
              "    <tr>\n",
              "      <th>2</th>\n",
              "      <td>1996</td>\n",
              "      <td>Ath Madrid</td>\n",
              "      <td>1.666667</td>\n",
              "    </tr>\n",
              "    <tr>\n",
              "      <th>3</th>\n",
              "      <td>1997</td>\n",
              "      <td>Barcelona</td>\n",
              "      <td>1.857143</td>\n",
              "    </tr>\n",
              "    <tr>\n",
              "      <th>4</th>\n",
              "      <td>1998</td>\n",
              "      <td>Barcelona</td>\n",
              "      <td>1.894737</td>\n",
              "    </tr>\n",
              "    <tr>\n",
              "      <th>5</th>\n",
              "      <td>1999</td>\n",
              "      <td>Barcelona</td>\n",
              "      <td>1.842105</td>\n",
              "    </tr>\n",
              "    <tr>\n",
              "      <th>6</th>\n",
              "      <td>2000</td>\n",
              "      <td>Malaga</td>\n",
              "      <td>1.578947</td>\n",
              "    </tr>\n",
              "    <tr>\n",
              "      <th>7</th>\n",
              "      <td>2001</td>\n",
              "      <td>La Coruna</td>\n",
              "      <td>1.526316</td>\n",
              "    </tr>\n",
              "    <tr>\n",
              "      <th>8</th>\n",
              "      <td>2002</td>\n",
              "      <td>Ath Bilbao</td>\n",
              "      <td>1.631579</td>\n",
              "    </tr>\n",
              "    <tr>\n",
              "      <th>9</th>\n",
              "      <td>2003</td>\n",
              "      <td>Real Madrid</td>\n",
              "      <td>1.789474</td>\n",
              "    </tr>\n",
              "  </tbody>\n",
              "</table>\n",
              "</div>"
            ],
            "text/plain": [
              "   SEASON     AWAYTEAM      FTAG\n",
              "0    1994    Barcelona  1.842105\n",
              "1    1995  Real Madrid  1.631579\n",
              "2    1996   Ath Madrid  1.666667\n",
              "3    1997    Barcelona  1.857143\n",
              "4    1998    Barcelona  1.894737\n",
              "5    1999    Barcelona  1.842105\n",
              "6    2000       Malaga  1.578947\n",
              "7    2001    La Coruna  1.526316\n",
              "8    2002   Ath Bilbao  1.631579\n",
              "9    2003  Real Madrid  1.789474"
            ]
          },
          "metadata": {
            "tags": []
          },
          "execution_count": 28
        }
      ]
    },
    {
      "cell_type": "markdown",
      "metadata": {
        "id": "niSWfnWb8vfG"
      },
      "source": [
        "####Construct a plot to show how this number is changing over time. Hint: SEASON on x-axis. Show average Home goals and Away goals on the same plot. Be sure that your plot has appropriate axis names and titles."
      ]
    },
    {
      "cell_type": "code",
      "metadata": {
        "id": "0eQv6W3j8eHd",
        "outputId": "9c1b16f7-9224-4f12-bb71-6cb673d726f9",
        "colab": {
          "base_uri": "https://localhost:8080/",
          "height": 528
        }
      },
      "source": [
        "plt.figure(figsize=(15,8))\n",
        "ax = sns.lineplot(x=\"SEASON\", y=\"FTHG\", data=hometeam_ave_goals) \n",
        "sns.lineplot(x=\"SEASON\", y=\"FTAG\", data=awayteam_ave_goals, ax=ax) \n",
        "plt.xlabel('Season')\n",
        "plt.ylabel('Average Goals')\n",
        "plt.title('Average Number of Goals for Hometeam and Awayteam per Season')\n",
        "plt.xticks(rotation=45)\n",
        "plt.show()"
      ],
      "execution_count": 32,
      "outputs": [
        {
          "output_type": "display_data",
          "data": {
            "image/png": "[encoded data removed]",
            "text/plain": [
              "<Figure size 1080x576 with 1 Axes>"
            ]
          },
          "metadata": {
            "tags": [],
            "needs_background": "light"
          }
        }
      ]
    },
    {
      "cell_type": "markdown",
      "metadata": {
        "id": "i9iyw_Yn8rm-"
      },
      "source": [
        "####Find following clubs for each season: the best attack (top 5), the best defense (top5)"
      ]
    },
    {
      "cell_type": "code",
      "metadata": {
        "id": "4-DhiGmNnHdF"
      },
      "source": [
        "#average scored goals for match per season (league average)\n",
        "ave_scored_goals = (df_new.groupby(['SEASON', 'HOMETEAM'])['FTTG'].sum()) / df_new.groupby(['SEASON']).size()"
      ],
      "execution_count": 33,
      "outputs": []
    },
    {
      "cell_type": "code",
      "metadata": {
        "id": "2TBlcnibvHcz",
        "outputId": "0b59c430-a31f-47b9-b14b-4d268a79b813",
        "colab": {
          "base_uri": "https://localhost:8080/"
        }
      },
      "source": [
        "ave_scored_goals.shape"
      ],
      "execution_count": 34,
      "outputs": [
        {
          "output_type": "execute_result",
          "data": {
            "text/plain": [
              "(524,)"
            ]
          },
          "metadata": {
            "tags": []
          },
          "execution_count": 34
        }
      ]
    },
    {
      "cell_type": "code",
      "metadata": {
        "id": "-QWhuxsOvde_",
        "outputId": "e7c0a3fc-dbc0-463b-ff37-a0626ee7acc7",
        "colab": {
          "base_uri": "https://localhost:8080/"
        }
      },
      "source": [
        "ave_scored_goals.head()"
      ],
      "execution_count": 35,
      "outputs": [
        {
          "output_type": "execute_result",
          "data": {
            "text/plain": [
              "SEASON  HOMETEAM  \n",
              "1994    Albacete      0.152632\n",
              "        Ath Bilbao    0.144737\n",
              "        Ath Madrid    0.139474\n",
              "        Barcelona     0.192105\n",
              "        Celta         0.126316\n",
              "dtype: float64"
            ]
          },
          "metadata": {
            "tags": []
          },
          "execution_count": 35
        }
      ]
    },
    {
      "cell_type": "code",
      "metadata": {
        "id": "SgOQ3hKiqv26"
      },
      "source": [
        "#attack \n",
        "attack_scored_goals = (df_new.groupby(['SEASON', 'HOMETEAM'])['FTHG'].sum()) / df_new.groupby(['SEASON', 'HOMETEAM']).size()"
      ],
      "execution_count": 37,
      "outputs": []
    },
    {
      "cell_type": "code",
      "metadata": {
        "id": "1_MQ_88YvLY3",
        "outputId": "91d8ee9d-bca8-43d7-d8ac-f4c961016e40",
        "colab": {
          "base_uri": "https://localhost:8080/"
        }
      },
      "source": [
        "attack_scored_goals.shape"
      ],
      "execution_count": 38,
      "outputs": [
        {
          "output_type": "execute_result",
          "data": {
            "text/plain": [
              "(524,)"
            ]
          },
          "metadata": {
            "tags": []
          },
          "execution_count": 38
        }
      ]
    },
    {
      "cell_type": "code",
      "metadata": {
        "id": "_AJ2-ptmsrVz",
        "outputId": "c3dafb23-008a-4898-b68d-58d323408fb8",
        "colab": {
          "base_uri": "https://localhost:8080/"
        }
      },
      "source": [
        "attack_scored_goals.head()"
      ],
      "execution_count": 39,
      "outputs": [
        {
          "output_type": "execute_result",
          "data": {
            "text/plain": [
              "SEASON  HOMETEAM  \n",
              "1994    Albacete      1.736842\n",
              "        Ath Bilbao    2.052632\n",
              "        Ath Madrid    1.684211\n",
              "        Barcelona     2.947368\n",
              "        Celta         1.315789\n",
              "dtype: float64"
            ]
          },
          "metadata": {
            "tags": []
          },
          "execution_count": 39
        }
      ]
    },
    {
      "cell_type": "code",
      "metadata": {
        "id": "TEl0QBTEueCx"
      },
      "source": [
        "#creating new dataset for Attack\n",
        "attack = pd.DataFrame()"
      ],
      "execution_count": 40,
      "outputs": []
    },
    {
      "cell_type": "code",
      "metadata": {
        "id": "zXSghXZewj40"
      },
      "source": [
        "attack['league average'] = ave_scored_goals"
      ],
      "execution_count": 42,
      "outputs": []
    },
    {
      "cell_type": "code",
      "metadata": {
        "id": "vewO7HvFw7Hg"
      },
      "source": [
        "attack['attack scored goals'] = attack_scored_goals"
      ],
      "execution_count": 43,
      "outputs": []
    },
    {
      "cell_type": "code",
      "metadata": {
        "id": "Ms3I-zYLxH_d",
        "outputId": "34c423f9-fd53-44f9-f05c-eaa2d29ff629",
        "colab": {
          "base_uri": "https://localhost:8080/",
          "height": 235
        }
      },
      "source": [
        "attack.head()"
      ],
      "execution_count": 44,
      "outputs": [
        {
          "output_type": "execute_result",
          "data": {
            "text/html": [
              "<div>\n",
              "<style scoped>\n",
              "    .dataframe tbody tr th:only-of-type {\n",
              "        vertical-align: middle;\n",
              "    }\n",
              "\n",
              "    .dataframe tbody tr th {\n",
              "        vertical-align: top;\n",
              "    }\n",
              "\n",
              "    .dataframe thead th {\n",
              "        text-align: right;\n",
              "    }\n",
              "</style>\n",
              "<table border=\"1\" class=\"dataframe\">\n",
              "  <thead>\n",
              "    <tr style=\"text-align: right;\">\n",
              "      <th></th>\n",
              "      <th></th>\n",
              "      <th>league average</th>\n",
              "      <th>attack scored goals</th>\n",
              "    </tr>\n",
              "    <tr>\n",
              "      <th>SEASON</th>\n",
              "      <th>HOMETEAM</th>\n",
              "      <th></th>\n",
              "      <th></th>\n",
              "    </tr>\n",
              "  </thead>\n",
              "  <tbody>\n",
              "    <tr>\n",
              "      <th rowspan=\"5\" valign=\"top\">1994</th>\n",
              "      <th>Albacete</th>\n",
              "      <td>0.152632</td>\n",
              "      <td>1.736842</td>\n",
              "    </tr>\n",
              "    <tr>\n",
              "      <th>Ath Bilbao</th>\n",
              "      <td>0.144737</td>\n",
              "      <td>2.052632</td>\n",
              "    </tr>\n",
              "    <tr>\n",
              "      <th>Ath Madrid</th>\n",
              "      <td>0.139474</td>\n",
              "      <td>1.684211</td>\n",
              "    </tr>\n",
              "    <tr>\n",
              "      <th>Barcelona</th>\n",
              "      <td>0.192105</td>\n",
              "      <td>2.947368</td>\n",
              "    </tr>\n",
              "    <tr>\n",
              "      <th>Celta</th>\n",
              "      <td>0.126316</td>\n",
              "      <td>1.315789</td>\n",
              "    </tr>\n",
              "  </tbody>\n",
              "</table>\n",
              "</div>"
            ],
            "text/plain": [
              "                   league average  attack scored goals\n",
              "SEASON HOMETEAM                                       \n",
              "1994   Albacete          0.152632             1.736842\n",
              "       Ath Bilbao        0.144737             2.052632\n",
              "       Ath Madrid        0.139474             1.684211\n",
              "       Barcelona         0.192105             2.947368\n",
              "       Celta             0.126316             1.315789"
            ]
          },
          "metadata": {
            "tags": []
          },
          "execution_count": 44
        }
      ]
    },
    {
      "cell_type": "code",
      "metadata": {
        "id": "lhnkffSTxMaW"
      },
      "source": [
        "#calculating new variable Attack rating\n",
        "attack['ATT Rating'] = attack['attack scored goals'] / attack['league average']"
      ],
      "execution_count": 45,
      "outputs": []
    },
    {
      "cell_type": "code",
      "metadata": {
        "id": "5ywYmpA_xwla",
        "outputId": "0f628f2f-9558-422c-9e5b-5871664f4c84",
        "colab": {
          "base_uri": "https://localhost:8080/",
          "height": 235
        }
      },
      "source": [
        "attack.head()"
      ],
      "execution_count": 46,
      "outputs": [
        {
          "output_type": "execute_result",
          "data": {
            "text/html": [
              "<div>\n",
              "<style scoped>\n",
              "    .dataframe tbody tr th:only-of-type {\n",
              "        vertical-align: middle;\n",
              "    }\n",
              "\n",
              "    .dataframe tbody tr th {\n",
              "        vertical-align: top;\n",
              "    }\n",
              "\n",
              "    .dataframe thead th {\n",
              "        text-align: right;\n",
              "    }\n",
              "</style>\n",
              "<table border=\"1\" class=\"dataframe\">\n",
              "  <thead>\n",
              "    <tr style=\"text-align: right;\">\n",
              "      <th></th>\n",
              "      <th></th>\n",
              "      <th>league average</th>\n",
              "      <th>attack scored goals</th>\n",
              "      <th>ATT Rating</th>\n",
              "    </tr>\n",
              "    <tr>\n",
              "      <th>SEASON</th>\n",
              "      <th>HOMETEAM</th>\n",
              "      <th></th>\n",
              "      <th></th>\n",
              "      <th></th>\n",
              "    </tr>\n",
              "  </thead>\n",
              "  <tbody>\n",
              "    <tr>\n",
              "      <th rowspan=\"5\" valign=\"top\">1994</th>\n",
              "      <th>Albacete</th>\n",
              "      <td>0.152632</td>\n",
              "      <td>1.736842</td>\n",
              "      <td>11.379310</td>\n",
              "    </tr>\n",
              "    <tr>\n",
              "      <th>Ath Bilbao</th>\n",
              "      <td>0.144737</td>\n",
              "      <td>2.052632</td>\n",
              "      <td>14.181818</td>\n",
              "    </tr>\n",
              "    <tr>\n",
              "      <th>Ath Madrid</th>\n",
              "      <td>0.139474</td>\n",
              "      <td>1.684211</td>\n",
              "      <td>12.075472</td>\n",
              "    </tr>\n",
              "    <tr>\n",
              "      <th>Barcelona</th>\n",
              "      <td>0.192105</td>\n",
              "      <td>2.947368</td>\n",
              "      <td>15.342466</td>\n",
              "    </tr>\n",
              "    <tr>\n",
              "      <th>Celta</th>\n",
              "      <td>0.126316</td>\n",
              "      <td>1.315789</td>\n",
              "      <td>10.416667</td>\n",
              "    </tr>\n",
              "  </tbody>\n",
              "</table>\n",
              "</div>"
            ],
            "text/plain": [
              "                   league average  attack scored goals  ATT Rating\n",
              "SEASON HOMETEAM                                                   \n",
              "1994   Albacete          0.152632             1.736842   11.379310\n",
              "       Ath Bilbao        0.144737             2.052632   14.181818\n",
              "       Ath Madrid        0.139474             1.684211   12.075472\n",
              "       Barcelona         0.192105             2.947368   15.342466\n",
              "       Celta             0.126316             1.315789   10.416667"
            ]
          },
          "metadata": {
            "tags": []
          },
          "execution_count": 46
        }
      ]
    },
    {
      "cell_type": "code",
      "metadata": {
        "id": "iVZ-dTepyy0_"
      },
      "source": [
        "#top 5 attack per season\n",
        "top_5_attack = attack.sort_values([\"SEASON\", 'ATT Rating','HOMETEAM'],ascending=False).groupby(['SEASON']).head(5)"
      ],
      "execution_count": 47,
      "outputs": []
    },
    {
      "cell_type": "code",
      "metadata": {
        "id": "UO3D-Mj87E3q",
        "outputId": "0530fc15-4bb7-40e3-f914-7db63d2d8f79",
        "colab": {
          "base_uri": "https://localhost:8080/",
          "height": 390
        }
      },
      "source": [
        "top_5_attack.head(10)"
      ],
      "execution_count": 48,
      "outputs": [
        {
          "output_type": "execute_result",
          "data": {
            "text/html": [
              "<div>\n",
              "<style scoped>\n",
              "    .dataframe tbody tr th:only-of-type {\n",
              "        vertical-align: middle;\n",
              "    }\n",
              "\n",
              "    .dataframe tbody tr th {\n",
              "        vertical-align: top;\n",
              "    }\n",
              "\n",
              "    .dataframe thead th {\n",
              "        text-align: right;\n",
              "    }\n",
              "</style>\n",
              "<table border=\"1\" class=\"dataframe\">\n",
              "  <thead>\n",
              "    <tr style=\"text-align: right;\">\n",
              "      <th></th>\n",
              "      <th></th>\n",
              "      <th>league average</th>\n",
              "      <th>attack scored goals</th>\n",
              "      <th>ATT Rating</th>\n",
              "    </tr>\n",
              "    <tr>\n",
              "      <th>SEASON</th>\n",
              "      <th>HOMETEAM</th>\n",
              "      <th></th>\n",
              "      <th></th>\n",
              "      <th></th>\n",
              "    </tr>\n",
              "  </thead>\n",
              "  <tbody>\n",
              "    <tr>\n",
              "      <th rowspan=\"5\" valign=\"top\">2019</th>\n",
              "      <th>Ath Madrid</th>\n",
              "      <td>0.110526</td>\n",
              "      <td>1.684211</td>\n",
              "      <td>15.238095</td>\n",
              "    </tr>\n",
              "    <tr>\n",
              "      <th>Barcelona</th>\n",
              "      <td>0.178947</td>\n",
              "      <td>2.684211</td>\n",
              "      <td>15.000000</td>\n",
              "    </tr>\n",
              "    <tr>\n",
              "      <th>Getafe</th>\n",
              "      <td>0.107895</td>\n",
              "      <td>1.473684</td>\n",
              "      <td>13.658537</td>\n",
              "    </tr>\n",
              "    <tr>\n",
              "      <th>Real Madrid</th>\n",
              "      <td>0.123684</td>\n",
              "      <td>1.684211</td>\n",
              "      <td>13.617021</td>\n",
              "    </tr>\n",
              "    <tr>\n",
              "      <th>Valencia</th>\n",
              "      <td>0.094737</td>\n",
              "      <td>1.263158</td>\n",
              "      <td>13.333333</td>\n",
              "    </tr>\n",
              "    <tr>\n",
              "      <th rowspan=\"5\" valign=\"top\">2018</th>\n",
              "      <th>Barcelona</th>\n",
              "      <td>0.168421</td>\n",
              "      <td>2.789474</td>\n",
              "      <td>16.562500</td>\n",
              "    </tr>\n",
              "    <tr>\n",
              "      <th>Ath Madrid</th>\n",
              "      <td>0.100000</td>\n",
              "      <td>1.578947</td>\n",
              "      <td>15.789474</td>\n",
              "    </tr>\n",
              "    <tr>\n",
              "      <th>Real Madrid</th>\n",
              "      <td>0.194737</td>\n",
              "      <td>2.842105</td>\n",
              "      <td>14.594595</td>\n",
              "    </tr>\n",
              "    <tr>\n",
              "      <th>Valencia</th>\n",
              "      <td>0.136842</td>\n",
              "      <td>1.894737</td>\n",
              "      <td>13.846154</td>\n",
              "    </tr>\n",
              "    <tr>\n",
              "      <th>Getafe</th>\n",
              "      <td>0.102632</td>\n",
              "      <td>1.368421</td>\n",
              "      <td>13.333333</td>\n",
              "    </tr>\n",
              "  </tbody>\n",
              "</table>\n",
              "</div>"
            ],
            "text/plain": [
              "                    league average  attack scored goals  ATT Rating\n",
              "SEASON HOMETEAM                                                    \n",
              "2019   Ath Madrid         0.110526             1.684211   15.238095\n",
              "       Barcelona          0.178947             2.684211   15.000000\n",
              "       Getafe             0.107895             1.473684   13.658537\n",
              "       Real Madrid        0.123684             1.684211   13.617021\n",
              "       Valencia           0.094737             1.263158   13.333333\n",
              "2018   Barcelona          0.168421             2.789474   16.562500\n",
              "       Ath Madrid         0.100000             1.578947   15.789474\n",
              "       Real Madrid        0.194737             2.842105   14.594595\n",
              "       Valencia           0.136842             1.894737   13.846154\n",
              "       Getafe             0.102632             1.368421   13.333333"
            ]
          },
          "metadata": {
            "tags": []
          },
          "execution_count": 48
        }
      ]
    },
    {
      "cell_type": "markdown",
      "metadata": {
        "id": "t5xi_utiJ6Hm"
      },
      "source": [
        "Defence"
      ]
    },
    {
      "cell_type": "code",
      "metadata": {
        "id": "82Eih2QcKWVD",
        "outputId": "e84d97b0-9dd9-4078-d5eb-f957cc872bd7",
        "colab": {
          "base_uri": "https://localhost:8080/",
          "height": 204
        }
      },
      "source": [
        "df_new.head()"
      ],
      "execution_count": 50,
      "outputs": [
        {
          "output_type": "execute_result",
          "data": {
            "text/html": [
              "<div>\n",
              "<style scoped>\n",
              "    .dataframe tbody tr th:only-of-type {\n",
              "        vertical-align: middle;\n",
              "    }\n",
              "\n",
              "    .dataframe tbody tr th {\n",
              "        vertical-align: top;\n",
              "    }\n",
              "\n",
              "    .dataframe thead th {\n",
              "        text-align: right;\n",
              "    }\n",
              "</style>\n",
              "<table border=\"1\" class=\"dataframe\">\n",
              "  <thead>\n",
              "    <tr style=\"text-align: right;\">\n",
              "      <th></th>\n",
              "      <th>SEASON</th>\n",
              "      <th>COUNTRY</th>\n",
              "      <th>LEAGUE</th>\n",
              "      <th>DATE</th>\n",
              "      <th>HOMETEAM</th>\n",
              "      <th>AWAYTEAM</th>\n",
              "      <th>FTSC</th>\n",
              "      <th>FTR</th>\n",
              "      <th>FTHG</th>\n",
              "      <th>FTAG</th>\n",
              "      <th>FTTG</th>\n",
              "    </tr>\n",
              "  </thead>\n",
              "  <tbody>\n",
              "    <tr>\n",
              "      <th>0</th>\n",
              "      <td>1994</td>\n",
              "      <td>Spain</td>\n",
              "      <td>La Liga Primera Division</td>\n",
              "      <td>1993-09-05</td>\n",
              "      <td>Ath Bilbao</td>\n",
              "      <td>Albacete</td>\n",
              "      <td>4-1</td>\n",
              "      <td>H</td>\n",
              "      <td>4.0</td>\n",
              "      <td>1.0</td>\n",
              "      <td>5.0</td>\n",
              "    </tr>\n",
              "    <tr>\n",
              "      <th>1</th>\n",
              "      <td>1994</td>\n",
              "      <td>Spain</td>\n",
              "      <td>La Liga Primera Division</td>\n",
              "      <td>1993-09-05</td>\n",
              "      <td>Ath Madrid</td>\n",
              "      <td>Logrones</td>\n",
              "      <td>1-0</td>\n",
              "      <td>H</td>\n",
              "      <td>1.0</td>\n",
              "      <td>0.0</td>\n",
              "      <td>1.0</td>\n",
              "    </tr>\n",
              "    <tr>\n",
              "      <th>2</th>\n",
              "      <td>1994</td>\n",
              "      <td>Spain</td>\n",
              "      <td>La Liga Primera Division</td>\n",
              "      <td>1993-09-05</td>\n",
              "      <td>Barcelona</td>\n",
              "      <td>Sociedad</td>\n",
              "      <td>3-0</td>\n",
              "      <td>H</td>\n",
              "      <td>3.0</td>\n",
              "      <td>0.0</td>\n",
              "      <td>3.0</td>\n",
              "    </tr>\n",
              "    <tr>\n",
              "      <th>3</th>\n",
              "      <td>1994</td>\n",
              "      <td>Spain</td>\n",
              "      <td>La Liga Primera Division</td>\n",
              "      <td>1993-09-05</td>\n",
              "      <td>La Coruna</td>\n",
              "      <td>Celta</td>\n",
              "      <td>0-0</td>\n",
              "      <td>D</td>\n",
              "      <td>0.0</td>\n",
              "      <td>0.0</td>\n",
              "      <td>0.0</td>\n",
              "    </tr>\n",
              "    <tr>\n",
              "      <th>4</th>\n",
              "      <td>1994</td>\n",
              "      <td>Spain</td>\n",
              "      <td>La Liga Primera Division</td>\n",
              "      <td>1993-09-05</td>\n",
              "      <td>Osasuna</td>\n",
              "      <td>Real Madrid</td>\n",
              "      <td>1-4</td>\n",
              "      <td>A</td>\n",
              "      <td>1.0</td>\n",
              "      <td>4.0</td>\n",
              "      <td>5.0</td>\n",
              "    </tr>\n",
              "  </tbody>\n",
              "</table>\n",
              "</div>"
            ],
            "text/plain": [
              "   SEASON COUNTRY                    LEAGUE        DATE  ... FTR FTHG FTAG FTTG\n",
              "0    1994   Spain  La Liga Primera Division  1993-09-05  ...   H  4.0  1.0  5.0\n",
              "1    1994   Spain  La Liga Primera Division  1993-09-05  ...   H  1.0  0.0  1.0\n",
              "2    1994   Spain  La Liga Primera Division  1993-09-05  ...   H  3.0  0.0  3.0\n",
              "3    1994   Spain  La Liga Primera Division  1993-09-05  ...   D  0.0  0.0  0.0\n",
              "4    1994   Spain  La Liga Primera Division  1993-09-05  ...   A  1.0  4.0  5.0\n",
              "\n",
              "[5 rows x 11 columns]"
            ]
          },
          "metadata": {
            "tags": []
          },
          "execution_count": 50
        }
      ]
    },
    {
      "cell_type": "code",
      "metadata": {
        "id": "u4p0KwUMKLVk"
      },
      "source": [
        "#defence \n",
        "defence_scored_goals = (df_new.groupby(['SEASON', 'HOMETEAM'])['FTAG'].sum()) / df_new.groupby(['SEASON', 'HOMETEAM']).size()"
      ],
      "execution_count": 51,
      "outputs": []
    },
    {
      "cell_type": "code",
      "metadata": {
        "id": "GrYbuR-HKn11",
        "outputId": "a1e88832-ee34-44b6-8412-0d9541daa8d9",
        "colab": {
          "base_uri": "https://localhost:8080/"
        }
      },
      "source": [
        "defence_scored_goals.head()"
      ],
      "execution_count": 52,
      "outputs": [
        {
          "output_type": "execute_result",
          "data": {
            "text/plain": [
              "SEASON  HOMETEAM  \n",
              "1994    Albacete      1.315789\n",
              "        Ath Bilbao    0.842105\n",
              "        Ath Madrid    1.105263\n",
              "        Barcelona     0.894737\n",
              "        Celta         1.210526\n",
              "dtype: float64"
            ]
          },
          "metadata": {
            "tags": []
          },
          "execution_count": 52
        }
      ]
    },
    {
      "cell_type": "code",
      "metadata": {
        "id": "2ranq5-FK9Yd"
      },
      "source": [
        "#creating new dataset for defence\n",
        "defence = pd.DataFrame()"
      ],
      "execution_count": 53,
      "outputs": []
    },
    {
      "cell_type": "code",
      "metadata": {
        "id": "ovSAKz6zK9Yo"
      },
      "source": [
        "defence['league average'] = ave_scored_goals"
      ],
      "execution_count": 54,
      "outputs": []
    },
    {
      "cell_type": "code",
      "metadata": {
        "id": "1ZQcjM_qK9Yt"
      },
      "source": [
        "defence['defence scored goals'] = defence_scored_goals"
      ],
      "execution_count": 55,
      "outputs": []
    },
    {
      "cell_type": "code",
      "metadata": {
        "id": "52d62MunK9Yx",
        "outputId": "73b1f482-a545-434e-fef1-e75618d89e99",
        "colab": {
          "base_uri": "https://localhost:8080/",
          "height": 235
        }
      },
      "source": [
        "defence.head()"
      ],
      "execution_count": 56,
      "outputs": [
        {
          "output_type": "execute_result",
          "data": {
            "text/html": [
              "<div>\n",
              "<style scoped>\n",
              "    .dataframe tbody tr th:only-of-type {\n",
              "        vertical-align: middle;\n",
              "    }\n",
              "\n",
              "    .dataframe tbody tr th {\n",
              "        vertical-align: top;\n",
              "    }\n",
              "\n",
              "    .dataframe thead th {\n",
              "        text-align: right;\n",
              "    }\n",
              "</style>\n",
              "<table border=\"1\" class=\"dataframe\">\n",
              "  <thead>\n",
              "    <tr style=\"text-align: right;\">\n",
              "      <th></th>\n",
              "      <th></th>\n",
              "      <th>league average</th>\n",
              "      <th>defence scored goals</th>\n",
              "    </tr>\n",
              "    <tr>\n",
              "      <th>SEASON</th>\n",
              "      <th>HOMETEAM</th>\n",
              "      <th></th>\n",
              "      <th></th>\n",
              "    </tr>\n",
              "  </thead>\n",
              "  <tbody>\n",
              "    <tr>\n",
              "      <th rowspan=\"5\" valign=\"top\">1994</th>\n",
              "      <th>Albacete</th>\n",
              "      <td>0.152632</td>\n",
              "      <td>1.315789</td>\n",
              "    </tr>\n",
              "    <tr>\n",
              "      <th>Ath Bilbao</th>\n",
              "      <td>0.144737</td>\n",
              "      <td>0.842105</td>\n",
              "    </tr>\n",
              "    <tr>\n",
              "      <th>Ath Madrid</th>\n",
              "      <td>0.139474</td>\n",
              "      <td>1.105263</td>\n",
              "    </tr>\n",
              "    <tr>\n",
              "      <th>Barcelona</th>\n",
              "      <td>0.192105</td>\n",
              "      <td>0.894737</td>\n",
              "    </tr>\n",
              "    <tr>\n",
              "      <th>Celta</th>\n",
              "      <td>0.126316</td>\n",
              "      <td>1.210526</td>\n",
              "    </tr>\n",
              "  </tbody>\n",
              "</table>\n",
              "</div>"
            ],
            "text/plain": [
              "                   league average  defence scored goals\n",
              "SEASON HOMETEAM                                        \n",
              "1994   Albacete          0.152632              1.315789\n",
              "       Ath Bilbao        0.144737              0.842105\n",
              "       Ath Madrid        0.139474              1.105263\n",
              "       Barcelona         0.192105              0.894737\n",
              "       Celta             0.126316              1.210526"
            ]
          },
          "metadata": {
            "tags": []
          },
          "execution_count": 56
        }
      ]
    },
    {
      "cell_type": "code",
      "metadata": {
        "id": "jMY73cCnK9Y2"
      },
      "source": [
        "#calculating new variable Defence rating\n",
        "defence['Defence Rating'] = defence['defence scored goals'] / defence['league average']"
      ],
      "execution_count": 59,
      "outputs": []
    },
    {
      "cell_type": "code",
      "metadata": {
        "id": "_0f0060uK9Y8",
        "outputId": "b92be494-2384-448c-a635-25dd9bac55c4",
        "colab": {
          "base_uri": "https://localhost:8080/",
          "height": 235
        }
      },
      "source": [
        "defence.head()"
      ],
      "execution_count": 62,
      "outputs": [
        {
          "output_type": "execute_result",
          "data": {
            "text/html": [
              "<div>\n",
              "<style scoped>\n",
              "    .dataframe tbody tr th:only-of-type {\n",
              "        vertical-align: middle;\n",
              "    }\n",
              "\n",
              "    .dataframe tbody tr th {\n",
              "        vertical-align: top;\n",
              "    }\n",
              "\n",
              "    .dataframe thead th {\n",
              "        text-align: right;\n",
              "    }\n",
              "</style>\n",
              "<table border=\"1\" class=\"dataframe\">\n",
              "  <thead>\n",
              "    <tr style=\"text-align: right;\">\n",
              "      <th></th>\n",
              "      <th></th>\n",
              "      <th>league average</th>\n",
              "      <th>defence scored goals</th>\n",
              "      <th>Defence Rating</th>\n",
              "    </tr>\n",
              "    <tr>\n",
              "      <th>SEASON</th>\n",
              "      <th>HOMETEAM</th>\n",
              "      <th></th>\n",
              "      <th></th>\n",
              "      <th></th>\n",
              "    </tr>\n",
              "  </thead>\n",
              "  <tbody>\n",
              "    <tr>\n",
              "      <th rowspan=\"5\" valign=\"top\">1994</th>\n",
              "      <th>Albacete</th>\n",
              "      <td>0.152632</td>\n",
              "      <td>1.315789</td>\n",
              "      <td>8.620690</td>\n",
              "    </tr>\n",
              "    <tr>\n",
              "      <th>Ath Bilbao</th>\n",
              "      <td>0.144737</td>\n",
              "      <td>0.842105</td>\n",
              "      <td>5.818182</td>\n",
              "    </tr>\n",
              "    <tr>\n",
              "      <th>Ath Madrid</th>\n",
              "      <td>0.139474</td>\n",
              "      <td>1.105263</td>\n",
              "      <td>7.924528</td>\n",
              "    </tr>\n",
              "    <tr>\n",
              "      <th>Barcelona</th>\n",
              "      <td>0.192105</td>\n",
              "      <td>0.894737</td>\n",
              "      <td>4.657534</td>\n",
              "    </tr>\n",
              "    <tr>\n",
              "      <th>Celta</th>\n",
              "      <td>0.126316</td>\n",
              "      <td>1.210526</td>\n",
              "      <td>9.583333</td>\n",
              "    </tr>\n",
              "  </tbody>\n",
              "</table>\n",
              "</div>"
            ],
            "text/plain": [
              "                   league average  defence scored goals  Defence Rating\n",
              "SEASON HOMETEAM                                                        \n",
              "1994   Albacete          0.152632              1.315789        8.620690\n",
              "       Ath Bilbao        0.144737              0.842105        5.818182\n",
              "       Ath Madrid        0.139474              1.105263        7.924528\n",
              "       Barcelona         0.192105              0.894737        4.657534\n",
              "       Celta             0.126316              1.210526        9.583333"
            ]
          },
          "metadata": {
            "tags": []
          },
          "execution_count": 62
        }
      ]
    },
    {
      "cell_type": "code",
      "metadata": {
        "id": "wl8zqdX1K9ZA"
      },
      "source": [
        "#top 5 defence per season\n",
        "top_5_defence = defence.sort_values([\"SEASON\", 'Defence Rating','HOMETEAM'], ascending=False).groupby(['SEASON']).head(5)"
      ],
      "execution_count": 63,
      "outputs": []
    },
    {
      "cell_type": "code",
      "metadata": {
        "id": "SBRpVYH2K9ZE",
        "outputId": "76bee2ed-cddb-4c96-de62-b9532bc0e9f9",
        "colab": {
          "base_uri": "https://localhost:8080/",
          "height": 390
        }
      },
      "source": [
        "top_5_attack.head(10)"
      ],
      "execution_count": 65,
      "outputs": [
        {
          "output_type": "execute_result",
          "data": {
            "text/html": [
              "<div>\n",
              "<style scoped>\n",
              "    .dataframe tbody tr th:only-of-type {\n",
              "        vertical-align: middle;\n",
              "    }\n",
              "\n",
              "    .dataframe tbody tr th {\n",
              "        vertical-align: top;\n",
              "    }\n",
              "\n",
              "    .dataframe thead th {\n",
              "        text-align: right;\n",
              "    }\n",
              "</style>\n",
              "<table border=\"1\" class=\"dataframe\">\n",
              "  <thead>\n",
              "    <tr style=\"text-align: right;\">\n",
              "      <th></th>\n",
              "      <th></th>\n",
              "      <th>league average</th>\n",
              "      <th>attack scored goals</th>\n",
              "      <th>ATT Rating</th>\n",
              "    </tr>\n",
              "    <tr>\n",
              "      <th>SEASON</th>\n",
              "      <th>HOMETEAM</th>\n",
              "      <th></th>\n",
              "      <th></th>\n",
              "      <th></th>\n",
              "    </tr>\n",
              "  </thead>\n",
              "  <tbody>\n",
              "    <tr>\n",
              "      <th rowspan=\"5\" valign=\"top\">2019</th>\n",
              "      <th>Ath Madrid</th>\n",
              "      <td>0.110526</td>\n",
              "      <td>1.684211</td>\n",
              "      <td>15.238095</td>\n",
              "    </tr>\n",
              "    <tr>\n",
              "      <th>Barcelona</th>\n",
              "      <td>0.178947</td>\n",
              "      <td>2.684211</td>\n",
              "      <td>15.000000</td>\n",
              "    </tr>\n",
              "    <tr>\n",
              "      <th>Getafe</th>\n",
              "      <td>0.107895</td>\n",
              "      <td>1.473684</td>\n",
              "      <td>13.658537</td>\n",
              "    </tr>\n",
              "    <tr>\n",
              "      <th>Real Madrid</th>\n",
              "      <td>0.123684</td>\n",
              "      <td>1.684211</td>\n",
              "      <td>13.617021</td>\n",
              "    </tr>\n",
              "    <tr>\n",
              "      <th>Valencia</th>\n",
              "      <td>0.094737</td>\n",
              "      <td>1.263158</td>\n",
              "      <td>13.333333</td>\n",
              "    </tr>\n",
              "    <tr>\n",
              "      <th rowspan=\"5\" valign=\"top\">2018</th>\n",
              "      <th>Barcelona</th>\n",
              "      <td>0.168421</td>\n",
              "      <td>2.789474</td>\n",
              "      <td>16.562500</td>\n",
              "    </tr>\n",
              "    <tr>\n",
              "      <th>Ath Madrid</th>\n",
              "      <td>0.100000</td>\n",
              "      <td>1.578947</td>\n",
              "      <td>15.789474</td>\n",
              "    </tr>\n",
              "    <tr>\n",
              "      <th>Real Madrid</th>\n",
              "      <td>0.194737</td>\n",
              "      <td>2.842105</td>\n",
              "      <td>14.594595</td>\n",
              "    </tr>\n",
              "    <tr>\n",
              "      <th>Valencia</th>\n",
              "      <td>0.136842</td>\n",
              "      <td>1.894737</td>\n",
              "      <td>13.846154</td>\n",
              "    </tr>\n",
              "    <tr>\n",
              "      <th>Getafe</th>\n",
              "      <td>0.102632</td>\n",
              "      <td>1.368421</td>\n",
              "      <td>13.333333</td>\n",
              "    </tr>\n",
              "  </tbody>\n",
              "</table>\n",
              "</div>"
            ],
            "text/plain": [
              "                    league average  attack scored goals  ATT Rating\n",
              "SEASON HOMETEAM                                                    \n",
              "2019   Ath Madrid         0.110526             1.684211   15.238095\n",
              "       Barcelona          0.178947             2.684211   15.000000\n",
              "       Getafe             0.107895             1.473684   13.658537\n",
              "       Real Madrid        0.123684             1.684211   13.617021\n",
              "       Valencia           0.094737             1.263158   13.333333\n",
              "2018   Barcelona          0.168421             2.789474   16.562500\n",
              "       Ath Madrid         0.100000             1.578947   15.789474\n",
              "       Real Madrid        0.194737             2.842105   14.594595\n",
              "       Valencia           0.136842             1.894737   13.846154\n",
              "       Getafe             0.102632             1.368421   13.333333"
            ]
          },
          "metadata": {
            "tags": []
          },
          "execution_count": 65
        }
      ]
    },
    {
      "cell_type": "code",
      "metadata": {
        "id": "F0bF2wiAMInA"
      },
      "source": [
        ""
      ],
      "execution_count": null,
      "outputs": []
    }
  ]
}