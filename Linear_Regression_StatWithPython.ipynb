{
  "nbformat": 4,
  "nbformat_minor": 0,
  "metadata": {
    "colab": {
      "name": "Linear Regression_StatWithPython.ipynb",
      "provenance": [],
      "collapsed_sections": [
        "esmSmImICNMu"
      ],
      "authorship_tag": "ABX9TyM77aIUVVd7y1tC4Nhd5iNl",
      "include_colab_link": true
    },
    "kernelspec": {
      "name": "python3",
      "display_name": "Python 3"
    }
  },
  "cells": [
    {
      "cell_type": "markdown",
      "metadata": {
        "id": "view-in-github",
        "colab_type": "text"
      },
      "source": [
        "<a href=\"https://colab.research.google.com/github/vard-uhi/tasks/blob/main/Linear_Regression_StatWithPython.ipynb\" target=\"_parent\"><img src=\"https://colab.research.google.com/assets/colab-badge.svg\" alt=\"Open In Colab\"/></a>"
      ]
    },
    {
      "cell_type": "markdown",
      "metadata": {
        "id": "HjE7vUKk08y8"
      },
      "source": [
        "# Practice notebook for regression analysis with NHANES\n",
        "\n",
        "This notebook will give you the opportunity to perform some\n",
        "regression analyses with the NHANES data that are similar to\n",
        "the analyses done in the week 2 case study notebook.\n",
        "\n",
        "You can enter your code into the cells that say \"enter your code here\",\n",
        "and you can type responses to the questions into the cells that say \"Type Markdown and Latex\".\n",
        "\n",
        "Note that most of the code that you will need to write below is very similar\n",
        "to code that appears in the case study notebook.  You will need\n",
        "to edit code from that notebook in small ways to adapt it to the\n",
        "prompts below.\n",
        "\n",
        "To get started, we will use the same module imports and\n",
        "read the data in the same way as we did in the case study:"
      ]
    },
    {
      "cell_type": "code",
      "metadata": {
        "id": "_tk9iTNz0zHB",
        "outputId": "2bea1988-2e27-4fe9-d698-9c1409d60037",
        "colab": {
          "base_uri": "https://localhost:8080/"
        }
      },
      "source": [
        "%matplotlib inline\n",
        "import matplotlib.pyplot as plt\n",
        "import seaborn as sns\n",
        "import pandas as pd\n",
        "import statsmodels.api as sm\n",
        "import numpy as np"
      ],
      "execution_count": 1,
      "outputs": [
        {
          "output_type": "stream",
          "text": [
            "/usr/local/lib/python3.6/dist-packages/statsmodels/tools/_testing.py:19: FutureWarning: pandas.util.testing is deprecated. Use the functions in the public API at pandas.testing instead.\n",
            "  import pandas.util.testing as tm\n"
          ],
          "name": "stderr"
        }
      ]
    },
    {
      "cell_type": "code",
      "metadata": {
        "id": "vY1jQ5d61E2d",
        "outputId": "e237356f-7f30-4ea7-e84a-69048da771ed",
        "colab": {
          "resources": {
            "http://localhost:8080/nbextensions/google.colab/files.js": {
              "data": "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",
              "ok": true,
              "headers": [
                [
                  "content-type",
                  "application/javascript"
                ]
              ],
              "status": 200,
              "status_text": ""
            }
          },
          "base_uri": "https://localhost:8080/",
          "height": 72
        }
      },
      "source": [
        "#load the data\n",
        "from google.colab import files\n",
        "data_to_load = files.upload()"
      ],
      "execution_count": 2,
      "outputs": [
        {
          "output_type": "display_data",
          "data": {
            "text/html": [
              "\n",
              "     <input type=\"file\" id=\"files-1f184e37-d3e1-4c32-a5a6-14afcfcccb32\" name=\"files[]\" multiple disabled\n",
              "        style=\"border:none\" />\n",
              "     <output id=\"result-1f184e37-d3e1-4c32-a5a6-14afcfcccb32\">\n",
              "      Upload widget is only available when the cell has been executed in the\n",
              "      current browser session. Please rerun this cell to enable.\n",
              "      </output>\n",
              "      <script src=\"/nbextensions/google.colab/files.js\"></script> "
            ],
            "text/plain": [
              "<IPython.core.display.HTML object>"
            ]
          },
          "metadata": {
            "tags": []
          }
        },
        {
          "output_type": "stream",
          "text": [
            "Saving nhanes_2015_2016.csv to nhanes_2015_2016.csv\n"
          ],
          "name": "stdout"
        }
      ]
    },
    {
      "cell_type": "code",
      "metadata": {
        "id": "nAVm_iAc1QI_"
      },
      "source": [
        "import io\n",
        "# .read_csv() assigns the information from the initial *.csv file to this variable\n",
        "raw_data = pd.read_csv(io.BytesIO(data_to_load['nhanes_2015_2016.csv']))"
      ],
      "execution_count": 3,
      "outputs": []
    },
    {
      "cell_type": "code",
      "metadata": {
        "id": "T4MClU-V1K7q"
      },
      "source": [
        "#copying Dataframe\n",
        "df = raw_data.copy()"
      ],
      "execution_count": 5,
      "outputs": []
    },
    {
      "cell_type": "code",
      "metadata": {
        "id": "dGVqrvx11aPC",
        "outputId": "9c62427a-86f1-4ff3-d717-7ef1a8fb8530",
        "colab": {
          "base_uri": "https://localhost:8080/",
          "height": 224
        }
      },
      "source": [
        "#looking at 1st few rows\n",
        "df.head()"
      ],
      "execution_count": 7,
      "outputs": [
        {
          "output_type": "execute_result",
          "data": {
            "text/html": [
              "<div>\n",
              "<style scoped>\n",
              "    .dataframe tbody tr th:only-of-type {\n",
              "        vertical-align: middle;\n",
              "    }\n",
              "\n",
              "    .dataframe tbody tr th {\n",
              "        vertical-align: top;\n",
              "    }\n",
              "\n",
              "    .dataframe thead th {\n",
              "        text-align: right;\n",
              "    }\n",
              "</style>\n",
              "<table border=\"1\" class=\"dataframe\">\n",
              "  <thead>\n",
              "    <tr style=\"text-align: right;\">\n",
              "      <th></th>\n",
              "      <th>SEQN</th>\n",
              "      <th>ALQ101</th>\n",
              "      <th>ALQ110</th>\n",
              "      <th>ALQ130</th>\n",
              "      <th>SMQ020</th>\n",
              "      <th>RIAGENDR</th>\n",
              "      <th>RIDAGEYR</th>\n",
              "      <th>RIDRETH1</th>\n",
              "      <th>DMDCITZN</th>\n",
              "      <th>DMDEDUC2</th>\n",
              "      <th>DMDMARTL</th>\n",
              "      <th>DMDHHSIZ</th>\n",
              "      <th>WTINT2YR</th>\n",
              "      <th>SDMVPSU</th>\n",
              "      <th>SDMVSTRA</th>\n",
              "      <th>INDFMPIR</th>\n",
              "      <th>BPXSY1</th>\n",
              "      <th>BPXDI1</th>\n",
              "      <th>BPXSY2</th>\n",
              "      <th>BPXDI2</th>\n",
              "      <th>BMXWT</th>\n",
              "      <th>BMXHT</th>\n",
              "      <th>BMXBMI</th>\n",
              "      <th>BMXLEG</th>\n",
              "      <th>BMXARML</th>\n",
              "      <th>BMXARMC</th>\n",
              "      <th>BMXWAIST</th>\n",
              "      <th>HIQ210</th>\n",
              "    </tr>\n",
              "  </thead>\n",
              "  <tbody>\n",
              "    <tr>\n",
              "      <th>0</th>\n",
              "      <td>83732</td>\n",
              "      <td>1.0</td>\n",
              "      <td>NaN</td>\n",
              "      <td>1.0</td>\n",
              "      <td>1</td>\n",
              "      <td>1</td>\n",
              "      <td>62</td>\n",
              "      <td>3</td>\n",
              "      <td>1.0</td>\n",
              "      <td>5.0</td>\n",
              "      <td>1.0</td>\n",
              "      <td>2</td>\n",
              "      <td>134671.37</td>\n",
              "      <td>1</td>\n",
              "      <td>125</td>\n",
              "      <td>4.39</td>\n",
              "      <td>128.0</td>\n",
              "      <td>70.0</td>\n",
              "      <td>124.0</td>\n",
              "      <td>64.0</td>\n",
              "      <td>94.8</td>\n",
              "      <td>184.5</td>\n",
              "      <td>27.8</td>\n",
              "      <td>43.3</td>\n",
              "      <td>43.6</td>\n",
              "      <td>35.9</td>\n",
              "      <td>101.1</td>\n",
              "      <td>2.0</td>\n",
              "    </tr>\n",
              "    <tr>\n",
              "      <th>1</th>\n",
              "      <td>83733</td>\n",
              "      <td>1.0</td>\n",
              "      <td>NaN</td>\n",
              "      <td>6.0</td>\n",
              "      <td>1</td>\n",
              "      <td>1</td>\n",
              "      <td>53</td>\n",
              "      <td>3</td>\n",
              "      <td>2.0</td>\n",
              "      <td>3.0</td>\n",
              "      <td>3.0</td>\n",
              "      <td>1</td>\n",
              "      <td>24328.56</td>\n",
              "      <td>1</td>\n",
              "      <td>125</td>\n",
              "      <td>1.32</td>\n",
              "      <td>146.0</td>\n",
              "      <td>88.0</td>\n",
              "      <td>140.0</td>\n",
              "      <td>88.0</td>\n",
              "      <td>90.4</td>\n",
              "      <td>171.4</td>\n",
              "      <td>30.8</td>\n",
              "      <td>38.0</td>\n",
              "      <td>40.0</td>\n",
              "      <td>33.2</td>\n",
              "      <td>107.9</td>\n",
              "      <td>NaN</td>\n",
              "    </tr>\n",
              "    <tr>\n",
              "      <th>2</th>\n",
              "      <td>83734</td>\n",
              "      <td>1.0</td>\n",
              "      <td>NaN</td>\n",
              "      <td>NaN</td>\n",
              "      <td>1</td>\n",
              "      <td>1</td>\n",
              "      <td>78</td>\n",
              "      <td>3</td>\n",
              "      <td>1.0</td>\n",
              "      <td>3.0</td>\n",
              "      <td>1.0</td>\n",
              "      <td>2</td>\n",
              "      <td>12400.01</td>\n",
              "      <td>1</td>\n",
              "      <td>131</td>\n",
              "      <td>1.51</td>\n",
              "      <td>138.0</td>\n",
              "      <td>46.0</td>\n",
              "      <td>132.0</td>\n",
              "      <td>44.0</td>\n",
              "      <td>83.4</td>\n",
              "      <td>170.1</td>\n",
              "      <td>28.8</td>\n",
              "      <td>35.6</td>\n",
              "      <td>37.0</td>\n",
              "      <td>31.0</td>\n",
              "      <td>116.5</td>\n",
              "      <td>2.0</td>\n",
              "    </tr>\n",
              "    <tr>\n",
              "      <th>3</th>\n",
              "      <td>83735</td>\n",
              "      <td>2.0</td>\n",
              "      <td>1.0</td>\n",
              "      <td>1.0</td>\n",
              "      <td>2</td>\n",
              "      <td>2</td>\n",
              "      <td>56</td>\n",
              "      <td>3</td>\n",
              "      <td>1.0</td>\n",
              "      <td>5.0</td>\n",
              "      <td>6.0</td>\n",
              "      <td>1</td>\n",
              "      <td>102718.00</td>\n",
              "      <td>1</td>\n",
              "      <td>131</td>\n",
              "      <td>5.00</td>\n",
              "      <td>132.0</td>\n",
              "      <td>72.0</td>\n",
              "      <td>134.0</td>\n",
              "      <td>68.0</td>\n",
              "      <td>109.8</td>\n",
              "      <td>160.9</td>\n",
              "      <td>42.4</td>\n",
              "      <td>38.5</td>\n",
              "      <td>37.7</td>\n",
              "      <td>38.3</td>\n",
              "      <td>110.1</td>\n",
              "      <td>2.0</td>\n",
              "    </tr>\n",
              "    <tr>\n",
              "      <th>4</th>\n",
              "      <td>83736</td>\n",
              "      <td>2.0</td>\n",
              "      <td>1.0</td>\n",
              "      <td>1.0</td>\n",
              "      <td>2</td>\n",
              "      <td>2</td>\n",
              "      <td>42</td>\n",
              "      <td>4</td>\n",
              "      <td>1.0</td>\n",
              "      <td>4.0</td>\n",
              "      <td>3.0</td>\n",
              "      <td>5</td>\n",
              "      <td>17627.67</td>\n",
              "      <td>2</td>\n",
              "      <td>126</td>\n",
              "      <td>1.23</td>\n",
              "      <td>100.0</td>\n",
              "      <td>70.0</td>\n",
              "      <td>114.0</td>\n",
              "      <td>54.0</td>\n",
              "      <td>55.2</td>\n",
              "      <td>164.9</td>\n",
              "      <td>20.3</td>\n",
              "      <td>37.4</td>\n",
              "      <td>36.0</td>\n",
              "      <td>27.2</td>\n",
              "      <td>80.4</td>\n",
              "      <td>2.0</td>\n",
              "    </tr>\n",
              "  </tbody>\n",
              "</table>\n",
              "</div>"
            ],
            "text/plain": [
              "    SEQN  ALQ101  ALQ110  ALQ130  ...  BMXARML  BMXARMC  BMXWAIST  HIQ210\n",
              "0  83732     1.0     NaN     1.0  ...     43.6     35.9     101.1     2.0\n",
              "1  83733     1.0     NaN     6.0  ...     40.0     33.2     107.9     NaN\n",
              "2  83734     1.0     NaN     NaN  ...     37.0     31.0     116.5     2.0\n",
              "3  83735     2.0     1.0     1.0  ...     37.7     38.3     110.1     2.0\n",
              "4  83736     2.0     1.0     1.0  ...     36.0     27.2      80.4     2.0\n",
              "\n",
              "[5 rows x 28 columns]"
            ]
          },
          "metadata": {
            "tags": []
          },
          "execution_count": 7
        }
      ]
    },
    {
      "cell_type": "markdown",
      "metadata": {
        "id": "PFmYzvBj1lfC"
      },
      "source": [
        "## **Question 1:**\n",
        "\n",
        "Use linear regression to relate the expected body mass index (BMI) to a person's age."
      ]
    },
    {
      "cell_type": "markdown",
      "metadata": {
        "id": "GVwZ2GWMSZ2p"
      },
      "source": [
        "Our dependent variable is going to be BMI and independent variable age. For this case we will use statsmodels to run a Linear Regression model."
      ]
    },
    {
      "cell_type": "code",
      "metadata": {
        "id": "2oNZkVUO1btu"
      },
      "source": [
        "#creating Dataframe with BMI and Age variables\n",
        "Q1_df = df[[\"RIDAGEYR\", \"BMXBMI\"]]"
      ],
      "execution_count": 8,
      "outputs": []
    },
    {
      "cell_type": "code",
      "metadata": {
        "id": "ywq66MXNUl9s",
        "outputId": "d42e1e1a-1718-4d3b-b8e6-95b0ce647418",
        "colab": {
          "base_uri": "https://localhost:8080/",
          "height": 204
        }
      },
      "source": [
        "Q1_df.head()"
      ],
      "execution_count": 9,
      "outputs": [
        {
          "output_type": "execute_result",
          "data": {
            "text/html": [
              "<div>\n",
              "<style scoped>\n",
              "    .dataframe tbody tr th:only-of-type {\n",
              "        vertical-align: middle;\n",
              "    }\n",
              "\n",
              "    .dataframe tbody tr th {\n",
              "        vertical-align: top;\n",
              "    }\n",
              "\n",
              "    .dataframe thead th {\n",
              "        text-align: right;\n",
              "    }\n",
              "</style>\n",
              "<table border=\"1\" class=\"dataframe\">\n",
              "  <thead>\n",
              "    <tr style=\"text-align: right;\">\n",
              "      <th></th>\n",
              "      <th>RIDAGEYR</th>\n",
              "      <th>BMXBMI</th>\n",
              "    </tr>\n",
              "  </thead>\n",
              "  <tbody>\n",
              "    <tr>\n",
              "      <th>0</th>\n",
              "      <td>62</td>\n",
              "      <td>27.8</td>\n",
              "    </tr>\n",
              "    <tr>\n",
              "      <th>1</th>\n",
              "      <td>53</td>\n",
              "      <td>30.8</td>\n",
              "    </tr>\n",
              "    <tr>\n",
              "      <th>2</th>\n",
              "      <td>78</td>\n",
              "      <td>28.8</td>\n",
              "    </tr>\n",
              "    <tr>\n",
              "      <th>3</th>\n",
              "      <td>56</td>\n",
              "      <td>42.4</td>\n",
              "    </tr>\n",
              "    <tr>\n",
              "      <th>4</th>\n",
              "      <td>42</td>\n",
              "      <td>20.3</td>\n",
              "    </tr>\n",
              "  </tbody>\n",
              "</table>\n",
              "</div>"
            ],
            "text/plain": [
              "   RIDAGEYR  BMXBMI\n",
              "0        62    27.8\n",
              "1        53    30.8\n",
              "2        78    28.8\n",
              "3        56    42.4\n",
              "4        42    20.3"
            ]
          },
          "metadata": {
            "tags": []
          },
          "execution_count": 9
        }
      ]
    },
    {
      "cell_type": "code",
      "metadata": {
        "id": "EtNzWJPIU6-J",
        "outputId": "15a9baae-5f56-4dcf-8a37-f60fca69b10a",
        "colab": {
          "base_uri": "https://localhost:8080/"
        }
      },
      "source": [
        "Q1_df.info()"
      ],
      "execution_count": 10,
      "outputs": [
        {
          "output_type": "stream",
          "text": [
            "<class 'pandas.core.frame.DataFrame'>\n",
            "RangeIndex: 5735 entries, 0 to 5734\n",
            "Data columns (total 2 columns):\n",
            " #   Column    Non-Null Count  Dtype  \n",
            "---  ------    --------------  -----  \n",
            " 0   RIDAGEYR  5735 non-null   int64  \n",
            " 1   BMXBMI    5662 non-null   float64\n",
            "dtypes: float64(1), int64(1)\n",
            "memory usage: 89.7 KB\n"
          ],
          "name": "stdout"
        }
      ]
    },
    {
      "cell_type": "code",
      "metadata": {
        "id": "eeUoqWwnWz2J",
        "outputId": "e852e9b3-517c-4f61-ea5b-1c043d2edfd3",
        "colab": {
          "base_uri": "https://localhost:8080/"
        }
      },
      "source": [
        "#checking for null values\n",
        "pd.isnull(Q1_df.BMXBMI).sum()"
      ],
      "execution_count": 11,
      "outputs": [
        {
          "output_type": "execute_result",
          "data": {
            "text/plain": [
              "73"
            ]
          },
          "metadata": {
            "tags": []
          },
          "execution_count": 11
        }
      ]
    },
    {
      "cell_type": "code",
      "metadata": {
        "id": "iGHEjIC7dm0V"
      },
      "source": [
        "#dropping null values\n",
        "Q1_df = Q1_df.dropna()"
      ],
      "execution_count": 13,
      "outputs": []
    },
    {
      "cell_type": "code",
      "metadata": {
        "id": "8osH6A5WVTat"
      },
      "source": [
        "#reset index\n",
        "Q1_df.reset_index(inplace = True, drop = True)"
      ],
      "execution_count": 14,
      "outputs": []
    },
    {
      "cell_type": "code",
      "metadata": {
        "id": "8mfA_ue7XK6n",
        "outputId": "99f7482d-198a-4136-c24e-d54dd9336984",
        "colab": {
          "base_uri": "https://localhost:8080/"
        }
      },
      "source": [
        "Q1_df.info()"
      ],
      "execution_count": 15,
      "outputs": [
        {
          "output_type": "stream",
          "text": [
            "<class 'pandas.core.frame.DataFrame'>\n",
            "RangeIndex: 5662 entries, 0 to 5661\n",
            "Data columns (total 2 columns):\n",
            " #   Column    Non-Null Count  Dtype  \n",
            "---  ------    --------------  -----  \n",
            " 0   RIDAGEYR  5662 non-null   int64  \n",
            " 1   BMXBMI    5662 non-null   float64\n",
            "dtypes: float64(1), int64(1)\n",
            "memory usage: 88.6 KB\n"
          ],
          "name": "stdout"
        }
      ]
    },
    {
      "cell_type": "code",
      "metadata": {
        "id": "m1OGTumgoist",
        "outputId": "a2e61fad-7155-4e4c-83e2-d76f4747fe72",
        "colab": {
          "base_uri": "https://localhost:8080/",
          "height": 349
        }
      },
      "source": [
        "# Visualising Distribution of BMI\n",
        "sns.distplot(Q1_df['BMXBMI'], color=\"blue\")\n",
        "plt.title(\"Distribution of BMI\")\n",
        "plt.show()"
      ],
      "execution_count": 16,
      "outputs": [
        {
          "output_type": "stream",
          "text": [
            "/usr/local/lib/python3.6/dist-packages/seaborn/distributions.py:2551: FutureWarning: `distplot` is a deprecated function and will be removed in a future version. Please adapt your code to use either `displot` (a figure-level function with similar flexibility) or `histplot` (an axes-level function for histograms).\n",
            "  warnings.warn(msg, FutureWarning)\n"
          ],
          "name": "stderr"
        },
        {
          "output_type": "display_data",
          "data": {
            "image/png": "[encoded data removed]",
            "text/plain": [
              "<Figure size 432x288 with 1 Axes>"
            ]
          },
          "metadata": {
            "tags": [],
            "needs_background": "light"
          }
        }
      ]
    },
    {
      "cell_type": "markdown",
      "metadata": {
        "id": "DQw47cWleZzR"
      },
      "source": [
        "Our dependent variable BMI has an asymmetric distribution. It has a right skewness, outliers in the right side, which means that mean > median."
      ]
    },
    {
      "cell_type": "code",
      "metadata": {
        "id": "tP_yg-jeenJ7",
        "outputId": "6060c974-f63a-40f6-d355-36696eac6263",
        "colab": {
          "base_uri": "https://localhost:8080/"
        }
      },
      "source": [
        "#checking a value of skewnes, which in the best case should be 0\n",
        "Q1_df['BMXBMI'].skew()"
      ],
      "execution_count": 17,
      "outputs": [
        {
          "output_type": "execute_result",
          "data": {
            "text/plain": [
              "1.1093945130775973"
            ]
          },
          "metadata": {
            "tags": []
          },
          "execution_count": 17
        }
      ]
    },
    {
      "cell_type": "code",
      "metadata": {
        "id": "7RClkpLMndBt",
        "outputId": "5bf13166-2746-4b3f-f8ab-32b30a588f92",
        "colab": {
          "base_uri": "https://localhost:8080/",
          "height": 111
        }
      },
      "source": [
        "#checking correlation between 2 variables, to see if there is linear relationship between 2 variables\n",
        "Q1_df[[\"RIDAGEYR\", \"BMXBMI\"]].corr()"
      ],
      "execution_count": 18,
      "outputs": [
        {
          "output_type": "execute_result",
          "data": {
            "text/html": [
              "<div>\n",
              "<style scoped>\n",
              "    .dataframe tbody tr th:only-of-type {\n",
              "        vertical-align: middle;\n",
              "    }\n",
              "\n",
              "    .dataframe tbody tr th {\n",
              "        vertical-align: top;\n",
              "    }\n",
              "\n",
              "    .dataframe thead th {\n",
              "        text-align: right;\n",
              "    }\n",
              "</style>\n",
              "<table border=\"1\" class=\"dataframe\">\n",
              "  <thead>\n",
              "    <tr style=\"text-align: right;\">\n",
              "      <th></th>\n",
              "      <th>RIDAGEYR</th>\n",
              "      <th>BMXBMI</th>\n",
              "    </tr>\n",
              "  </thead>\n",
              "  <tbody>\n",
              "    <tr>\n",
              "      <th>RIDAGEYR</th>\n",
              "      <td>1.000000</td>\n",
              "      <td>0.059597</td>\n",
              "    </tr>\n",
              "    <tr>\n",
              "      <th>BMXBMI</th>\n",
              "      <td>0.059597</td>\n",
              "      <td>1.000000</td>\n",
              "    </tr>\n",
              "  </tbody>\n",
              "</table>\n",
              "</div>"
            ],
            "text/plain": [
              "          RIDAGEYR    BMXBMI\n",
              "RIDAGEYR  1.000000  0.059597\n",
              "BMXBMI    0.059597  1.000000"
            ]
          },
          "metadata": {
            "tags": []
          },
          "execution_count": 18
        }
      ]
    },
    {
      "cell_type": "code",
      "metadata": {
        "id": "xK30b3judJ9k",
        "outputId": "03c70b79-c80f-4be9-f472-2ede3df59824",
        "colab": {
          "base_uri": "https://localhost:8080/",
          "height": 342
        }
      },
      "source": [
        "#Regression plot\n",
        "sns.regplot('RIDAGEYR','BMXBMI', data=Q1_df)\n",
        "plt.xlabel('Age',fontsize=20)\n",
        "plt.ylabel('BMI',fontsize=20)\n",
        "plt.show()"
      ],
      "execution_count": 19,
      "outputs": [
        {
          "output_type": "stream",
          "text": [
            "/usr/local/lib/python3.6/dist-packages/seaborn/_decorators.py:43: FutureWarning: Pass the following variables as keyword args: x, y. From version 0.12, the only valid positional argument will be `data`, and passing other arguments without an explicit keyword will result in an error or misinterpretation.\n",
            "  FutureWarning\n"
          ],
          "name": "stderr"
        },
        {
          "output_type": "display_data",
          "data": {
            "image/png": "[encoded data removed]",
            "text/plain": [
              "<Figure size 432x288 with 1 Axes>"
            ]
          },
          "metadata": {
            "tags": [],
            "needs_background": "light"
          }
        }
      ]
    },
    {
      "cell_type": "markdown",
      "metadata": {
        "id": "sP7-z9aBfYJN"
      },
      "source": [
        "We see that there is no linear relationship between these 2 variables. Correlation matrix also showed that."
      ]
    },
    {
      "cell_type": "markdown",
      "metadata": {
        "id": "1o7CtezFfrpW"
      },
      "source": [
        "Let's build up our Linear Regression Model using Statsmodels"
      ]
    },
    {
      "cell_type": "code",
      "metadata": {
        "id": "lUDAaK9wY2QD"
      },
      "source": [
        "import statsmodels.api as sm"
      ],
      "execution_count": 20,
      "outputs": []
    },
    {
      "cell_type": "code",
      "metadata": {
        "id": "2XIkWVFKZ73h",
        "outputId": "6c3c780d-6dd6-476e-cf50-99ad91d0c9b4",
        "colab": {
          "base_uri": "https://localhost:8080/",
          "height": 444
        }
      },
      "source": [
        "modell = sm.OLS.from_formula(\"BMXBMI ~ RIDAGEYR\", data = Q1_df)\n",
        "result = modell.fit()\n",
        "result.summary()"
      ],
      "execution_count": 21,
      "outputs": [
        {
          "output_type": "execute_result",
          "data": {
            "text/html": [
              "<table class=\"simpletable\">\n",
              "<caption>OLS Regression Results</caption>\n",
              "<tr>\n",
              "  <th>Dep. Variable:</th>         <td>BMXBMI</td>      <th>  R-squared:         </th> <td>   0.004</td> \n",
              "</tr>\n",
              "<tr>\n",
              "  <th>Model:</th>                   <td>OLS</td>       <th>  Adj. R-squared:    </th> <td>   0.003</td> \n",
              "</tr>\n",
              "<tr>\n",
              "  <th>Method:</th>             <td>Least Squares</td>  <th>  F-statistic:       </th> <td>   20.17</td> \n",
              "</tr>\n",
              "<tr>\n",
              "  <th>Date:</th>             <td>Mon, 09 Nov 2020</td> <th>  Prob (F-statistic):</th> <td>7.21e-06</td> \n",
              "</tr>\n",
              "<tr>\n",
              "  <th>Time:</th>                 <td>09:17:59</td>     <th>  Log-Likelihood:    </th> <td> -19118.</td> \n",
              "</tr>\n",
              "<tr>\n",
              "  <th>No. Observations:</th>      <td>  5662</td>      <th>  AIC:               </th> <td>3.824e+04</td>\n",
              "</tr>\n",
              "<tr>\n",
              "  <th>Df Residuals:</th>          <td>  5660</td>      <th>  BIC:               </th> <td>3.825e+04</td>\n",
              "</tr>\n",
              "<tr>\n",
              "  <th>Df Model:</th>              <td>     1</td>      <th>                     </th>     <td> </td>    \n",
              "</tr>\n",
              "<tr>\n",
              "  <th>Covariance Type:</th>      <td>nonrobust</td>    <th>                     </th>     <td> </td>    \n",
              "</tr>\n",
              "</table>\n",
              "<table class=\"simpletable\">\n",
              "<tr>\n",
              "      <td></td>         <th>coef</th>     <th>std err</th>      <th>t</th>      <th>P>|t|</th>  <th>[0.025</th>    <th>0.975]</th>  \n",
              "</tr>\n",
              "<tr>\n",
              "  <th>Intercept</th> <td>   28.2788</td> <td>    0.263</td> <td>  107.496</td> <td> 0.000</td> <td>   27.763</td> <td>   28.795</td>\n",
              "</tr>\n",
              "<tr>\n",
              "  <th>RIDAGEYR</th>  <td>    0.0230</td> <td>    0.005</td> <td>    4.492</td> <td> 0.000</td> <td>    0.013</td> <td>    0.033</td>\n",
              "</tr>\n",
              "</table>\n",
              "<table class=\"simpletable\">\n",
              "<tr>\n",
              "  <th>Omnibus:</th>       <td>1083.068</td> <th>  Durbin-Watson:     </th> <td>   2.013</td>\n",
              "</tr>\n",
              "<tr>\n",
              "  <th>Prob(Omnibus):</th>  <td> 0.000</td>  <th>  Jarque-Bera (JB):  </th> <td>2193.456</td>\n",
              "</tr>\n",
              "<tr>\n",
              "  <th>Skew:</th>           <td> 1.140</td>  <th>  Prob(JB):          </th> <td>    0.00</td>\n",
              "</tr>\n",
              "<tr>\n",
              "  <th>Kurtosis:</th>       <td> 5.025</td>  <th>  Cond. No.          </th> <td>    144.</td>\n",
              "</tr>\n",
              "</table><br/><br/>Warnings:<br/>[1] Standard Errors assume that the covariance matrix of the errors is correctly specified."
            ],
            "text/plain": [
              "<class 'statsmodels.iolib.summary.Summary'>\n",
              "\"\"\"\n",
              "                            OLS Regression Results                            \n",
              "==============================================================================\n",
              "Dep. Variable:                 BMXBMI   R-squared:                       0.004\n",
              "Model:                            OLS   Adj. R-squared:                  0.003\n",
              "Method:                 Least Squares   F-statistic:                     20.17\n",
              "Date:                Mon, 09 Nov 2020   Prob (F-statistic):           7.21e-06\n",
              "Time:                        09:17:59   Log-Likelihood:                -19118.\n",
              "No. Observations:                5662   AIC:                         3.824e+04\n",
              "Df Residuals:                    5660   BIC:                         3.825e+04\n",
              "Df Model:                           1                                         \n",
              "Covariance Type:            nonrobust                                         \n",
              "==============================================================================\n",
              "                 coef    std err          t      P>|t|      [0.025      0.975]\n",
              "------------------------------------------------------------------------------\n",
              "Intercept     28.2788      0.263    107.496      0.000      27.763      28.795\n",
              "RIDAGEYR       0.0230      0.005      4.492      0.000       0.013       0.033\n",
              "==============================================================================\n",
              "Omnibus:                     1083.068   Durbin-Watson:                   2.013\n",
              "Prob(Omnibus):                  0.000   Jarque-Bera (JB):             2193.456\n",
              "Skew:                           1.140   Prob(JB):                         0.00\n",
              "Kurtosis:                       5.025   Cond. No.                         144.\n",
              "==============================================================================\n",
              "\n",
              "Warnings:\n",
              "[1] Standard Errors assume that the covariance matrix of the errors is correctly specified.\n",
              "\"\"\""
            ]
          },
          "metadata": {
            "tags": []
          },
          "execution_count": 21
        }
      ]
    },
    {
      "cell_type": "markdown",
      "metadata": {
        "id": "Tm8J_i268FuU"
      },
      "source": [
        "__Q1a.__ According to your fitted model, do older people tend to have higher or lower BMI than younger people?"
      ]
    },
    {
      "cell_type": "markdown",
      "metadata": {
        "id": "YIOv-Z-O99-o"
      },
      "source": [
        "According to our model we didn't find causation between these two variables.\n",
        "This fitted model implies that when comparing two people whose ages differ by one year, the older person will on average have 0.02(age coef) units higher BMI than the younger person. "
      ]
    },
    {
      "cell_type": "markdown",
      "metadata": {
        "id": "UeFvtvnD8HYF"
      },
      "source": [
        "__Q1b.__ Based your analysis, are you confident that there is a relationship between BMI and age in the population that NHANES represents?"
      ]
    },
    {
      "cell_type": "markdown",
      "metadata": {
        "id": "BVefUbeQ-1bO"
      },
      "source": [
        "Our confidence interval is between 0.01 - 0.02 , p-value 0.00 which means that our result is statistically not significant. And this data there is no relationship between these 2 variables."
      ]
    },
    {
      "cell_type": "markdown",
      "metadata": {
        "id": "knBsZ07x8L4h"
      },
      "source": [
        "__Q1c.__ By how much does the average BMI of a 40 year old differ from the average BMI of a 20 year old?"
      ]
    },
    {
      "cell_type": "markdown",
      "metadata": {
        "id": "09ciCEOhBXWd"
      },
      "source": [
        "Comparing a 40 year-old person to a 20 year-old person, there is a 20 year difference in age, which translates into a 20 * 0.02 = 0.4 unit difference in average BMI between these two people. This difference is too small compared to one standard deviation, and would generally be considered to be an not significant shift."
      ]
    },
    {
      "cell_type": "markdown",
      "metadata": {
        "id": "Z9zC7foVmMEl"
      },
      "source": [
        "BMI is expressed in kg/m**2. In order to better understand the meaning of the estimated regression parameter 0.02, we can look at the standard deviation of BMI:"
      ]
    },
    {
      "cell_type": "code",
      "metadata": {
        "id": "m72zkIHueRtV",
        "outputId": "f722a80a-4941-42f7-97d0-32d3bcbbcc73",
        "colab": {
          "base_uri": "https://localhost:8080/"
        }
      },
      "source": [
        "Q1_df.BMXBMI.std()"
      ],
      "execution_count": null,
      "outputs": [
        {
          "output_type": "execute_result",
          "data": {
            "text/plain": [
              "7.095920957539856"
            ]
          },
          "metadata": {
            "tags": []
          },
          "execution_count": 30
        }
      ]
    },
    {
      "cell_type": "markdown",
      "metadata": {
        "id": "e5g72lVU8QY7"
      },
      "source": [
        "__Q1d.__ What fraction of the variation of BMI in this population is explained by age?"
      ]
    },
    {
      "cell_type": "markdown",
      "metadata": {
        "id": "0u1CcY44pONj"
      },
      "source": [
        "The primary summary statistic for assessing the strength of a predictive relationship in a regression model is the R-squared, which is shown to be 0.004 in the regression output above. This means that 0.4% of the variation in BMI is explained by age. "
      ]
    },
    {
      "cell_type": "markdown",
      "metadata": {
        "id": "4Rgttt2Dg_3q"
      },
      "source": [
        "**Adding a second variable**"
      ]
    },
    {
      "cell_type": "markdown",
      "metadata": {
        "id": "a2EjIIHCjG_I"
      },
      "source": [
        "## **Question 2:** \n",
        "\n",
        "Add gender and ethnicity as additional control variables to your linear model relating BMI to age.  You will need to recode the ethnic groups based\n",
        "on the values in the codebook entry for [RIDRETH1](https://wwwn.cdc.gov/Nchs/Nhanes/2015-2016/DEMO_I.htm#RIDRETH1)."
      ]
    },
    {
      "cell_type": "code",
      "metadata": {
        "id": "CQytZUTDjHvF"
      },
      "source": [
        "#creating Dataframe for the second question\n",
        "Q2_df = df[[\"RIAGENDR\", \"RIDRETH1\", \"RIDAGEYR\", \"BMXBMI\"]]"
      ],
      "execution_count": 22,
      "outputs": []
    },
    {
      "cell_type": "code",
      "metadata": {
        "id": "QYzQrz50qot2",
        "outputId": "4bfae73c-5685-47c1-b1f2-894cd53932bb",
        "colab": {
          "base_uri": "https://localhost:8080/"
        }
      },
      "source": [
        "Q2_df['RIDRETH1'].unique()"
      ],
      "execution_count": 23,
      "outputs": [
        {
          "output_type": "execute_result",
          "data": {
            "text/plain": [
              "array([3, 4, 1, 5, 2])"
            ]
          },
          "metadata": {
            "tags": []
          },
          "execution_count": 23
        }
      ]
    },
    {
      "cell_type": "code",
      "metadata": {
        "id": "Aj7Ml5ADj8SF",
        "outputId": "51fd0287-9def-4adf-a3f2-8de4292bc855",
        "colab": {
          "base_uri": "https://localhost:8080/"
        }
      },
      "source": [
        "#checking null values\n",
        "pd.isnull(Q2_df).sum()"
      ],
      "execution_count": 24,
      "outputs": [
        {
          "output_type": "execute_result",
          "data": {
            "text/plain": [
              "RIAGENDR     0\n",
              "RIDRETH1     0\n",
              "RIDAGEYR     0\n",
              "BMXBMI      73\n",
              "dtype: int64"
            ]
          },
          "metadata": {
            "tags": []
          },
          "execution_count": 24
        }
      ]
    },
    {
      "cell_type": "code",
      "metadata": {
        "id": "kHneP1GUkLnI"
      },
      "source": [
        "#drop null values\n",
        "Q2_df = Q2_df.dropna()"
      ],
      "execution_count": 25,
      "outputs": []
    },
    {
      "cell_type": "code",
      "metadata": {
        "id": "BW4M8OF4kLnS"
      },
      "source": [
        "#reset index\n",
        "Q2_df.reset_index(inplace = True, drop = True)"
      ],
      "execution_count": 27,
      "outputs": []
    },
    {
      "cell_type": "code",
      "metadata": {
        "id": "UEqYV5USkPfI",
        "outputId": "ea8af069-8e25-4b92-d8b0-4883df7af770",
        "colab": {
          "base_uri": "https://localhost:8080/"
        }
      },
      "source": [
        "#recheck null\n",
        "pd.isnull(Q2_df).sum()"
      ],
      "execution_count": 29,
      "outputs": [
        {
          "output_type": "execute_result",
          "data": {
            "text/plain": [
              "RIAGENDR    0\n",
              "RIDRETH1    0\n",
              "RIDAGEYR    0\n",
              "BMXBMI      0\n",
              "dtype: int64"
            ]
          },
          "metadata": {
            "tags": []
          },
          "execution_count": 29
        }
      ]
    },
    {
      "cell_type": "code",
      "metadata": {
        "id": "sT6_6wIgkSHR",
        "outputId": "26332c05-3a31-441a-c607-74f8473aebf6",
        "colab": {
          "base_uri": "https://localhost:8080/"
        }
      },
      "source": [
        "Q2_df.info()"
      ],
      "execution_count": 30,
      "outputs": [
        {
          "output_type": "stream",
          "text": [
            "<class 'pandas.core.frame.DataFrame'>\n",
            "RangeIndex: 5662 entries, 0 to 5661\n",
            "Data columns (total 4 columns):\n",
            " #   Column    Non-Null Count  Dtype  \n",
            "---  ------    --------------  -----  \n",
            " 0   RIAGENDR  5662 non-null   int64  \n",
            " 1   RIDRETH1  5662 non-null   int64  \n",
            " 2   RIDAGEYR  5662 non-null   int64  \n",
            " 3   BMXBMI    5662 non-null   float64\n",
            "dtypes: float64(1), int64(3)\n",
            "memory usage: 177.1 KB\n"
          ],
          "name": "stdout"
        }
      ]
    },
    {
      "cell_type": "code",
      "metadata": {
        "id": "Cq3Mrl5sk-a4"
      },
      "source": [
        "#relabeling \"Etnicity\" variable\n",
        "Q2_df[\"Etnicity\"] = Q2_df.RIDRETH1.replace({1: \"Mexican American\", 2: \"Other Hispanic\", 3: \"Non-Hispanic White\",\n",
        "                                          4: \"Non-Hispanic Black\", 5: \"Other Race - Including Multi-Racial\"})"
      ],
      "execution_count": 33,
      "outputs": []
    },
    {
      "cell_type": "code",
      "metadata": {
        "id": "Q119wvssAfLX"
      },
      "source": [
        "#relabeling \"Gender\" variable\n",
        "Q2_df[\"Gender\"] = Q2_df.RIAGENDR.replace({1: \"Male\", 2: \"Female\"})"
      ],
      "execution_count": 31,
      "outputs": []
    },
    {
      "cell_type": "code",
      "metadata": {
        "id": "seCsTje9lgqD",
        "outputId": "6417c2e4-f9bf-4d06-e24b-3a11d6281c5a",
        "colab": {
          "base_uri": "https://localhost:8080/",
          "height": 204
        }
      },
      "source": [
        "Q2_df.head()"
      ],
      "execution_count": 34,
      "outputs": [
        {
          "output_type": "execute_result",
          "data": {
            "text/html": [
              "<div>\n",
              "<style scoped>\n",
              "    .dataframe tbody tr th:only-of-type {\n",
              "        vertical-align: middle;\n",
              "    }\n",
              "\n",
              "    .dataframe tbody tr th {\n",
              "        vertical-align: top;\n",
              "    }\n",
              "\n",
              "    .dataframe thead th {\n",
              "        text-align: right;\n",
              "    }\n",
              "</style>\n",
              "<table border=\"1\" class=\"dataframe\">\n",
              "  <thead>\n",
              "    <tr style=\"text-align: right;\">\n",
              "      <th></th>\n",
              "      <th>RIAGENDR</th>\n",
              "      <th>RIDRETH1</th>\n",
              "      <th>RIDAGEYR</th>\n",
              "      <th>BMXBMI</th>\n",
              "      <th>Gender</th>\n",
              "      <th>Etnicity</th>\n",
              "    </tr>\n",
              "  </thead>\n",
              "  <tbody>\n",
              "    <tr>\n",
              "      <th>0</th>\n",
              "      <td>1</td>\n",
              "      <td>3</td>\n",
              "      <td>62</td>\n",
              "      <td>27.8</td>\n",
              "      <td>Male</td>\n",
              "      <td>Non-Hispanic White</td>\n",
              "    </tr>\n",
              "    <tr>\n",
              "      <th>1</th>\n",
              "      <td>1</td>\n",
              "      <td>3</td>\n",
              "      <td>53</td>\n",
              "      <td>30.8</td>\n",
              "      <td>Male</td>\n",
              "      <td>Non-Hispanic White</td>\n",
              "    </tr>\n",
              "    <tr>\n",
              "      <th>2</th>\n",
              "      <td>1</td>\n",
              "      <td>3</td>\n",
              "      <td>78</td>\n",
              "      <td>28.8</td>\n",
              "      <td>Male</td>\n",
              "      <td>Non-Hispanic White</td>\n",
              "    </tr>\n",
              "    <tr>\n",
              "      <th>3</th>\n",
              "      <td>2</td>\n",
              "      <td>3</td>\n",
              "      <td>56</td>\n",
              "      <td>42.4</td>\n",
              "      <td>Female</td>\n",
              "      <td>Non-Hispanic White</td>\n",
              "    </tr>\n",
              "    <tr>\n",
              "      <th>4</th>\n",
              "      <td>2</td>\n",
              "      <td>4</td>\n",
              "      <td>42</td>\n",
              "      <td>20.3</td>\n",
              "      <td>Female</td>\n",
              "      <td>Non-Hispanic Black</td>\n",
              "    </tr>\n",
              "  </tbody>\n",
              "</table>\n",
              "</div>"
            ],
            "text/plain": [
              "   RIAGENDR  RIDRETH1  RIDAGEYR  BMXBMI  Gender            Etnicity\n",
              "0         1         3        62    27.8    Male  Non-Hispanic White\n",
              "1         1         3        53    30.8    Male  Non-Hispanic White\n",
              "2         1         3        78    28.8    Male  Non-Hispanic White\n",
              "3         2         3        56    42.4  Female  Non-Hispanic White\n",
              "4         2         4        42    20.3  Female  Non-Hispanic Black"
            ]
          },
          "metadata": {
            "tags": []
          },
          "execution_count": 34
        }
      ]
    },
    {
      "cell_type": "code",
      "metadata": {
        "id": "FAUWnbLunIzu",
        "outputId": "7897dc87-a7c7-4bc9-cb1a-bea51048ce6f",
        "colab": {
          "base_uri": "https://localhost:8080/",
          "height": 142
        }
      },
      "source": [
        "#looking for correlation between 3 variables\n",
        "Q2_df[[\"RIDAGEYR\", \"RIAGENDR\", \"BMXBMI\"]].corr()"
      ],
      "execution_count": 36,
      "outputs": [
        {
          "output_type": "execute_result",
          "data": {
            "text/html": [
              "<div>\n",
              "<style scoped>\n",
              "    .dataframe tbody tr th:only-of-type {\n",
              "        vertical-align: middle;\n",
              "    }\n",
              "\n",
              "    .dataframe tbody tr th {\n",
              "        vertical-align: top;\n",
              "    }\n",
              "\n",
              "    .dataframe thead th {\n",
              "        text-align: right;\n",
              "    }\n",
              "</style>\n",
              "<table border=\"1\" class=\"dataframe\">\n",
              "  <thead>\n",
              "    <tr style=\"text-align: right;\">\n",
              "      <th></th>\n",
              "      <th>RIDAGEYR</th>\n",
              "      <th>RIAGENDR</th>\n",
              "      <th>BMXBMI</th>\n",
              "    </tr>\n",
              "  </thead>\n",
              "  <tbody>\n",
              "    <tr>\n",
              "      <th>RIDAGEYR</th>\n",
              "      <td>1.000000</td>\n",
              "      <td>-0.011766</td>\n",
              "      <td>0.059597</td>\n",
              "    </tr>\n",
              "    <tr>\n",
              "      <th>RIAGENDR</th>\n",
              "      <td>-0.011766</td>\n",
              "      <td>1.000000</td>\n",
              "      <td>0.081811</td>\n",
              "    </tr>\n",
              "    <tr>\n",
              "      <th>BMXBMI</th>\n",
              "      <td>0.059597</td>\n",
              "      <td>0.081811</td>\n",
              "      <td>1.000000</td>\n",
              "    </tr>\n",
              "  </tbody>\n",
              "</table>\n",
              "</div>"
            ],
            "text/plain": [
              "          RIDAGEYR  RIAGENDR    BMXBMI\n",
              "RIDAGEYR  1.000000 -0.011766  0.059597\n",
              "RIAGENDR -0.011766  1.000000  0.081811\n",
              "BMXBMI    0.059597  0.081811  1.000000"
            ]
          },
          "metadata": {
            "tags": []
          },
          "execution_count": 36
        }
      ]
    },
    {
      "cell_type": "markdown",
      "metadata": {
        "id": "bLT2iw8OXuOY"
      },
      "source": [
        "As we see, there is no significant correlation."
      ]
    },
    {
      "cell_type": "code",
      "metadata": {
        "id": "g2yNiUqmkVSd",
        "outputId": "373103b7-7336-4971-a1f3-92d9ca21115c",
        "colab": {
          "base_uri": "https://localhost:8080/",
          "height": 549
        }
      },
      "source": [
        "#building model with 3 variables\n",
        "model2 = sm.OLS.from_formula(\"BMXBMI ~ RIDAGEYR + Gender + Etnicity\", data=Q2_df)\n",
        "result2 = model2.fit()\n",
        "result2.summary()"
      ],
      "execution_count": 37,
      "outputs": [
        {
          "output_type": "execute_result",
          "data": {
            "text/html": [
              "<table class=\"simpletable\">\n",
              "<caption>OLS Regression Results</caption>\n",
              "<tr>\n",
              "  <th>Dep. Variable:</th>         <td>BMXBMI</td>      <th>  R-squared:         </th> <td>   0.055</td> \n",
              "</tr>\n",
              "<tr>\n",
              "  <th>Model:</th>                   <td>OLS</td>       <th>  Adj. R-squared:    </th> <td>   0.054</td> \n",
              "</tr>\n",
              "<tr>\n",
              "  <th>Method:</th>             <td>Least Squares</td>  <th>  F-statistic:       </th> <td>   55.09</td> \n",
              "</tr>\n",
              "<tr>\n",
              "  <th>Date:</th>             <td>Mon, 09 Nov 2020</td> <th>  Prob (F-statistic):</th> <td>2.18e-66</td> \n",
              "</tr>\n",
              "<tr>\n",
              "  <th>Time:</th>                 <td>09:42:45</td>     <th>  Log-Likelihood:    </th> <td> -18968.</td> \n",
              "</tr>\n",
              "<tr>\n",
              "  <th>No. Observations:</th>      <td>  5662</td>      <th>  AIC:               </th> <td>3.795e+04</td>\n",
              "</tr>\n",
              "<tr>\n",
              "  <th>Df Residuals:</th>          <td>  5655</td>      <th>  BIC:               </th> <td>3.800e+04</td>\n",
              "</tr>\n",
              "<tr>\n",
              "  <th>Df Model:</th>              <td>     6</td>      <th>                     </th>     <td> </td>    \n",
              "</tr>\n",
              "<tr>\n",
              "  <th>Covariance Type:</th>      <td>nonrobust</td>    <th>                     </th>     <td> </td>    \n",
              "</tr>\n",
              "</table>\n",
              "<table class=\"simpletable\">\n",
              "<tr>\n",
              "                         <td></td>                            <th>coef</th>     <th>std err</th>      <th>t</th>      <th>P>|t|</th>  <th>[0.025</th>    <th>0.975]</th>  \n",
              "</tr>\n",
              "<tr>\n",
              "  <th>Intercept</th>                                       <td>   30.5174</td> <td>    0.330</td> <td>   92.513</td> <td> 0.000</td> <td>   29.871</td> <td>   31.164</td>\n",
              "</tr>\n",
              "<tr>\n",
              "  <th>Gender[T.Male]</th>                                  <td>   -1.0696</td> <td>    0.184</td> <td>   -5.819</td> <td> 0.000</td> <td>   -1.430</td> <td>   -0.709</td>\n",
              "</tr>\n",
              "<tr>\n",
              "  <th>Etnicity[T.Non-Hispanic Black]</th>                  <td>   -0.5707</td> <td>    0.295</td> <td>   -1.934</td> <td> 0.053</td> <td>   -1.149</td> <td>    0.008</td>\n",
              "</tr>\n",
              "<tr>\n",
              "  <th>Etnicity[T.Non-Hispanic White]</th>                  <td>   -1.8350</td> <td>    0.273</td> <td>   -6.715</td> <td> 0.000</td> <td>   -2.371</td> <td>   -1.299</td>\n",
              "</tr>\n",
              "<tr>\n",
              "  <th>Etnicity[T.Other Hispanic]</th>                      <td>   -1.1240</td> <td>    0.334</td> <td>   -3.364</td> <td> 0.001</td> <td>   -1.779</td> <td>   -0.469</td>\n",
              "</tr>\n",
              "<tr>\n",
              "  <th>Etnicity[T.Other Race - Including Multi-Racial]</th> <td>   -4.7212</td> <td>    0.318</td> <td>  -14.849</td> <td> 0.000</td> <td>   -5.345</td> <td>   -4.098</td>\n",
              "</tr>\n",
              "<tr>\n",
              "  <th>RIDAGEYR</th>                                        <td>    0.0205</td> <td>    0.005</td> <td>    4.054</td> <td> 0.000</td> <td>    0.011</td> <td>    0.030</td>\n",
              "</tr>\n",
              "</table>\n",
              "<table class=\"simpletable\">\n",
              "<tr>\n",
              "  <th>Omnibus:</th>       <td>1055.828</td> <th>  Durbin-Watson:     </th> <td>   2.007</td>\n",
              "</tr>\n",
              "<tr>\n",
              "  <th>Prob(Omnibus):</th>  <td> 0.000</td>  <th>  Jarque-Bera (JB):  </th> <td>2167.403</td>\n",
              "</tr>\n",
              "<tr>\n",
              "  <th>Skew:</th>           <td> 1.106</td>  <th>  Prob(JB):          </th> <td>    0.00</td>\n",
              "</tr>\n",
              "<tr>\n",
              "  <th>Kurtosis:</th>       <td> 5.071</td>  <th>  Cond. No.          </th> <td>    299.</td>\n",
              "</tr>\n",
              "</table><br/><br/>Warnings:<br/>[1] Standard Errors assume that the covariance matrix of the errors is correctly specified."
            ],
            "text/plain": [
              "<class 'statsmodels.iolib.summary.Summary'>\n",
              "\"\"\"\n",
              "                            OLS Regression Results                            \n",
              "==============================================================================\n",
              "Dep. Variable:                 BMXBMI   R-squared:                       0.055\n",
              "Model:                            OLS   Adj. R-squared:                  0.054\n",
              "Method:                 Least Squares   F-statistic:                     55.09\n",
              "Date:                Mon, 09 Nov 2020   Prob (F-statistic):           2.18e-66\n",
              "Time:                        09:42:45   Log-Likelihood:                -18968.\n",
              "No. Observations:                5662   AIC:                         3.795e+04\n",
              "Df Residuals:                    5655   BIC:                         3.800e+04\n",
              "Df Model:                           6                                         \n",
              "Covariance Type:            nonrobust                                         \n",
              "===================================================================================================================\n",
              "                                                      coef    std err          t      P>|t|      [0.025      0.975]\n",
              "-------------------------------------------------------------------------------------------------------------------\n",
              "Intercept                                          30.5174      0.330     92.513      0.000      29.871      31.164\n",
              "Gender[T.Male]                                     -1.0696      0.184     -5.819      0.000      -1.430      -0.709\n",
              "Etnicity[T.Non-Hispanic Black]                     -0.5707      0.295     -1.934      0.053      -1.149       0.008\n",
              "Etnicity[T.Non-Hispanic White]                     -1.8350      0.273     -6.715      0.000      -2.371      -1.299\n",
              "Etnicity[T.Other Hispanic]                         -1.1240      0.334     -3.364      0.001      -1.779      -0.469\n",
              "Etnicity[T.Other Race - Including Multi-Racial]    -4.7212      0.318    -14.849      0.000      -5.345      -4.098\n",
              "RIDAGEYR                                            0.0205      0.005      4.054      0.000       0.011       0.030\n",
              "==============================================================================\n",
              "Omnibus:                     1055.828   Durbin-Watson:                   2.007\n",
              "Prob(Omnibus):                  0.000   Jarque-Bera (JB):             2167.403\n",
              "Skew:                           1.106   Prob(JB):                         0.00\n",
              "Kurtosis:                       5.071   Cond. No.                         299.\n",
              "==============================================================================\n",
              "\n",
              "Warnings:\n",
              "[1] Standard Errors assume that the covariance matrix of the errors is correctly specified.\n",
              "\"\"\""
            ]
          },
          "metadata": {
            "tags": []
          },
          "execution_count": 37
        }
      ]
    },
    {
      "cell_type": "markdown",
      "metadata": {
        "id": "YmyDqi-KCGaZ"
      },
      "source": [
        "__Q2a.__ How did the mean relationship between BMI and age change when you added additional covariates to the model?"
      ]
    },
    {
      "cell_type": "markdown",
      "metadata": {
        "id": "MW9KH8RBuvwN"
      },
      "source": [
        "The model that was fit above uses age, gender and ethnicity to explain the variation in BMI. It finds that two people with the same gender whose ages differ by one year tend to have BMI values differing by 0.02 units, which is essentially the same age parameter that we found above in the model based on age alone. This model also shows us that comparing a man and a woman of the same age, the man will on average have 1.06 units less BMI."
      ]
    },
    {
      "cell_type": "markdown",
      "metadata": {
        "id": "PCg7HXIJCKLK"
      },
      "source": [
        "__Q2b.__ How did the standard error for the regression parameter for age change when you added additional covariates to the model?"
      ]
    },
    {
      "cell_type": "markdown",
      "metadata": {
        "id": "oo4thJNS9JvP"
      },
      "source": [
        "Standard error is the same for both cases (0.05)"
      ]
    },
    {
      "cell_type": "markdown",
      "metadata": {
        "id": "YxkP4Q_7Cdtn"
      },
      "source": [
        "__Q2c.__ How much additional variation in BMI is explained by age, gender, and ethnicity that is not explained by age alone?"
      ]
    },
    {
      "cell_type": "markdown",
      "metadata": {
        "id": "jLSHWEeL9X28"
      },
      "source": [
        "R-squared now is 0.05 , which means 5% variation in BMI is explained by age, gender, and ethnicity. Previously it was 0.4%."
      ]
    },
    {
      "cell_type": "markdown",
      "metadata": {
        "id": "92Q7EhM5CnZk"
      },
      "source": [
        "__Q2e.__ What is the expected difference between the BMI of a 40 year-old non-Hispanic black man and a 30 year-old non-Hispanic black man?"
      ]
    },
    {
      "cell_type": "markdown",
      "metadata": {
        "id": "zK-1IkVe-9Y-"
      },
      "source": [
        "-1.0696 + 10 * (-0.5707) = -6.7766"
      ]
    },
    {
      "cell_type": "markdown",
      "metadata": {
        "id": "esmSmImICNMu"
      },
      "source": [
        "## **Question 3:**\n",
        "\n",
        "Randomly sample 25% of the NHANES data, then fit the same model you used in question 2 to this data set."
      ]
    },
    {
      "cell_type": "code",
      "metadata": {
        "id": "G2q565RKCZcf"
      },
      "source": [
        "Q3_df = Q2_df.sample(frac =.25)"
      ],
      "execution_count": 38,
      "outputs": []
    },
    {
      "cell_type": "code",
      "metadata": {
        "id": "xv8ZgKh9CesO",
        "outputId": "43dfd8d0-e8dd-4c80-860f-48fe329ee62d",
        "colab": {
          "base_uri": "https://localhost:8080/"
        }
      },
      "source": [
        "Q3_df.shape"
      ],
      "execution_count": 39,
      "outputs": [
        {
          "output_type": "execute_result",
          "data": {
            "text/plain": [
              "(1416, 6)"
            ]
          },
          "metadata": {
            "tags": []
          },
          "execution_count": 39
        }
      ]
    },
    {
      "cell_type": "code",
      "metadata": {
        "id": "mAEQwZPsbwIL",
        "outputId": "11c72bfd-00bc-4098-d0da-06f646b8bbb3",
        "colab": {
          "base_uri": "https://localhost:8080/",
          "height": 204
        }
      },
      "source": [
        "Q3_df.head()"
      ],
      "execution_count": 41,
      "outputs": [
        {
          "output_type": "execute_result",
          "data": {
            "text/html": [
              "<div>\n",
              "<style scoped>\n",
              "    .dataframe tbody tr th:only-of-type {\n",
              "        vertical-align: middle;\n",
              "    }\n",
              "\n",
              "    .dataframe tbody tr th {\n",
              "        vertical-align: top;\n",
              "    }\n",
              "\n",
              "    .dataframe thead th {\n",
              "        text-align: right;\n",
              "    }\n",
              "</style>\n",
              "<table border=\"1\" class=\"dataframe\">\n",
              "  <thead>\n",
              "    <tr style=\"text-align: right;\">\n",
              "      <th></th>\n",
              "      <th>RIAGENDR</th>\n",
              "      <th>RIDRETH1</th>\n",
              "      <th>RIDAGEYR</th>\n",
              "      <th>BMXBMI</th>\n",
              "      <th>Gender</th>\n",
              "      <th>Etnicity</th>\n",
              "    </tr>\n",
              "  </thead>\n",
              "  <tbody>\n",
              "    <tr>\n",
              "      <th>3694</th>\n",
              "      <td>2</td>\n",
              "      <td>4</td>\n",
              "      <td>48</td>\n",
              "      <td>32.3</td>\n",
              "      <td>Female</td>\n",
              "      <td>Non-Hispanic Black</td>\n",
              "    </tr>\n",
              "    <tr>\n",
              "      <th>4109</th>\n",
              "      <td>2</td>\n",
              "      <td>3</td>\n",
              "      <td>45</td>\n",
              "      <td>26.2</td>\n",
              "      <td>Female</td>\n",
              "      <td>Non-Hispanic White</td>\n",
              "    </tr>\n",
              "    <tr>\n",
              "      <th>916</th>\n",
              "      <td>2</td>\n",
              "      <td>2</td>\n",
              "      <td>42</td>\n",
              "      <td>32.9</td>\n",
              "      <td>Female</td>\n",
              "      <td>Other Hispanic</td>\n",
              "    </tr>\n",
              "    <tr>\n",
              "      <th>445</th>\n",
              "      <td>2</td>\n",
              "      <td>3</td>\n",
              "      <td>78</td>\n",
              "      <td>23.1</td>\n",
              "      <td>Female</td>\n",
              "      <td>Non-Hispanic White</td>\n",
              "    </tr>\n",
              "    <tr>\n",
              "      <th>1217</th>\n",
              "      <td>2</td>\n",
              "      <td>3</td>\n",
              "      <td>66</td>\n",
              "      <td>42.8</td>\n",
              "      <td>Female</td>\n",
              "      <td>Non-Hispanic White</td>\n",
              "    </tr>\n",
              "  </tbody>\n",
              "</table>\n",
              "</div>"
            ],
            "text/plain": [
              "      RIAGENDR  RIDRETH1  RIDAGEYR  BMXBMI  Gender            Etnicity\n",
              "3694         2         4        48    32.3  Female  Non-Hispanic Black\n",
              "4109         2         3        45    26.2  Female  Non-Hispanic White\n",
              "916          2         2        42    32.9  Female      Other Hispanic\n",
              "445          2         3        78    23.1  Female  Non-Hispanic White\n",
              "1217         2         3        66    42.8  Female  Non-Hispanic White"
            ]
          },
          "metadata": {
            "tags": []
          },
          "execution_count": 41
        }
      ]
    },
    {
      "cell_type": "code",
      "metadata": {
        "id": "ozl-WIG0b1bh"
      },
      "source": [
        "#reset index\n",
        "Q3_df.reset_index(inplace = True, drop = True)"
      ],
      "execution_count": 43,
      "outputs": []
    },
    {
      "cell_type": "code",
      "metadata": {
        "id": "Es-tddtjbk_h",
        "outputId": "f874b7bb-1944-463d-e790-0c1094299935",
        "colab": {
          "base_uri": "https://localhost:8080/",
          "height": 549
        }
      },
      "source": [
        "#building model with 3 variables\n",
        "model3 = sm.OLS.from_formula(\"BMXBMI ~ RIDAGEYR + Gender + Etnicity\", data=Q3_df)\n",
        "result3 = model3.fit()\n",
        "result3.summary()"
      ],
      "execution_count": 45,
      "outputs": [
        {
          "output_type": "execute_result",
          "data": {
            "text/html": [
              "<table class=\"simpletable\">\n",
              "<caption>OLS Regression Results</caption>\n",
              "<tr>\n",
              "  <th>Dep. Variable:</th>         <td>BMXBMI</td>      <th>  R-squared:         </th> <td>   0.043</td>\n",
              "</tr>\n",
              "<tr>\n",
              "  <th>Model:</th>                   <td>OLS</td>       <th>  Adj. R-squared:    </th> <td>   0.039</td>\n",
              "</tr>\n",
              "<tr>\n",
              "  <th>Method:</th>             <td>Least Squares</td>  <th>  F-statistic:       </th> <td>   10.68</td>\n",
              "</tr>\n",
              "<tr>\n",
              "  <th>Date:</th>             <td>Mon, 09 Nov 2020</td> <th>  Prob (F-statistic):</th> <td>1.26e-11</td>\n",
              "</tr>\n",
              "<tr>\n",
              "  <th>Time:</th>                 <td>10:00:02</td>     <th>  Log-Likelihood:    </th> <td> -4716.6</td>\n",
              "</tr>\n",
              "<tr>\n",
              "  <th>No. Observations:</th>      <td>  1416</td>      <th>  AIC:               </th> <td>   9447.</td>\n",
              "</tr>\n",
              "<tr>\n",
              "  <th>Df Residuals:</th>          <td>  1409</td>      <th>  BIC:               </th> <td>   9484.</td>\n",
              "</tr>\n",
              "<tr>\n",
              "  <th>Df Model:</th>              <td>     6</td>      <th>                     </th>     <td> </td>   \n",
              "</tr>\n",
              "<tr>\n",
              "  <th>Covariance Type:</th>      <td>nonrobust</td>    <th>                     </th>     <td> </td>   \n",
              "</tr>\n",
              "</table>\n",
              "<table class=\"simpletable\">\n",
              "<tr>\n",
              "                         <td></td>                            <th>coef</th>     <th>std err</th>      <th>t</th>      <th>P>|t|</th>  <th>[0.025</th>    <th>0.975]</th>  \n",
              "</tr>\n",
              "<tr>\n",
              "  <th>Intercept</th>                                       <td>   29.2028</td> <td>    0.638</td> <td>   45.767</td> <td> 0.000</td> <td>   27.951</td> <td>   30.454</td>\n",
              "</tr>\n",
              "<tr>\n",
              "  <th>Gender[T.Male]</th>                                  <td>   -0.1621</td> <td>    0.362</td> <td>   -0.448</td> <td> 0.654</td> <td>   -0.872</td> <td>    0.548</td>\n",
              "</tr>\n",
              "<tr>\n",
              "  <th>Etnicity[T.Non-Hispanic Black]</th>                  <td>    0.6015</td> <td>    0.576</td> <td>    1.045</td> <td> 0.296</td> <td>   -0.528</td> <td>    1.731</td>\n",
              "</tr>\n",
              "<tr>\n",
              "  <th>Etnicity[T.Non-Hispanic White]</th>                  <td>   -1.2738</td> <td>    0.534</td> <td>   -2.387</td> <td> 0.017</td> <td>   -2.320</td> <td>   -0.227</td>\n",
              "</tr>\n",
              "<tr>\n",
              "  <th>Etnicity[T.Other Hispanic]</th>                      <td>   -0.4837</td> <td>    0.676</td> <td>   -0.715</td> <td> 0.474</td> <td>   -1.810</td> <td>    0.843</td>\n",
              "</tr>\n",
              "<tr>\n",
              "  <th>Etnicity[T.Other Race - Including Multi-Racial]</th> <td>   -3.5636</td> <td>    0.614</td> <td>   -5.799</td> <td> 0.000</td> <td>   -4.769</td> <td>   -2.358</td>\n",
              "</tr>\n",
              "<tr>\n",
              "  <th>RIDAGEYR</th>                                        <td>    0.0221</td> <td>    0.010</td> <td>    2.218</td> <td> 0.027</td> <td>    0.003</td> <td>    0.042</td>\n",
              "</tr>\n",
              "</table>\n",
              "<table class=\"simpletable\">\n",
              "<tr>\n",
              "  <th>Omnibus:</th>       <td>236.147</td> <th>  Durbin-Watson:     </th> <td>   2.017</td>\n",
              "</tr>\n",
              "<tr>\n",
              "  <th>Prob(Omnibus):</th> <td> 0.000</td>  <th>  Jarque-Bera (JB):  </th> <td> 423.165</td>\n",
              "</tr>\n",
              "<tr>\n",
              "  <th>Skew:</th>          <td> 1.035</td>  <th>  Prob(JB):          </th> <td>1.29e-92</td>\n",
              "</tr>\n",
              "<tr>\n",
              "  <th>Kurtosis:</th>      <td> 4.698</td>  <th>  Cond. No.          </th> <td>    296.</td>\n",
              "</tr>\n",
              "</table><br/><br/>Warnings:<br/>[1] Standard Errors assume that the covariance matrix of the errors is correctly specified."
            ],
            "text/plain": [
              "<class 'statsmodels.iolib.summary.Summary'>\n",
              "\"\"\"\n",
              "                            OLS Regression Results                            \n",
              "==============================================================================\n",
              "Dep. Variable:                 BMXBMI   R-squared:                       0.043\n",
              "Model:                            OLS   Adj. R-squared:                  0.039\n",
              "Method:                 Least Squares   F-statistic:                     10.68\n",
              "Date:                Mon, 09 Nov 2020   Prob (F-statistic):           1.26e-11\n",
              "Time:                        10:00:02   Log-Likelihood:                -4716.6\n",
              "No. Observations:                1416   AIC:                             9447.\n",
              "Df Residuals:                    1409   BIC:                             9484.\n",
              "Df Model:                           6                                         \n",
              "Covariance Type:            nonrobust                                         \n",
              "===================================================================================================================\n",
              "                                                      coef    std err          t      P>|t|      [0.025      0.975]\n",
              "-------------------------------------------------------------------------------------------------------------------\n",
              "Intercept                                          29.2028      0.638     45.767      0.000      27.951      30.454\n",
              "Gender[T.Male]                                     -0.1621      0.362     -0.448      0.654      -0.872       0.548\n",
              "Etnicity[T.Non-Hispanic Black]                      0.6015      0.576      1.045      0.296      -0.528       1.731\n",
              "Etnicity[T.Non-Hispanic White]                     -1.2738      0.534     -2.387      0.017      -2.320      -0.227\n",
              "Etnicity[T.Other Hispanic]                         -0.4837      0.676     -0.715      0.474      -1.810       0.843\n",
              "Etnicity[T.Other Race - Including Multi-Racial]    -3.5636      0.614     -5.799      0.000      -4.769      -2.358\n",
              "RIDAGEYR                                            0.0221      0.010      2.218      0.027       0.003       0.042\n",
              "==============================================================================\n",
              "Omnibus:                      236.147   Durbin-Watson:                   2.017\n",
              "Prob(Omnibus):                  0.000   Jarque-Bera (JB):              423.165\n",
              "Skew:                           1.035   Prob(JB):                     1.29e-92\n",
              "Kurtosis:                       4.698   Cond. No.                         296.\n",
              "==============================================================================\n",
              "\n",
              "Warnings:\n",
              "[1] Standard Errors assume that the covariance matrix of the errors is correctly specified.\n",
              "\"\"\""
            ]
          },
          "metadata": {
            "tags": []
          },
          "execution_count": 45
        }
      ]
    },
    {
      "cell_type": "markdown",
      "metadata": {
        "id": "RGnNhn3wCkb_"
      },
      "source": [
        "__Q3a.__ How do the estimated regression coefficients and their standard errors compare between these two models?  Do you see any systematic relationship between the two sets of results?"
      ]
    },
    {
      "cell_type": "markdown",
      "metadata": {
        "id": "8JfoCu0GcDj_"
      },
      "source": [
        "In the first model we have an intercept 30.5174 and standard error 0.330. In the second model 29.2028 and 0.638. As we see they are very close numbers, the difference is very small."
      ]
    },
    {
      "cell_type": "markdown",
      "metadata": {
        "id": "G2GluKZQCvTy"
      },
      "source": [
        "## Question 4:\n",
        "\n",
        "Generate a scatterplot of the residuals against the fitted values for the model you fit in question 2."
      ]
    },
    {
      "cell_type": "code",
      "metadata": {
        "id": "5ogP_TixCk-B",
        "outputId": "3565919a-944e-4fb9-c728-faf9f540044d",
        "colab": {
          "base_uri": "https://localhost:8080/",
          "height": 333
        }
      },
      "source": [
        "pp = sns.scatterplot(result2.fittedvalues, result2.resid)\n",
        "pp.set_xlabel(\"Fitted values\")\n",
        "_ = pp.set_ylabel(\"Residuals\")"
      ],
      "execution_count": 46,
      "outputs": [
        {
          "output_type": "stream",
          "text": [
            "/usr/local/lib/python3.6/dist-packages/seaborn/_decorators.py:43: FutureWarning: Pass the following variables as keyword args: x, y. From version 0.12, the only valid positional argument will be `data`, and passing other arguments without an explicit keyword will result in an error or misinterpretation.\n",
            "  FutureWarning\n"
          ],
          "name": "stderr"
        },
        {
          "output_type": "display_data",
          "data": {
            "image/png": "[encoded data removed]",
            "text/plain": [
              "<Figure size 432x288 with 1 Axes>"
            ]
          },
          "metadata": {
            "tags": [],
            "needs_background": "light"
          }
        }
      ]
    },
    {
      "cell_type": "markdown",
      "metadata": {
        "id": "OJzsxBpbJdOj"
      },
      "source": [
        "__Q4a.__ What mean/variance relationship do you see?"
      ]
    },
    {
      "cell_type": "markdown",
      "metadata": {
        "id": "dNMvD-SUJqb2"
      },
      "source": [
        "Data is spread between -10 and 10 interval. We have a modestly increasing mean/variance relationship. That he scatter around the mean BMI is greater when the mean BMI itself is greater."
      ]
    },
    {
      "cell_type": "markdown",
      "metadata": {
        "id": "Wr2Yo7FFJsDA"
      },
      "source": [
        "## **Question 5:**\n",
        "\n",
        "Generate a plot showing the fitted mean BMI as a function of age for Mexican American men.  Include a 95% simultaneous confidence band on your graph."
      ]
    },
    {
      "cell_type": "code",
      "metadata": {
        "id": "SRxw9o1NlB0A",
        "outputId": "eb6d2066-1819-4df9-f609-4e0362e49eee",
        "colab": {
          "base_uri": "https://localhost:8080/",
          "height": 204
        }
      },
      "source": [
        "Q2_df.head()"
      ],
      "execution_count": 47,
      "outputs": [
        {
          "output_type": "execute_result",
          "data": {
            "text/html": [
              "<div>\n",
              "<style scoped>\n",
              "    .dataframe tbody tr th:only-of-type {\n",
              "        vertical-align: middle;\n",
              "    }\n",
              "\n",
              "    .dataframe tbody tr th {\n",
              "        vertical-align: top;\n",
              "    }\n",
              "\n",
              "    .dataframe thead th {\n",
              "        text-align: right;\n",
              "    }\n",
              "</style>\n",
              "<table border=\"1\" class=\"dataframe\">\n",
              "  <thead>\n",
              "    <tr style=\"text-align: right;\">\n",
              "      <th></th>\n",
              "      <th>RIAGENDR</th>\n",
              "      <th>RIDRETH1</th>\n",
              "      <th>RIDAGEYR</th>\n",
              "      <th>BMXBMI</th>\n",
              "      <th>Gender</th>\n",
              "      <th>Etnicity</th>\n",
              "    </tr>\n",
              "  </thead>\n",
              "  <tbody>\n",
              "    <tr>\n",
              "      <th>0</th>\n",
              "      <td>1</td>\n",
              "      <td>3</td>\n",
              "      <td>62</td>\n",
              "      <td>27.8</td>\n",
              "      <td>Male</td>\n",
              "      <td>Non-Hispanic White</td>\n",
              "    </tr>\n",
              "    <tr>\n",
              "      <th>1</th>\n",
              "      <td>1</td>\n",
              "      <td>3</td>\n",
              "      <td>53</td>\n",
              "      <td>30.8</td>\n",
              "      <td>Male</td>\n",
              "      <td>Non-Hispanic White</td>\n",
              "    </tr>\n",
              "    <tr>\n",
              "      <th>2</th>\n",
              "      <td>1</td>\n",
              "      <td>3</td>\n",
              "      <td>78</td>\n",
              "      <td>28.8</td>\n",
              "      <td>Male</td>\n",
              "      <td>Non-Hispanic White</td>\n",
              "    </tr>\n",
              "    <tr>\n",
              "      <th>3</th>\n",
              "      <td>2</td>\n",
              "      <td>3</td>\n",
              "      <td>56</td>\n",
              "      <td>42.4</td>\n",
              "      <td>Female</td>\n",
              "      <td>Non-Hispanic White</td>\n",
              "    </tr>\n",
              "    <tr>\n",
              "      <th>4</th>\n",
              "      <td>2</td>\n",
              "      <td>4</td>\n",
              "      <td>42</td>\n",
              "      <td>20.3</td>\n",
              "      <td>Female</td>\n",
              "      <td>Non-Hispanic Black</td>\n",
              "    </tr>\n",
              "  </tbody>\n",
              "</table>\n",
              "</div>"
            ],
            "text/plain": [
              "   RIAGENDR  RIDRETH1  RIDAGEYR  BMXBMI  Gender            Etnicity\n",
              "0         1         3        62    27.8    Male  Non-Hispanic White\n",
              "1         1         3        53    30.8    Male  Non-Hispanic White\n",
              "2         1         3        78    28.8    Male  Non-Hispanic White\n",
              "3         2         3        56    42.4  Female  Non-Hispanic White\n",
              "4         2         4        42    20.3  Female  Non-Hispanic Black"
            ]
          },
          "metadata": {
            "tags": []
          },
          "execution_count": 47
        }
      ]
    },
    {
      "cell_type": "code",
      "metadata": {
        "id": "5pQ8SEWllccs",
        "outputId": "bc5c3533-61fe-4f72-9fe6-45850e6100e9",
        "colab": {
          "base_uri": "https://localhost:8080/"
        }
      },
      "source": [
        "Q2_df['Etnicity'].unique()"
      ],
      "execution_count": 48,
      "outputs": [
        {
          "output_type": "execute_result",
          "data": {
            "text/plain": [
              "array(['Non-Hispanic White', 'Non-Hispanic Black', 'Mexican American',\n",
              "       'Other Race - Including Multi-Racial', 'Other Hispanic'],\n",
              "      dtype=object)"
            ]
          },
          "metadata": {
            "tags": []
          },
          "execution_count": 48
        }
      ]
    },
    {
      "cell_type": "code",
      "metadata": {
        "id": "ws89Q6FOlwpQ"
      },
      "source": [
        "from statsmodels.sandbox.predict_functional import predict_functional"
      ],
      "execution_count": 50,
      "outputs": []
    },
    {
      "cell_type": "code",
      "metadata": {
        "id": "D3Tf31mVJsvE",
        "outputId": "3f44402c-3d00-4730-d21e-978b7fd81bb2",
        "colab": {
          "base_uri": "https://localhost:8080/",
          "height": 418
        }
      },
      "source": [
        "values = {\"Gender\": \"Male\", \"Etnicity\": \"Mexican American\"}\n",
        "\n",
        "pr, cb, fv = predict_functional(result2, \"RIDAGEYR\",\n",
        "                values=values, ci_method=\"simultaneous\")\n",
        "\n",
        "ax = sns.lineplot(fv, pr, lw=4)\n",
        "ax.fill_between(fv, cb[:, 0], cb[:, 1], color='grey', alpha=0.4)\n",
        "ax.set_xlabel(\"Age\")\n",
        "ax.set_ylabel(\"BMI\")"
      ],
      "execution_count": 51,
      "outputs": [
        {
          "output_type": "stream",
          "text": [
            "/usr/local/lib/python3.6/dist-packages/statsmodels/sandbox/predict_functional.py:171: ValueWarning: 'RIAGENDR', 'RIDRETH1' in data frame but not in summaries or values.\n",
            "  ValueWarning)\n",
            "/usr/local/lib/python3.6/dist-packages/statsmodels/sandbox/predict_functional.py:429: FutureWarning: Support for multi-dimensional indexing (e.g. `obj[:, None]`) is deprecated and will be removed in a future version.  Convert to a numpy array before indexing instead.\n",
            "  bz /= sigma[:, None]\n",
            "/usr/local/lib/python3.6/dist-packages/seaborn/_decorators.py:43: FutureWarning: Pass the following variables as keyword args: x, y. From version 0.12, the only valid positional argument will be `data`, and passing other arguments without an explicit keyword will result in an error or misinterpretation.\n",
            "  FutureWarning\n"
          ],
          "name": "stderr"
        },
        {
          "output_type": "execute_result",
          "data": {
            "text/plain": [
              "Text(0, 0.5, 'BMI')"
            ]
          },
          "metadata": {
            "tags": []
          },
          "execution_count": 51
        },
        {
          "output_type": "display_data",
          "data": {
            "image/png": "[encoded data removed]",
            "text/plain": [
              "<Figure size 432x288 with 1 Axes>"
            ]
          },
          "metadata": {
            "tags": [],
            "needs_background": "light"
          }
        }
      ]
    },
    {
      "cell_type": "markdown",
      "metadata": {
        "id": "4zwNZa0FKBv6"
      },
      "source": [
        "__Q5a.__ According to your graph, what is the longest interval starting at year 30 following which the mean BMI could be constant?  *Hint:* What is the longest horizontal line starting at age 30 that remains within the confidence band?\n"
      ]
    },
    {
      "cell_type": "markdown",
      "metadata": {
        "id": "jfqqG9qcmD69"
      },
      "source": [
        "29.5 - 30.5"
      ]
    },
    {
      "cell_type": "markdown",
      "metadata": {
        "id": "CXabSPv3KJSk"
      },
      "source": [
        "__Q5b.__ Add an additional line and confidence band to the same plot, showing the relationship between age and BMI for Mexican American women.  At what ages do these intervals not overlap?"
      ]
    },
    {
      "cell_type": "markdown",
      "metadata": {
        "id": "ORvMPtsSKP-V"
      },
      "source": [
        ""
      ]
    },
    {
      "cell_type": "markdown",
      "metadata": {
        "id": "AuXOr4HXKQVj"
      },
      "source": [
        "## **Question 6:**\n",
        "\n",
        "Use an added variable plot to assess the linearity of the relationship between BMI and age (when controlling for gender and ethnicity)."
      ]
    },
    {
      "cell_type": "code",
      "metadata": {
        "id": "ggewJo98pB9G",
        "outputId": "b7143016-ce2e-446c-cf68-eb0ef728c216",
        "colab": {
          "base_uri": "https://localhost:8080/",
          "height": 204
        }
      },
      "source": [
        "Q2_df.head()"
      ],
      "execution_count": 54,
      "outputs": [
        {
          "output_type": "execute_result",
          "data": {
            "text/html": [
              "<div>\n",
              "<style scoped>\n",
              "    .dataframe tbody tr th:only-of-type {\n",
              "        vertical-align: middle;\n",
              "    }\n",
              "\n",
              "    .dataframe tbody tr th {\n",
              "        vertical-align: top;\n",
              "    }\n",
              "\n",
              "    .dataframe thead th {\n",
              "        text-align: right;\n",
              "    }\n",
              "</style>\n",
              "<table border=\"1\" class=\"dataframe\">\n",
              "  <thead>\n",
              "    <tr style=\"text-align: right;\">\n",
              "      <th></th>\n",
              "      <th>RIAGENDR</th>\n",
              "      <th>RIDRETH1</th>\n",
              "      <th>RIDAGEYR</th>\n",
              "      <th>BMXBMI</th>\n",
              "      <th>Gender</th>\n",
              "      <th>Etnicity</th>\n",
              "    </tr>\n",
              "  </thead>\n",
              "  <tbody>\n",
              "    <tr>\n",
              "      <th>0</th>\n",
              "      <td>1</td>\n",
              "      <td>3</td>\n",
              "      <td>62</td>\n",
              "      <td>27.8</td>\n",
              "      <td>Male</td>\n",
              "      <td>Non-Hispanic White</td>\n",
              "    </tr>\n",
              "    <tr>\n",
              "      <th>1</th>\n",
              "      <td>1</td>\n",
              "      <td>3</td>\n",
              "      <td>53</td>\n",
              "      <td>30.8</td>\n",
              "      <td>Male</td>\n",
              "      <td>Non-Hispanic White</td>\n",
              "    </tr>\n",
              "    <tr>\n",
              "      <th>2</th>\n",
              "      <td>1</td>\n",
              "      <td>3</td>\n",
              "      <td>78</td>\n",
              "      <td>28.8</td>\n",
              "      <td>Male</td>\n",
              "      <td>Non-Hispanic White</td>\n",
              "    </tr>\n",
              "    <tr>\n",
              "      <th>3</th>\n",
              "      <td>2</td>\n",
              "      <td>3</td>\n",
              "      <td>56</td>\n",
              "      <td>42.4</td>\n",
              "      <td>Female</td>\n",
              "      <td>Non-Hispanic White</td>\n",
              "    </tr>\n",
              "    <tr>\n",
              "      <th>4</th>\n",
              "      <td>2</td>\n",
              "      <td>4</td>\n",
              "      <td>42</td>\n",
              "      <td>20.3</td>\n",
              "      <td>Female</td>\n",
              "      <td>Non-Hispanic Black</td>\n",
              "    </tr>\n",
              "  </tbody>\n",
              "</table>\n",
              "</div>"
            ],
            "text/plain": [
              "   RIAGENDR  RIDRETH1  RIDAGEYR  BMXBMI  Gender            Etnicity\n",
              "0         1         3        62    27.8    Male  Non-Hispanic White\n",
              "1         1         3        53    30.8    Male  Non-Hispanic White\n",
              "2         1         3        78    28.8    Male  Non-Hispanic White\n",
              "3         2         3        56    42.4  Female  Non-Hispanic White\n",
              "4         2         4        42    20.3  Female  Non-Hispanic Black"
            ]
          },
          "metadata": {
            "tags": []
          },
          "execution_count": 54
        }
      ]
    },
    {
      "cell_type": "code",
      "metadata": {
        "id": "LHEYjEB8ou-F"
      },
      "source": [
        "# This is not part of the main Statsmodels API, so needs to be imported separately\n",
        "from statsmodels.graphics.regressionplots import add_lowess"
      ],
      "execution_count": 53,
      "outputs": []
    },
    {
      "cell_type": "code",
      "metadata": {
        "id": "x0bpWR3yKGPL",
        "outputId": "57d5e952-cae0-4309-fdc1-e088f475cefc",
        "colab": {
          "base_uri": "https://localhost:8080/",
          "height": 300
        }
      },
      "source": [
        "# This is an equivalent way to fit a linear regression model, it needs to be\n",
        "# done this way to be able to make the added variable plot\n",
        "model4 = sm.GLM.from_formula(\"BMXBMI ~ RIDAGEYR + Etnicity + Gender\", data=Q2_df)\n",
        "result4 = model4.fit()\n",
        "result4.summary()\n",
        "\n",
        "fig = result4.plot_added_variable(\"RIDAGEYR\")\n",
        "ax = fig.get_axes()[0]\n",
        "ax.lines[0].set_alpha(0.2)\n",
        "_ = add_lowess(ax)"
      ],
      "execution_count": 55,
      "outputs": [
        {
          "output_type": "display_data",
          "data": {
            "image/png": "[encoded data removed]",
            "text/plain": [
              "<Figure size 432x288 with 1 Axes>"
            ]
          },
          "metadata": {
            "tags": [],
            "needs_background": "light"
          }
        }
      ]
    },
    {
      "cell_type": "markdown",
      "metadata": {
        "id": "Nv8aKSsaKdx6"
      },
      "source": [
        "__Q6a.__ What is your interpretation of the added variable plot?"
      ]
    },
    {
      "cell_type": "markdown",
      "metadata": {
        "id": "nxUY5xx4p596"
      },
      "source": [
        "This is a plot that may reveal nonlinearity in the relationship between one covariate and the outcome. Below, we create an added variable plot for age as a predictor of BMI. The red line is an estimate of the relationship between age and BMI. Unlike the relationship in the model, it is not linear, but almost flat. This would imply that BMI increases faster in young ages, in the middle age it is flat and as age increases BMI slightly decreases."
      ]
    }
  ]
}